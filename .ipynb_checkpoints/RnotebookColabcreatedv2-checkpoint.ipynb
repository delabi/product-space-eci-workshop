{
 "cells": [
  {
   "cell_type": "markdown",
   "metadata": {
    "colab_type": "text",
    "collapsed": false,
    "id": "view-in-github"
   },
   "source": [
    "<a href=\"https://colab.research.google.com/github/matteha/product-space-eci-workshop/blob/main/RnotebookColabcreatedv2.ipynb\" target=\"_parent\"><img src=\"https://colab.research.google.com/assets/colab-badge.svg\" alt=\"Open In Colab\"/></a>"
   ]
  },
  {
   "cell_type": "markdown",
   "metadata": {
    "collapsed": false
   },
   "source": [
    "Trade and patents: RCAs, proximities, product space and economic complexity in R\n",
    "================================================================================\n"
   ]
  },
  {
   "cell_type": "code",
   "execution_count": null,
   "metadata": {
    "colab": {
     "base_uri": "https://localhost:8080/"
    },
    "collapsed": false,
    "id": "lc7YfOlMqLoq",
    "outputId": "ebf25485-4457-4b56-fe9f-dea50599eb1a"
   },
   "outputs": [
    {
     "name": "stdout",
     "output_type": "stream",
     "text": [
      "[1] \"installing packages, takes some mins on Google Colab\"\n",
      "[1] \"intalling highcharter\"\n"
     ]
    },
    {
     "name": "stderr",
     "output_type": "stream",
     "text": [
      "Installing package into ‘/usr/local/lib/R/site-library’\n",
      "(as ‘lib’ is unspecified)\n",
      "\n",
      "system (cmd0): /usr/lib/R/bin/R CMD INSTALL\n",
      "\n",
      "also installing the dependencies ‘XML’, ‘TTR’, ‘htmlwidgets’, ‘rlist’, ‘zoo’, ‘xts’, ‘quantmod’, ‘igraph’, ‘rjson’\n",
      "\n",
      "\n",
      "foundpkgs: XML, TTR, htmlwidgets, rlist, zoo, xts, quantmod, igraph, rjson, highcharter, /tmp/RtmpOWEdJ2/downloaded_packages/XML_3.99-0.8.tar.gz, /tmp/RtmpOWEdJ2/downloaded_packages/TTR_0.24.3.tar.gz, /tmp/RtmpOWEdJ2/downloaded_packages/htmlwidgets_1.5.4.tar.gz, /tmp/RtmpOWEdJ2/downloaded_packages/rlist_0.4.6.2.tar.gz, /tmp/RtmpOWEdJ2/downloaded_packages/zoo_1.8-9.tar.gz, /tmp/RtmpOWEdJ2/downloaded_packages/xts_0.12.1.tar.gz, /tmp/RtmpOWEdJ2/downloaded_packages/quantmod_0.4.18.tar.gz, /tmp/RtmpOWEdJ2/downloaded_packages/igraph_1.2.11.tar.gz, /tmp/RtmpOWEdJ2/downloaded_packages/rjson_0.2.21.tar.gz, /tmp/RtmpOWEdJ2/downloaded_packages/highcharter_0.9.4.tar.gz\n",
      "\n",
      "files: /tmp/RtmpOWEdJ2/downloaded_packages/XML_3.99-0.8.tar.gz, \n",
      "\t/tmp/RtmpOWEdJ2/downloaded_packages/TTR_0.24.3.tar.gz, \n",
      "\t/tmp/RtmpOWEdJ2/downloaded_packages/htmlwidgets_1.5.4.tar.gz, \n",
      "\t/tmp/RtmpOWEdJ2/downloaded_packages/rlist_0.4.6.2.tar.gz, \n",
      "\t/tmp/RtmpOWEdJ2/downloaded_packages/zoo_1.8-9.tar.gz, \n",
      "\t/tmp/RtmpOWEdJ2/downloaded_packages/xts_0.12.1.tar.gz, \n",
      "\t/tmp/RtmpOWEdJ2/downloaded_packages/quantmod_0.4.18.tar.gz, \n",
      "\t/tmp/RtmpOWEdJ2/downloaded_packages/igraph_1.2.11.tar.gz, \n",
      "\t/tmp/RtmpOWEdJ2/downloaded_packages/rjson_0.2.21.tar.gz, \n",
      "\t/tmp/RtmpOWEdJ2/downloaded_packages/highcharter_0.9.4.tar.gz\n",
      "\n",
      "1): succeeded '/usr/lib/R/bin/R CMD INSTALL -l '/usr/local/lib/R/site-library' '/tmp/RtmpOWEdJ2/downloaded_packages/XML_3.99-0.8.tar.gz''\n",
      "\n",
      "2): succeeded '/usr/lib/R/bin/R CMD INSTALL -l '/usr/local/lib/R/site-library' '/tmp/RtmpOWEdJ2/downloaded_packages/htmlwidgets_1.5.4.tar.gz''\n",
      "\n",
      "3): succeeded '/usr/lib/R/bin/R CMD INSTALL -l '/usr/local/lib/R/site-library' '/tmp/RtmpOWEdJ2/downloaded_packages/zoo_1.8-9.tar.gz''\n",
      "\n"
     ]
    }
   ],
   "source": [
    "# print(installed.packages())\n",
    "print('installing packages, takes some mins on Google Colab')\n",
    "print('intalling highcharter')\n",
    "install.packages('highcharter',verbose=TRUE)\n",
    "print('intalling maps')\n",
    "install.packages('maps',verbose=TRUE)\n",
    "print('intalling tidyverse')\n",
    "install.packages('tidyverse',verbose=TRUE)\n",
    "print('intalling reticulate')\n",
    "install.packages('reticulate',verbose=TRUE)\n",
    "print('intalling foreign')\n",
    "install.packages('foreign',verbose=TRUE)\n",
    "print('intalling igraph')\n",
    "install.packages('igraph',verbose=TRUE)\n",
    "print('intalling imager')\n",
    "install.packages('imager',verbose=TRUE)\n",
    "print('intalling economiccomplexity')\n",
    "install.packages('economiccomplexity',verbose=TRUE)\n",
    "print('intalling tidylog')\n",
    "install.packages('tidylog',verbose=TRUE) # for join (merge) statistics, e.g. left_only\n",
    "print('intalling arrow')\n",
    "install.packages('arrow',verbose=TRUE)\n",
    "print('done installing packages')\n"
   ]
  },
  {
   "cell_type": "code",
   "execution_count": 4,
   "metadata": {
    "collapsed": false
   },
   "outputs": [
    {
     "name": "stdout",
     "output_type": "stream",
     "text": [
      "[1] \"TEST\"\n"
     ]
    },
    {
     "name": "stderr",
     "output_type": "stream",
     "text": [
      "── \u001b[1mAttaching packages\u001b[22m ─────────────────────────────────────── tidyverse 1.3.1 ──\n",
      "\n"
     ]
    },
    {
     "name": "stderr",
     "output_type": "stream",
     "text": [
      "\u001b[32m✔\u001b[39m \u001b[34mggplot2\u001b[39m 3.3.5     \u001b[32m✔\u001b[39m \u001b[34mpurrr  \u001b[39m 0.3.4\n",
      "\u001b[32m✔\u001b[39m \u001b[34mtibble \u001b[39m 3.1.6     \u001b[32m✔\u001b[39m \u001b[34mdplyr  \u001b[39m 1.0.7\n",
      "\u001b[32m✔\u001b[39m \u001b[34mtidyr  \u001b[39m 1.1.4     \u001b[32m✔\u001b[39m \u001b[34mstringr\u001b[39m 1.4.0\n",
      "\u001b[32m✔\u001b[39m \u001b[34mreadr  \u001b[39m 2.1.1     \u001b[32m✔\u001b[39m \u001b[34mforcats\u001b[39m 0.5.1\n",
      "\n"
     ]
    },
    {
     "name": "stderr",
     "output_type": "stream",
     "text": [
      "── \u001b[1mConflicts\u001b[22m ────────────────────────────────────────── tidyverse_conflicts() ──\n",
      "\u001b[31m✖\u001b[39m \u001b[34mdplyr\u001b[39m::\u001b[32mfilter()\u001b[39m masks \u001b[34mstats\u001b[39m::filter()\n",
      "\u001b[31m✖\u001b[39m \u001b[34mdplyr\u001b[39m::\u001b[32mlag()\u001b[39m    masks \u001b[34mstats\u001b[39m::lag()\n",
      "\n"
     ]
    }
   ],
   "source": [
    "print(\"TEST\")\n"
   ]
  },
  {
   "cell_type": "code",
   "execution_count": null,
   "metadata": {
    "collapsed": false
   },
   "outputs": [],
   "source": []
  }
 ],
 "metadata": {
  "colab": {
   "authorship_tag": "ABX9TyNAIvQ3KTAJsbbMG54jxSnS",
   "include_colab_link": true,
   "name": "Untitled6.ipynb",
   "provenance": []
  },
  "kernelspec": {
   "argv": [
    "/Library/Frameworks/R.framework/Resources/bin/R",
    "--slave",
    "-e",
    "IRkernel::main()",
    "--args",
    "{connection_file}"
   ],
   "display_name": "R",
   "env": null,
   "interrupt_mode": "signal",
   "language": "R",
   "metadata": null,
   "name": "ir"
  },
  "language_info": {
   "name": "R"
  },
  "name": "RnotebookColabcreatedv2.ipynb"
 },
 "nbformat": 4,
 "nbformat_minor": 0
}
