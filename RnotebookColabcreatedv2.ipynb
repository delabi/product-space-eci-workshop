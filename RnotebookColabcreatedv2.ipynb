{
 "cells": [
  {
   "cell_type": "markdown",
   "metadata": {
    "colab_type": "text",
    "collapsed": false,
    "id": "view-in-github"
   },
   "source": [
    "<a href=\"https://colab.research.google.com/github/matteha/product-space-eci-workshop/blob/main/RnotebookColabcreatedv2.ipynb\" target=\"_parent\"><img src=\"https://colab.research.google.com/assets/colab-badge.svg\" alt=\"Open In Colab\"/></a>"
   ]
  },
  {
   "cell_type": "markdown",
   "metadata": {
    "collapsed": false
   },
   "source": [
    "Trade and patents: RCAs, proximities, product space and economic complexity in R\n",
    "================================================================================\n"
   ]
  },
  {
   "cell_type": "code",
   "execution_count": null,
   "metadata": {
    "colab": {
     "base_uri": "https://localhost:8080/"
    },
    "collapsed": false,
    "id": "lc7YfOlMqLoq",
    "outputId": "ebf25485-4457-4b56-fe9f-dea50599eb1a"
   },
   "outputs": [
    {
     "name": "stdout",
     "output_type": "stream",
     "text": [
      "[1] \"installing packages, takes some mins on Google Colab\"\n",
      "[1] \"intalling highcharter\"\n"
     ]
    },
    {
     "name": "stderr",
     "output_type": "stream",
     "text": [
      "Installing package into ‘/usr/local/lib/R/site-library’\n",
      "(as ‘lib’ is unspecified)\n",
      "\n",
      "system (cmd0): /usr/lib/R/bin/R CMD INSTALL\n",
      "\n",
      "also installing the dependencies ‘XML’, ‘TTR’, ‘htmlwidgets’, ‘rlist’, ‘zoo’, ‘xts’, ‘quantmod’, ‘igraph’, ‘rjson’\n",
      "\n",
      "\n",
      "foundpkgs: XML, TTR, htmlwidgets, rlist, zoo, xts, quantmod, igraph, rjson, highcharter, /tmp/RtmpOWEdJ2/downloaded_packages/XML_3.99-0.8.tar.gz, /tmp/RtmpOWEdJ2/downloaded_packages/TTR_0.24.3.tar.gz, /tmp/RtmpOWEdJ2/downloaded_packages/htmlwidgets_1.5.4.tar.gz, /tmp/RtmpOWEdJ2/downloaded_packages/rlist_0.4.6.2.tar.gz, /tmp/RtmpOWEdJ2/downloaded_packages/zoo_1.8-9.tar.gz, /tmp/RtmpOWEdJ2/downloaded_packages/xts_0.12.1.tar.gz, /tmp/RtmpOWEdJ2/downloaded_packages/quantmod_0.4.18.tar.gz, /tmp/RtmpOWEdJ2/downloaded_packages/igraph_1.2.11.tar.gz, /tmp/RtmpOWEdJ2/downloaded_packages/rjson_0.2.21.tar.gz, /tmp/RtmpOWEdJ2/downloaded_packages/highcharter_0.9.4.tar.gz\n",
      "\n",
      "files: /tmp/RtmpOWEdJ2/downloaded_packages/XML_3.99-0.8.tar.gz, \n",
      "\t/tmp/RtmpOWEdJ2/downloaded_packages/TTR_0.24.3.tar.gz, \n",
      "\t/tmp/RtmpOWEdJ2/downloaded_packages/htmlwidgets_1.5.4.tar.gz, \n",
      "\t/tmp/RtmpOWEdJ2/downloaded_packages/rlist_0.4.6.2.tar.gz, \n",
      "\t/tmp/RtmpOWEdJ2/downloaded_packages/zoo_1.8-9.tar.gz, \n",
      "\t/tmp/RtmpOWEdJ2/downloaded_packages/xts_0.12.1.tar.gz, \n",
      "\t/tmp/RtmpOWEdJ2/downloaded_packages/quantmod_0.4.18.tar.gz, \n",
      "\t/tmp/RtmpOWEdJ2/downloaded_packages/igraph_1.2.11.tar.gz, \n",
      "\t/tmp/RtmpOWEdJ2/downloaded_packages/rjson_0.2.21.tar.gz, \n",
      "\t/tmp/RtmpOWEdJ2/downloaded_packages/highcharter_0.9.4.tar.gz\n",
      "\n",
      "1): succeeded '/usr/lib/R/bin/R CMD INSTALL -l '/usr/local/lib/R/site-library' '/tmp/RtmpOWEdJ2/downloaded_packages/XML_3.99-0.8.tar.gz''\n",
      "\n",
      "2): succeeded '/usr/lib/R/bin/R CMD INSTALL -l '/usr/local/lib/R/site-library' '/tmp/RtmpOWEdJ2/downloaded_packages/htmlwidgets_1.5.4.tar.gz''\n",
      "\n",
      "3): succeeded '/usr/lib/R/bin/R CMD INSTALL -l '/usr/local/lib/R/site-library' '/tmp/RtmpOWEdJ2/downloaded_packages/zoo_1.8-9.tar.gz''\n",
      "\n"
     ]
    }
   ],
   "source": [
    "# print(installed.packages())\n",
    "print('installing packages, takes some mins on Google Colab')\n",
    "print('intalling highcharter')\n",
    "install.packages('highcharter',verbose=TRUE)\n",
    "print('intalling maps')\n",
    "install.packages('maps',verbose=TRUE)\n",
    "print('intalling tidyverse')\n",
    "install.packages('tidyverse',verbose=TRUE)\n",
    "print('intalling reticulate')\n",
    "install.packages('reticulate',verbose=TRUE)\n",
    "print('intalling foreign')\n",
    "install.packages('foreign',verbose=TRUE)\n",
    "print('intalling igraph')\n",
    "install.packages('igraph',verbose=TRUE)\n",
    "print('intalling imager')\n",
    "install.packages('imager',verbose=TRUE)\n",
    "print('intalling economiccomplexity')\n",
    "install.packages('economiccomplexity',verbose=TRUE)\n",
    "print('intalling tidylog')\n",
    "install.packages('tidylog',verbose=TRUE) # for join (merge) statistics, e.g. left_only\n",
    "print('intalling arrow')\n",
    "install.packages('arrow',verbose=TRUE)\n",
    "print('done installing packages')\n"
   ]
  },
  {
   "cell_type": "code",
   "execution_count": 4,
   "metadata": {
    "collapsed": false
   },
   "outputs": [
    {
     "name": "stdout",
     "output_type": "stream",
     "text": [
      "[1] \"TEST\"\n"
     ]
    },
    {
     "name": "stderr",
     "output_type": "stream",
     "text": [
      "── \u001b[1mAttaching packages\u001b[22m ─────────────────────────────────────── tidyverse 1.3.1 ──\n",
      "\n"
     ]
    },
    {
     "name": "stderr",
     "output_type": "stream",
     "text": [
      "\u001b[32m✔\u001b[39m \u001b[34mggplot2\u001b[39m 3.3.5     \u001b[32m✔\u001b[39m \u001b[34mpurrr  \u001b[39m 0.3.4\n",
      "\u001b[32m✔\u001b[39m \u001b[34mtibble \u001b[39m 3.1.6     \u001b[32m✔\u001b[39m \u001b[34mdplyr  \u001b[39m 1.0.7\n",
      "\u001b[32m✔\u001b[39m \u001b[34mtidyr  \u001b[39m 1.1.4     \u001b[32m✔\u001b[39m \u001b[34mstringr\u001b[39m 1.4.0\n",
      "\u001b[32m✔\u001b[39m \u001b[34mreadr  \u001b[39m 2.1.1     \u001b[32m✔\u001b[39m \u001b[34mforcats\u001b[39m 0.5.1\n",
      "\n"
     ]
    },
    {
     "name": "stderr",
     "output_type": "stream",
     "text": [
      "── \u001b[1mConflicts\u001b[22m ────────────────────────────────────────── tidyverse_conflicts() ──\n",
      "\u001b[31m✖\u001b[39m \u001b[34mdplyr\u001b[39m::\u001b[32mfilter()\u001b[39m masks \u001b[34mstats\u001b[39m::filter()\n",
      "\u001b[31m✖\u001b[39m \u001b[34mdplyr\u001b[39m::\u001b[32mlag()\u001b[39m    masks \u001b[34mstats\u001b[39m::lag()\n",
      "\n"
     ]
    }
   ],
   "source": [
    "print(\"TEST\")\n"
   ]
  },
  {
   "cell_type": "code",
   "execution_count": null,
   "metadata": {
    "collapsed": false
   },
   "outputs": [],
   "source": []
  },
  {
   "cell_type": "markdown",
   "metadata": {
    "collapsed": false
   },
   "source": [
    "Trade and patents: RCAs, proximities, product space and economic complexity in R\n",
    "================================================================================\n",
    "\n"
   ]
  },
  {
   "cell_type": "markdown",
   "metadata": {
    "collapsed": false
   },
   "source": [
    "February 2022, Matte Hartog (matte<sub>hartog</sub>@hks.harvard.edu)\n",
    "\n"
   ]
  },
  {
   "cell_type": "markdown",
   "metadata": {
    "collapsed": false
   },
   "source": [
    "## Notes\n",
    "\n"
   ]
  },
  {
   "cell_type": "markdown",
   "metadata": {
    "collapsed": false
   },
   "source": [
    "Google colab link Python:\n",
    "\n",
    "[https://colab.research.google.com/github/matteha/product-space-eci-workshop/blob/main/product-space-eci-workshop.ipynb](https://colab.research.google.com/github/matteha/product-space-eci-workshop/blob/main/product-space-eci-workshop.ipynb)\n",
    "\n",
    "Google colab link in R:\n",
    "\n",
    "[https://colab.research.google.com/#create=true&language=r](https://colab.research.google.com/#create=true&language=r)\n",
    "\n",
    "To run code in Google Colab, you need a Google account.\n",
    "\n"
   ]
  },
  {
   "cell_type": "markdown",
   "metadata": {
    "collapsed": false
   },
   "source": [
    "## To do first\n",
    "\n"
   ]
  },
  {
   "cell_type": "markdown",
   "metadata": {
    "collapsed": false
   },
   "source": [
    "In Google Colab:\n",
    "\n",
    "1.  Turn on Table of Contents: (in browser, click on &rsquo;View&rsquo; in top, then &rsquo;Table of Contents&rsquo;)\n",
    "\n",
    "2.  Expand all sections (&rsquo;View&rsquo; > &rsquo;Expand Sections&rsquo; if not greyed out)\n",
    "\n"
   ]
  },
  {
   "cell_type": "markdown",
   "metadata": {
    "collapsed": false
   },
   "source": [
    "## Outline of lab session\n",
    "\n"
   ]
  },
  {
   "cell_type": "markdown",
   "metadata": {
    "collapsed": false
   },
   "source": [
    "-   Introduction to trade data\n",
    "\n",
    "-   Calculating RCAs, co-occurences and proximities (trade + patent data)\n",
    "\n",
    "-   Product space visualization\n",
    "\n",
    "-   Calculating Product Complexity / Economic Complexity (by destination)\n",
    "\n"
   ]
  },
  {
   "cell_type": "markdown",
   "metadata": {
    "collapsed": false
   },
   "source": [
    "## Trade data\n",
    "\n"
   ]
  },
  {
   "cell_type": "markdown",
   "metadata": {
    "collapsed": false
   },
   "source": [
    "### Background\n",
    "\n"
   ]
  },
  {
   "cell_type": "markdown",
   "metadata": {
    "collapsed": false
   },
   "source": [
    "The product space is, as well as its derivations / related measures such as economic complexity and the Growth&rsquo;s annual rankings of countries by economic complexity (at [https://atlas.cid.harvard.edu](https://atlas.cid.harvard.edu)), are based on trade data between countries.\n",
    "\n",
    "The Growth Lab maintains and periodically updates a cleaned version of trade data at Harvard Dataverse:\n",
    "\n",
    "[https://dataverse.harvard.edu/dataverse/atlas](https://dataverse.harvard.edu/dataverse/atlas)\n",
    "\n",
    "This dataset contains bilateral trade data among 235 countries and territories in thousands of different products categories (a description of the data can be found at: [http://atlas.cid.harvard.edu/downloads](http://atlas.cid.harvard.edu/downloads)).\n",
    "\n",
    "How does the data look like? We will explore the data in R whilst mainly using the &rsquo;tidyverse&rsquo; packages (most popular R packages for data analysis).\n",
    "\n"
   ]
  },
  {
   "cell_type": "markdown",
   "metadata": {
    "collapsed": false
   },
   "source": [
    "#### Footnote on trade and services (ICT, tourism, etc.):\n",
    "\n"
   ]
  },
  {
   "cell_type": "markdown",
   "metadata": {
    "collapsed": false
   },
   "source": [
    "-   Services and tourism are included in the Growth Lab&rsquo;s Atlas and trade data as well as of September 2018. See announcement at:\n",
    "\n",
    "[https://atlas.cid.harvard.edu/announcements/2018/services-press-release](https://atlas.cid.harvard.edu/announcements/2018/services-press-release)\n",
    "\n",
    "Obtained from IMF, trade in services covers four categories of economic activities between producers and consumers across borders:\n",
    "\n",
    "-   services supplied from one country to another (e.g. call centers)\n",
    "-   consumption in other countries (e.g. international tourism)\n",
    "-   firms with branches in other countries (e.g. bank branches overseas)\n",
    "-   individuals supplying services in another country (e.g. IT consultant abroad)\n",
    "\n"
   ]
  },
  {
   "cell_type": "markdown",
   "metadata": {
    "collapsed": false
   },
   "source": [
    "### Install necessary R packages\n",
    "\n"
   ]
  },
  {
   "cell_type": "code",
   "execution_count": null,
   "metadata": {
    "collapsed": false
   },
   "outputs": [],
   "source": [
    "# need to set this in google colab? to not get interactive prompt\n",
    "# options(install.packages.compile.from.source = \"always\")\n",
    "# set to noone when on M1 Mac\n",
    "# options(install.packages.compile.from.source = \"always\")\n",
    "print(installed.packages())\n",
    "install.packages('highcharter')\n",
    "install.packages('maps')\n",
    "install.packages('tidyverse')\n",
    "install.packages('reticulate')\n",
    "install.packages('foreign')\n",
    "install.packages('igraph')\n",
    "install.packages('imager')\n",
    "install.packages('economiccomplexity')\n",
    "install.packages('tidylog') # for join (merge) statistics, e.g. left_only\n",
    "install.packages('arrow')"
   ]
  },
  {
   "cell_type": "markdown",
   "metadata": {
    "collapsed": false
   },
   "source": [
    "### Load necessary R packages\n",
    "\n"
   ]
  },
  {
   "cell_type": "code",
   "execution_count": null,
   "metadata": {
    "collapsed": false
   },
   "outputs": [],
   "source": [
    "library('foreign') # to load STATA files\n",
    "library('glue') # to concatenate strings / variables\n",
    "library('igraph') # network analysis\n",
    "library('imager') # to load / show images\n",
    "library(tidylog, warn.conflicts = FALSE) # for join statistics, e.g. left_only\n",
    "library('economiccomplexity')\n",
    "library(\"reticulate\") # R - Python interaction\n",
    "# -- if reticulate throws error on OSX:\n",
    "# -- brew install xquartz --cask\n",
    "library('highcharter')\n",
    "library('maps')\n",
    "library('tidyverse') # data analysis standard toolkit\n",
    "library('arrow')\n",
    "# -- readr: for reading data\n",
    "# -- ggplot2: for plotting\n",
    "# -- tibble: for creating “tibbles”; these are the tidyverse’s take on data frames.\n",
    "# -- dplyr: for manipulating tibbles (or data frames); creating new variables, calculating summary statistics etc.\n",
    "# -- tidyr: for reshaping data (making it from long to wide format, and vice versa)\n",
    "# -- purrr: for functional programming.\n",
    "# -- stringr: for manipulating strings\n",
    "# -- forcats: FOR CATegorical data (factors); this makes it easier to reorder and rename the levels in factor variables.\n",
    "# -- library(datasets) # - Built in datasets\n",
    "print('loaded libraries')"
   ]
  },
  {
   "cell_type": "markdown",
   "metadata": {
    "collapsed": false
   },
   "source": [
    "### Download trade dataset and load into memory\n",
    "\n"
   ]
  },
  {
   "cell_type": "markdown",
   "metadata": {
    "collapsed": false
   },
   "source": [
    "Trade data is constantly updated by the Growth Lab, you can find the most recent version of the trade data at our Dataverse here:\n",
    "\n",
    "[https://dataverse.harvard.edu/dataverse/atlas](https://dataverse.harvard.edu/dataverse/atlas)\n",
    "\n",
    "Below we&rsquo;re using the trade data using the HS classification (&rsquo;Harmonized System 1992&rsquo; - alternative is &rsquo;SITC - Standard Industrial Trade Classification&rsquo; which goes back further in time) at the 4 digit level (alternative is 2 or 6 - 6 has more detail). It can be found here:\n",
    "\n",
    "[https://dataverse.harvard.edu/file.xhtml?fileId=4946953&version=4.0](https://dataverse.harvard.edu/file.xhtml?fileId=4946953&version=4.0)\n",
    "\n",
    "To load the data directly we&rsquo;re using a Dropbox link rather than the Dataverse which requires one to fill in an agreement form first.\n",
    "\n",
    "(The trade file we&rsquo;re using below is a large file because it includes country / product strings, takes 1 - 3 minutes to load. One can also merge strings in separately but for illustrative purposes it is easier to have them all preloaded - also to avoid memory problems that R quickly runs into).\n",
    "\n"
   ]
  },
  {
   "cell_type": "code",
   "execution_count": null,
   "metadata": {
    "collapsed": false
   },
   "outputs": [],
   "source": [
    "print('loading trade data - takes 1 - 3 mins')\n",
    "df_orig <- read_csv('https://www.dropbox.com/s/3n4r4qo4j0jjpln/trade.csv?dl=1')\n",
    "print('trade data loaded')"
   ]
  },
  {
   "cell_type": "markdown",
   "metadata": {
    "collapsed": false
   },
   "source": [
    "### Exploring the trade data\n",
    "\n"
   ]
  },
  {
   "cell_type": "markdown",
   "metadata": {
    "collapsed": false
   },
   "source": [
    "#### Structure of dataset\n",
    "\n"
   ]
  },
  {
   "cell_type": "markdown",
   "metadata": {
    "collapsed": false
   },
   "source": [
    "Our $X_{cpt}$ matrix:\n",
    "\n"
   ]
  },
  {
   "cell_type": "code",
   "execution_count": null,
   "metadata": {
    "collapsed": false
   },
   "outputs": [],
   "source": [
    "sample_n(df_orig,10) # show 10 random rows"
   ]
  },
  {
   "cell_type": "markdown",
   "metadata": {
    "collapsed": false
   },
   "source": [
    "#### What years are in the data?\n",
    "\n"
   ]
  },
  {
   "cell_type": "code",
   "execution_count": null,
   "metadata": {
    "collapsed": false
   },
   "outputs": [],
   "source": [
    "unique(df_orig$year)"
   ]
  },
  {
   "cell_type": "markdown",
   "metadata": {
    "collapsed": false
   },
   "source": [
    "#### How many products are in the data?\n",
    "\n"
   ]
  },
  {
   "cell_type": "code",
   "execution_count": null,
   "metadata": {
    "collapsed": false
   },
   "outputs": [],
   "source": [
    "length(unique(df_orig$product_name))"
   ]
  },
  {
   "cell_type": "markdown",
   "metadata": {
    "collapsed": false
   },
   "source": [
    "#### Finding specific countries / products based on partial string matching\n",
    "\n"
   ]
  },
  {
   "cell_type": "markdown",
   "metadata": {
    "collapsed": false
   },
   "source": [
    "If you&rsquo;re interested in finding data on certain countries / products but not sure how exactly these are spelled in the data (or are spelled with / without e.g. capital letters).\n",
    "\n"
   ]
  },
  {
   "cell_type": "code",
   "execution_count": null,
   "metadata": {
    "collapsed": false
   },
   "outputs": [],
   "source": [
    "STRING <- 'Netherland'\n",
    "df_orig %>%\n",
    "  filter(grepl(STRING, country_name)) %>%\n",
    "  distinct(country_name)\n",
    "\n",
    "# You can also ignore lower/uppercase here (e.g. 'wine' vs 'Wine' may be relevant)\n",
    "STRING = 'wine'\n",
    "df_orig %>%\n",
    "  filter(grepl(STRING, product_name, ignore.case = TRUE)) %>%\n",
    "  distinct(product_name)"
   ]
  },
  {
   "cell_type": "markdown",
   "metadata": {
    "collapsed": false
   },
   "source": [
    "#### Example: What were the major export products of the USA in 2012?\n",
    "\n"
   ]
  },
  {
   "cell_type": "code",
   "execution_count": null,
   "metadata": {
    "collapsed": false
   },
   "outputs": [],
   "source": [
    "# create a 'dataframe' called 'df2' with only exports from USA in 2012\n",
    "df_orig %>%\n",
    "  filter(country_code == 'USA' & year == 2012) %>%\n",
    "  group_by(product_code,product_name) %>%\n",
    "  summarise(sum_export_value = sum(export_value)) %>%\n",
    "  arrange(desc(sum_export_value)) %>%\n",
    "  head()"
   ]
  },
  {
   "cell_type": "markdown",
   "metadata": {
    "collapsed": false
   },
   "source": [
    "#### Example: How did exports of Cars evolve over time in the USA?\n",
    "\n"
   ]
  },
  {
   "cell_type": "markdown",
   "metadata": {
    "collapsed": false
   },
   "source": [
    "From about 10 billion USD up to almost $60 billion USD.\n",
    "\n"
   ]
  },
  {
   "cell_type": "code",
   "execution_count": null,
   "metadata": {
    "collapsed": false
   },
   "outputs": [],
   "source": [
    "df_orig %>%\n",
    "  filter(country_code == 'USA' & product_code == 8703) %>%\n",
    "  ggplot(aes(x = year, y = export_value)) + geom_line()"
   ]
  },
  {
   "cell_type": "markdown",
   "metadata": {
    "collapsed": false
   },
   "source": [
    "## Revealed comparative advantage (RCA)\n",
    "\n"
   ]
  },
  {
   "cell_type": "markdown",
   "metadata": {
    "collapsed": false
   },
   "source": [
    "What products are countries specialized in? For that, following Hidalgo et al. (2007), we calculate the Revealed Comparative Advantage (RCA) of each country-product pair: how much a country &rsquo;over-exports&rsquo; a product in comparison to all other countries.\n",
    "\n",
    "Technically this is the Balassa index of comparative advantage, calculated as follows for product $p$ and country $c$ at time $t$:\n",
    "\n",
    "\\begin{equation} \\label{e_RCA}\n",
    "{RCA}_{cpt}=\\frac{X_{cpt}/X_{ct}}{X_{pt}/X_{t}}\n",
    "\\tag{1}\n",
    "\\end{equation}\n",
    "\n",
    "where $X_{cpt}$ represents the total value of country $c$’s exports of product $p$ at time $t$ across all importers. An omitted subscript indicates a summation over the omitted dimension, e.g.: $X_{t}=\\sum \\limits_{c,p,t} X_{cpt}$.\n",
    "\n",
    "A product-country pair with $RCA>1$ means that the product is over-represented in the country&rsquo;s export basket.\n",
    "\n",
    "We use the original trade dataset (&rsquo;df<sub>orig</sub>&rsquo;) that is loaded into memory, calculating RCAs as follows:\n",
    "\n"
   ]
  },
  {
   "cell_type": "code",
   "execution_count": null,
   "metadata": {
    "collapsed": false
   },
   "outputs": [],
   "source": [
    "calc_rca <- function(data,region_col,product_col,time_col,value_col) {\n",
    "    # - add all possible products for each country with export value 0\n",
    "    # - else matrices later on will have missing values in them, complicating calculations\n",
    "    df_all <- data %>%\n",
    "    expand(time_col,region_col, product_col)\n",
    "    # merge data back in\n",
    "    df_all <- left_join(df_all,data,by=c('time_col','region_col','product_col'))\n",
    "    # set export value to 0 if missing (fills in the extra combinations created)\n",
    "    df_all <- df_all %>%\n",
    "      mutate(value_col = replace_na(value_col, 0))\n",
    "    # define RCA properties\n",
    "    # -- Xcpt\n",
    "    df_all <- df_all %>% mutate(Xcpt = value_col)\n",
    "    # -- Xct\n",
    "    df_all <- df_all %>%\n",
    "      group_by(region_col,time_col) %>%\n",
    "      mutate(Xct = sum(value_col))\n",
    "    # -- Xct\n",
    "    df_all <- df_all %>%\n",
    "      group_by(time_col,region_col) %>%\n",
    "      mutate(Xct = sum(value_col))\n",
    "    # -- Xpt\n",
    "    df_all <- df_all %>%\n",
    "      group_by(time_col,product_col) %>%\n",
    "      mutate(Xpt = sum(value_col))\n",
    "    # -- Xt\n",
    "    df_all <- df_all %>%\n",
    "      group_by(time_col) %>%\n",
    "      mutate(Xt = sum(value_col))\n",
    "    # -- RCAcpt\n",
    "    df_all$RCAcpt = (df_all$Xcpt/df_all$Xct)/(df_all$Xpt/df_all$Xt)\n",
    "    # set RCAcpt to 0 if missing, e.g. if product / country have 0 (total) exports\n",
    "    df_all <- df_all %>%\n",
    "      dplyr::mutate(RCAcpt = replace_na(RCAcpt, 0))\n",
    "    # drop the properties\n",
    "    #df_all.drop(['Xcpt','Xct','Xpt','Xt'],axis=1,inplace=True,errors='ignore')\n",
    "    df_all <- select(df_all, -c(Xcpt,Xct,Xpt,Xt))\n",
    "    #####\n",
    "    return(df_all)\n",
    "}"
   ]
  },
  {
   "cell_type": "markdown",
   "metadata": {
    "collapsed": false
   },
   "source": [
    "Calculate RCAs:\n",
    "\n"
   ]
  },
  {
   "cell_type": "code",
   "execution_count": null,
   "metadata": {
    "collapsed": false
   },
   "outputs": [],
   "source": [
    "# rename columns accordingly\n",
    "df_rca <- df_orig %>%\n",
    "  rename(time_col = year,\n",
    "         region_col = country_name,\n",
    "         product_col = product_name,\n",
    "         value_col = export_value)\n",
    "\n",
    "# calculate RCA\n",
    "df_rca <- calc_rca(data=df_rca,region_col,product_col,time_col,value_col)\n",
    "print('df_rca ready')"
   ]
  },
  {
   "cell_type": "markdown",
   "metadata": {
    "collapsed": false
   },
   "source": [
    "### Sample of dataset\n",
    "\n"
   ]
  },
  {
   "cell_type": "code",
   "execution_count": null,
   "metadata": {
    "collapsed": false
   },
   "outputs": [],
   "source": [
    "sample_n(df_rca,5)"
   ]
  },
  {
   "cell_type": "markdown",
   "metadata": {
    "collapsed": false
   },
   "source": [
    "### Example: What products are The Netherlands and Saudi Arabia specialized in, in 2000?\n",
    "\n"
   ]
  },
  {
   "cell_type": "code",
   "execution_count": null,
   "metadata": {
    "collapsed": false
   },
   "outputs": [],
   "source": [
    "# The Netherlands\n",
    "print(\"\\n The Netherlands: \\n\")\n",
    "\n",
    "df_rca %>%\n",
    "  filter(region_col=='Netherlands', time_col==2000) %>%\n",
    "  arrange(desc(RCAcpt)) %>%\n",
    "  select(product_col,RCAcpt) %>%\n",
    "  head(n=5)\n",
    "\n",
    "print(\"\\n Saudi Arabia:\\n\")\n",
    "\n",
    "# Saudi Arabia\n",
    "df_rca %>%\n",
    "  filter(region_col=='Saudi Arabia', time_col==2000) %>%\n",
    "  arrange(desc(RCAcpt)) %>%\n",
    "  select(product_col,RCAcpt) %>%\n",
    "  head(n=5)"
   ]
  },
  {
   "cell_type": "markdown",
   "metadata": {
    "collapsed": false
   },
   "source": [
    "## Product proximity (based on co-occurences)\n",
    "\n"
   ]
  },
  {
   "cell_type": "markdown",
   "metadata": {
    "collapsed": false
   },
   "source": [
    "### Calculating product co-occurences and proximities\n",
    "\n"
   ]
  },
  {
   "cell_type": "markdown",
   "metadata": {
    "collapsed": false
   },
   "source": [
    "Knowing which countries are specialized in which products, the next step analyzes the extent to which two products are over-represented ($RCA>1$) in the same countries.\n",
    "\n",
    "As noted in the lecture, the main insight supporting this inference is that countries will produce combinations of products that require similar capabilities.\n",
    "\n",
    "Hence we infer capabilities from trade patterns, because the capabilities of a country is a priori hard to determine and capabilities themselves are hard to observe.\n",
    "\n",
    "Hence, **the degree to which two products cooccur in the export baskets of the same countries provides an indication of how similar the capability requirements of the two products are**.\n",
    "\n",
    "We will calculate the co-occurence matrix of products below.\n",
    "\n",
    "First, a product is &rsquo;present&rsquo; in a country if the country exports the product with $RCA>1$:\n",
    "\n",
    "\\begin{equation} \\label{e_presence}\n",
    "M_{cp}=\\begin{cases}\n",
    "    1 & \\text{if ${RCA}_{cp}>1$}; \\\\\n",
    "    0 & \\text{elsewhere.}\n",
    "    \\end{cases}\n",
    "\\tag{2}\n",
    "\\end{equation}\n",
    "\n"
   ]
  },
  {
   "cell_type": "code",
   "execution_count": null,
   "metadata": {
    "collapsed": false
   },
   "outputs": [],
   "source": [
    "df_rca$Mcp <- 0\n",
    "df_rca[df_rca$RCAcpt>1, 'Mcp'] <- 1"
   ]
  },
  {
   "cell_type": "markdown",
   "metadata": {
    "collapsed": false
   },
   "source": [
    "Next, we calculate how often two products are present in the same countries, using the Mcp threshold:\n",
    "\n",
    "\\begin{equation} \\label{e_cooc}\n",
    "C_{pp'}=\\sum \\limits_{c} M_{cp} M_{cp'}\n",
    "\\tag{3}\n",
    "\\end{equation}\n",
    "\n",
    "To get an accurate value of product proximity, we need to correct these numbers for the extent to which products are present in general in trade flows between countries. To do so, Hidalgo et al. (2007) calculate product proximity as follows, defining it as the minimum of two conditional probabilities:\n",
    "\n",
    "\\begin{equation}\n",
    "C_{ppt'}  = \\min \\left( \\frac{C_{pp'}}{C_{p}},\\frac{C_{pp'}}{C_{p'}} \\right)\n",
    "\\tag{4}\n",
    "\\end{equation}\n",
    "\n",
    "The minimum here is used to elimate a &rsquo;false positive&rsquo;.\n",
    "\n",
    "Hence we correct for how prevalent specialization in product $i$ and product $j$ is across countries (i.e. the &rsquo;ubiquity&rsquo; of the products).\n",
    "\n",
    "We will use the first year of data in the dataset, **1995,** below.\n",
    "\n",
    "Note that to reduce yearly votality, Hidalgo et al. (2007) aggregate the trade data across multiple years (1998-2000) when calculating RCAs and product proximities for the product space. (However, when comparing the product space across years, they do use individual years).\n",
    "\n",
    "Function to calculate cppt\n",
    "\n"
   ]
  },
  {
   "cell_type": "code",
   "execution_count": null,
   "metadata": {
    "collapsed": false
   },
   "outputs": [],
   "source": [
    "calc_cppt <- function(data,region_col,product_col) {\n",
    "  # create product_col_2 column (to create all combinations of products within columns)\n",
    "  #  rename and create prouct col 2\n",
    "  data$product_col_1 <- data$product_col\n",
    "  data$product_col_2 <- data$product_col_1\n",
    "  # create all product combinations within countries\n",
    "  print('creating combinations')\n",
    "  dft3 <- data %>% group_by(region_col) %>% complete(product_col_1, product_col_2)\n",
    "  print('combinations ready')\n",
    "  # drop diagonal\n",
    "  dft3 <- filter(dft3,product_col_1!=product_col_2)\n",
    "  # calculate N of times that {product_col}s occur together\n",
    "  dft3$count = 1\n",
    "  dft3 <- dft3 %>%\n",
    "    group_by(product_col_1,product_col_2) %>%\n",
    "    summarise(Cpp = sum(count))\n",
    "  # calculate ubiquity\n",
    "  df_ub <- data %>%\n",
    "    group_by(product_col) %>%\n",
    "    summarize(Mcp = sum(Mcp))\n",
    "  # Merge ubiquity into cpp matrix\n",
    "  df_ub <- df_ub %>%\n",
    "    rename(product_col_1 = product_col)\n",
    "  dft3 <- left_join(dft3,df_ub,by=c('product_col_1'))\n",
    "  df_ub <- df_ub %>%\n",
    "    rename(product_col_2 = product_col_1)\n",
    "  dft3 <- left_join(dft3,df_ub,by=c('product_col_2'))\n",
    "  # Take minimum of conditional probabilities\n",
    "  dft3$kpi = dft3$Cpp/dft3$Mcp.x\n",
    "  dft3$kpj = dft3$Cpp/dft3$Mcp.y\n",
    "  dft3$phi = dft3$kpi\n",
    "  dft3 <- dft3 %>%\n",
    "      #mutate(phi = replace(phi, kpj < kpi, kpj))\n",
    "      mutate(phi = ifelse(kpj < kpi, kpj ,kpi))\n",
    "  ############\n",
    "  return(dft3)\n",
    "}"
   ]
  },
  {
   "cell_type": "code",
   "execution_count": null,
   "metadata": {
    "collapsed": false
   },
   "outputs": [],
   "source": [
    "# keep only year 1995 and only country-product combinations where Mcp == 1 (thus RCAcpt > 1)\n",
    "dft <- filter(df_rca,time_col==1995,Mcp==1)\n",
    "# calculate cppt\n",
    "df_cppt <- calc_cppt(data=dft,region_col,product_col)\n",
    "\n",
    "print('cppt product co-occurences and proximities dataframe ready')"
   ]
  },
  {
   "cell_type": "markdown",
   "metadata": {
    "collapsed": false
   },
   "source": [
    "#### Products that co-occur most often\n",
    "\n"
   ]
  },
  {
   "cell_type": "code",
   "execution_count": null,
   "metadata": {
    "collapsed": false
   },
   "outputs": [],
   "source": [
    "df_cppt %>%\n",
    "  arrange(desc(Cpp)) %>%\n",
    "  head(n=10)"
   ]
  },
  {
   "cell_type": "markdown",
   "metadata": {
    "collapsed": false
   },
   "source": [
    "#### Most proximate products\n",
    "\n"
   ]
  },
  {
   "cell_type": "code",
   "execution_count": null,
   "metadata": {
    "collapsed": false
   },
   "outputs": [],
   "source": [
    "df_cppt %>%\n",
    "  arrange(desc(phi)) %>%\n",
    "  head(n=10)"
   ]
  },
  {
   "cell_type": "markdown",
   "metadata": {
    "collapsed": false
   },
   "source": [
    "## Patents: RCAs and technology proximities\n",
    "\n"
   ]
  },
  {
   "cell_type": "markdown",
   "metadata": {
    "collapsed": false
   },
   "source": [
    "We can apply this to patent data as well.\n",
    "\n",
    "At the Growth Lab we have access to the Patstat database as well as all patents from Google Bigquery.\n",
    "\n",
    "Patstat includes all patents from ~ 1903 onwards.\n",
    "\n",
    "Below is an outline of what is available in Patstat:\n",
    "\n",
    "![img](https://www.dropbox.com/s/zqgv7fi61c2ip2f/patstat.png?dl=1)\n",
    "\n",
    "Below we use an aggregated file created from the Patstat database, containing:\n",
    "\n",
    "-   Year\n",
    "-   Country\n",
    "-   Technology class\n",
    "-   Count (N of patents)\n",
    "\n",
    "which I put on Dropbox temporarily so we can load it in directly in Google CoLab.\n",
    "\n"
   ]
  },
  {
   "cell_type": "markdown",
   "metadata": {
    "collapsed": false
   },
   "source": [
    "### Load patent data\n",
    "\n"
   ]
  },
  {
   "cell_type": "code",
   "execution_count": null,
   "metadata": {
    "collapsed": false
   },
   "outputs": [],
   "source": [
    "# load STATA file into R directly from URL\n",
    "print('loading patent data')\n",
    "dfp <- read.dta('https://www.dropbox.com/s/nwox3dznoupzm0q/patstat_year_country_tech_inventor_locations.dta?dl=1')\n",
    "print('patent data loaded')"
   ]
  },
  {
   "cell_type": "markdown",
   "metadata": {
    "collapsed": false
   },
   "source": [
    "#### Sample of data\n",
    "\n"
   ]
  },
  {
   "cell_type": "code",
   "execution_count": null,
   "metadata": {
    "collapsed": false
   },
   "outputs": [],
   "source": [
    "sample_n(dfp,10)"
   ]
  },
  {
   "cell_type": "markdown",
   "metadata": {
    "collapsed": false
   },
   "source": [
    "#### What are the first and last years in the data?\n",
    "\n"
   ]
  },
  {
   "cell_type": "code",
   "execution_count": null,
   "metadata": {
    "collapsed": false
   },
   "outputs": [],
   "source": [
    "min(dfp$year)\n",
    "max(dfp$year)"
   ]
  },
  {
   "cell_type": "markdown",
   "metadata": {
    "collapsed": false
   },
   "source": [
    "#### How many countries and technology classes are in the data?\n",
    "\n"
   ]
  },
  {
   "cell_type": "code",
   "execution_count": null,
   "metadata": {
    "collapsed": false
   },
   "outputs": [],
   "source": [
    "print('Unique N of counties:')\n",
    "length(unique(dfp$country_name))\n",
    "print('Unique N of technologies:')\n",
    "length(unique(dfp$tech))"
   ]
  },
  {
   "cell_type": "markdown",
   "metadata": {
    "collapsed": false
   },
   "source": [
    "### RCAs\n",
    "\n"
   ]
  },
  {
   "cell_type": "code",
   "execution_count": null,
   "metadata": {
    "collapsed": false
   },
   "outputs": [],
   "source": [
    "# rename columns accordingly\n",
    "dfp_rca <- dfp %>%\n",
    "  rename(time_col = year,\n",
    "         region_col = country_name,\n",
    "         product_col = tech,\n",
    "         value_col = count)\n",
    "\n",
    "# calculate RCA\n",
    "dfp_rca <- calc_rca(data=dfp_rca,region_col,product_col,time_col,value_col)\n",
    "print('patent rcas ready')"
   ]
  },
  {
   "cell_type": "markdown",
   "metadata": {
    "collapsed": false
   },
   "source": [
    "#### What were Japan and Germany specialized in, in 1960 and 2010?\n",
    "\n"
   ]
  },
  {
   "cell_type": "code",
   "execution_count": null,
   "metadata": {
    "collapsed": false
   },
   "outputs": [],
   "source": [
    "countries <- list(\"Japan\", \"Germany\")\n",
    "years <- list(1960, 2010)\n",
    "for (country in countries) {\n",
    "  for (year in years) {\n",
    "    dft <- dfp_rca %>%\n",
    "      filter(region_col == country, time_col == year) %>%\n",
    "      arrange(desc(RCAcpt)) %>%\n",
    "      head\n",
    "    print(dft)\n",
    "  }\n",
    "}"
   ]
  },
  {
   "cell_type": "markdown",
   "metadata": {
    "collapsed": false
   },
   "source": [
    "### Technology proximities\n",
    "\n"
   ]
  },
  {
   "cell_type": "markdown",
   "metadata": {
    "collapsed": false
   },
   "source": [
    "What technology classes are most proximate (in 2010)?\n",
    "\n"
   ]
  },
  {
   "cell_type": "code",
   "execution_count": null,
   "metadata": {
    "collapsed": false
   },
   "outputs": [],
   "source": [
    "# Define Mcp\n",
    "dfp_rca$Mcp = 0\n",
    "dfp_rca <- dfp_rca %>%\n",
    "  mutate(Mcp = ifelse(RCAcpt> 1, 1,0))\n",
    "\n",
    "# Keep only years 2010 and only country-product combinations where Mcp == 1 (thus RCAcp > 1)\n",
    "dft <-  dfp_rca %>%\n",
    "  filter(time_col==2010,Mcp==1)\n",
    "\n",
    "# Calculate cppt\n",
    "dfp_cppt <- calc_cppt(data=dft,region_col,product_col)\n",
    "print('df_cppt ready')\n",
    "print('cppt patent co-occurences and proximities dataframe ready')\n",
    "\n",
    "# Show most proximate technologies\n",
    "dfp_cppt %>%\n",
    "  arrange(desc(phi)) %>%\n",
    "  head(10)"
   ]
  },
  {
   "cell_type": "markdown",
   "metadata": {
    "collapsed": false
   },
   "source": [
    "You can use density regressions as well here to predict technological diversification of countries.\n",
    "\n"
   ]
  },
  {
   "cell_type": "markdown",
   "metadata": {
    "collapsed": false
   },
   "source": [
    "## Product space\n",
    "\n"
   ]
  },
  {
   "cell_type": "markdown",
   "metadata": {
    "collapsed": false
   },
   "source": [
    "### Overview\n",
    "\n"
   ]
  },
  {
   "cell_type": "markdown",
   "metadata": {
    "collapsed": false
   },
   "source": [
    "We now have a measure of similarity between products (and patents), which is the core of the product space.\n",
    "\n",
    "[https://atlas.cid.harvard.edu/explore/network?country=114&year=2018&productClass=HS&product=undefined&startYear=undefined&target=Product&partner=undefined](https://atlas.cid.harvard.edu/explore/network?country=114&year=2018&productClass=HS&product=undefined&startYear=undefined&target=Product&partner=undefined)\n",
    "\n",
    "![img](/Users/admin/Dropbox/proj/org_zhtml_projects/product-space-eci-workshop/imgs/product_space_atlas_website.png)\n",
    "\n",
    "![img](https://www.dropbox.com/s/izag1xf28yldanf/product_space_atlas_website.png?dl=1)\n",
    "\n",
    "Below we will explore the product space using R whilst interacting with Python. You can then directly manipulate the product space and visualize selectively if not possible in the Atlas interface (e.g. only products exported to certain countries).\n",
    "\n",
    "The Github repo for this is available at [https://github.com/matteha/py-productspace](https://github.com/matteha/py-productspace).\n",
    "\n",
    "What we need is information on:\n",
    "\n",
    "-   Edges (ties) between nodes\n",
    "    \n",
    "    Ties between nodes represent the product proximity calculated above. Each product pair has a proximity value, but visualizing all ties, however, would result in a major &ldquo;hairball&rdquo;.\n",
    "    \n",
    "    To determine which of the ties to visualize in the product space, a &rsquo;maximum spanning tree algorithm&rsquo; is used (to make sure all nodes are connected directly or indirectly) in conjunction with a certain proximity threshold (0.55 minimum conditional probability). The details can be found in the Supplementary Material of Hidalgo et al. (2007) at [https://science.sciencemag.org/content/suppl/2007/07/26/317.5837.482.DC1](https://science.sciencemag.org/content/suppl/2007/07/26/317.5837.482.DC1).\n",
    "    \n",
    "    The data on the ties of nodes is available in the Atlas data repository at:\n",
    "    [https://dataverse.harvard.edu/file.xhtml?persistentId=doi:10.7910/DVN/FCDZBN/QSEETD&version=1.1](https://dataverse.harvard.edu/file.xhtml?persistentId=doi:10.7910/DVN/FCDZBN/QSEETD&version=1.1)\n",
    "    \n",
    "    We can directly load it into R using the link below (temporarily for this session, when using Harvard&rsquo;s dataverse you&rsquo;d need to sign a short User Agreement form so you can&rsquo;t load data directly from a URL):\n",
    "    \n",
    "    [https://www.dropbox.com/s/r601tjoulq1denf/network_hs92_4digit.json?dl=1](https://www.dropbox.com/s/r601tjoulq1denf/network_hs92_4digit.json?dl=1)\n",
    "\n",
    "-   Position of nodes\n",
    "    -   Each node is a product\n",
    "    \n",
    "    -   To position them in the product space, Hidalgo et al. (2007) used a spring embedding algorithm (which positions the nodes in such a way that there are as few crossing ties as possible, using physical simulations with force-directed algorithms), followed by hand-crafting the outcome to further visually separate distinct &rsquo;clusters&rsquo; of products.\n",
    "        \n",
    "        The data on the position of nodes (x, y coordinates) is in the same file as the one above with the data on ties (network<sub>hs92</sub><sub>4digit.json</sub>).\n",
    "        \n",
    "        We will use this fixed layout for now (James and Yang will deal with different ways to visualize multi-dimensional data in 2D/3D, e.g. with machine learning, UMAP).\n",
    "\n",
    "-   Size of nodes\n",
    "    \n",
    "    The size in the product space represents the total $ in world trade, but one can also use other attributes of nodes (e.g. if nodes are industries, the size could be total employment).\n",
    "\n",
    "-   Color of nodes\n",
    "    \n",
    "    In the product space the node color represents major product groups (e.g. Agriculture, Chemicals) following the Leamer classification. The node coloring data is available in the Atlas data repository at:\n",
    "    [https://dataverse.harvard.edu/dataverse/atlas?q=&types=files&sort=dateSort&order=desc&page=1](https://dataverse.harvard.edu/dataverse/atlas?q=&types=files&sort=dateSort&order=desc&page=1)\n",
    "    \n",
    "    We can directly load it into R using the link below (again, temporary for this session):\n",
    "    \n",
    "    [https://www.dropbox.com/s/rlm8hu4pq0nkg63/hs4_hex_colors_intl_atlas.csv?dl=1](https://www.dropbox.com/s/rlm8hu4pq0nkg63/hs4_hex_colors_intl_atlas.csv?dl=1)\n",
    "\n"
   ]
  },
  {
   "cell_type": "markdown",
   "metadata": {
    "collapsed": false
   },
   "source": [
    "### (Visualizing in the product space, using R with Python)\n",
    "\n"
   ]
  },
  {
   "cell_type": "markdown",
   "metadata": {
    "collapsed": false
   },
   "source": [
    "Some (most) tools at the Growth Lab are written in Python / STATA rather than R, but with the &rsquo;reticulate&rsquo; package in R one can interact directly with Python libraries in the backend. Below is a showcase of one way to do so (Yang&rsquo;s session will go much deeper into visualization as such using UMAP, machine learning etc.).\n",
    "\n"
   ]
  },
  {
   "cell_type": "markdown",
   "metadata": {
    "collapsed": false
   },
   "source": [
    "#### Prepare dataframe\n",
    "\n"
   ]
  },
  {
   "cell_type": "markdown",
   "metadata": {
    "collapsed": false
   },
   "source": [
    "First we select the country we which to visualize. We&rsquo;ll use Saudi Arabia below for the dataframe of the product space (&rsquo;df<sub>ps</sub>&rsquo;).\n",
    "\n"
   ]
  },
  {
   "cell_type": "code",
   "execution_count": null,
   "metadata": {
    "collapsed": false
   },
   "outputs": [],
   "source": [
    "COUNTRY_STRING <- 'Saudi Arabia'\n",
    "df_ps <- df_rca %>%\n",
    "  filter(region_col==COUNTRY_STRING)\n",
    "# Cross-check\n",
    "if (dim(df_ps)[1]==0) {\n",
    "    print('Country string set above does not exist in data, typed correctly?')\n",
    "    STOP\n",
    "}"
   ]
  },
  {
   "cell_type": "markdown",
   "metadata": {
    "collapsed": false
   },
   "source": [
    "##### Country, RCA, year, export value selections\n",
    "\n"
   ]
  },
  {
   "cell_type": "markdown",
   "metadata": {
    "collapsed": false
   },
   "source": [
    "Next we define what trade properties of Saudi Arabia we want to visualize. The example below visualizes specialiation in 2005 (year=2005, RCAcpt>1) of only those products with at least 40 million in trade value.\n",
    "\n",
    "This data preparation happens before inputting into it the product space function so you can inspect the dataframe before plotting.\n",
    "\n"
   ]
  },
  {
   "cell_type": "code",
   "execution_count": null,
   "metadata": {
    "collapsed": false
   },
   "outputs": [],
   "source": [
    "df_ps <- df_rca %>%\n",
    "  filter(region_col==COUNTRY_STRING, time_col==2005,RCAcpt>1,value_col > 4000000) %>%\n",
    "  select(product_col,value_col,product_code)"
   ]
  },
  {
   "cell_type": "code",
   "execution_count": null,
   "metadata": {
    "collapsed": false
   },
   "outputs": [],
   "source": [
    "# Write df_ps to temp folder\n",
    "file_name <- tempfile(fileext = \".csv\")\n",
    "write.csv(df_ps, file=file_name,row.names=FALSE)\n",
    "sprintf('saved in R temp folder as %s',file_name)\n",
    "# also save in home dir (non google co lab)\n",
    "write.csv(df_ps, file='~/df_product_space.csv',row.names=FALSE)\n",
    "print('df_ps ready to plot')\n",
    "\n",
    "# Call python functions from R:\n",
    "source_python('/Users/admin/Dropbox/proj/git_clones/py-productspace/create_product_space_v2.py')\n",
    "source_python('https://raw.githubusercontent.com/cid-harvard/py-productspace/master/create_product_space_v2.py')\n",
    "\n",
    "# Run python code directly but can't pass in R parameters this way\n",
    "y = create_product_space(df_plot_dataframe_filename='~/df_product_space.csv',\n",
    "                     df_plot_dataframe=df_ps,\n",
    "                     df_plot_node_col='product_code',\n",
    "                     df_node_size_col='value_col',\n",
    "                     output_image_file ='/Users/admin/Dropbox/testnetwork.png'\n",
    "                     )\n",
    "\n",
    "# From temp file (use glue here to add R variables as Python parameter)\n",
    "string_python <- glue(\"create_product_space(df_plot_dataframe_filename ='{file_name}', \\\\\\\n",
    "                     df_plot_node_col = 'product_code', \\\\\\\n",
    "                     df_node_size_col = 'value_col', \\\\\\\n",
    "                     output_image_file ='/Users/admin/Dropbox/testnetwork.png')\"\n",
    "                     )\n",
    "py_run_string(string_python)\n",
    "print('product space saved')\n",
    "\n",
    "# Load image and show, using 'imager' library\n",
    "network_img <- load.image('/Users/admin/Dropbox/testnetwork.png')\n",
    "# plot\n",
    "plot(network_img)"
   ]
  },
  {
   "cell_type": "markdown",
   "metadata": {
    "collapsed": false
   },
   "source": [
    "## -----------&#x2013;&#x2014; Break: Excercise 1 ------------------\n",
    "\n"
   ]
  },
  {
   "cell_type": "markdown",
   "metadata": {
    "collapsed": false
   },
   "source": [
    "### What product does Ukraine export most in 1995? (excluding services such as &rsquo;transport&rsquo;, &rsquo;ict&rsquo; etc)\n",
    "\n"
   ]
  },
  {
   "cell_type": "code",
   "execution_count": null,
   "metadata": {
    "collapsed": false
   },
   "outputs": [],
   "source": []
  },
  {
   "cell_type": "markdown",
   "metadata": {
    "collapsed": false
   },
   "source": [
    "### What products is Ukraine specialized in in 1995 and 2005 and how much do they export of these?\n",
    "\n"
   ]
  },
  {
   "cell_type": "code",
   "execution_count": null,
   "metadata": {
    "collapsed": false
   },
   "outputs": [],
   "source": []
  },
  {
   "cell_type": "markdown",
   "metadata": {
    "collapsed": false
   },
   "source": [
    "### Which product is most related to the product &rsquo;Stainless steel wire&rsquo;?\n",
    "\n"
   ]
  },
  {
   "cell_type": "code",
   "execution_count": null,
   "metadata": {
    "collapsed": false
   },
   "outputs": [],
   "source": []
  },
  {
   "cell_type": "markdown",
   "metadata": {
    "collapsed": false
   },
   "source": [
    "### Plot Ukraine in the product space in 1995.\n",
    "\n"
   ]
  },
  {
   "cell_type": "markdown",
   "metadata": {
    "collapsed": false
   },
   "source": [
    "How would you characterize Ukraine&rsquo;s position in the product space?\n",
    "\n"
   ]
  },
  {
   "cell_type": "code",
   "execution_count": null,
   "metadata": {
    "collapsed": false
   },
   "outputs": [],
   "source": []
  },
  {
   "cell_type": "markdown",
   "metadata": {
    "collapsed": false
   },
   "source": [
    "### Plot Ukraine in the product space in 2015.\n",
    "\n"
   ]
  },
  {
   "cell_type": "markdown",
   "metadata": {
    "collapsed": false
   },
   "source": [
    "Do you notice a difference with 1995?\n",
    "\n"
   ]
  },
  {
   "cell_type": "code",
   "execution_count": null,
   "metadata": {
    "collapsed": false
   },
   "outputs": [],
   "source": []
  },
  {
   "cell_type": "markdown",
   "metadata": {
    "collapsed": false
   },
   "source": [
    "### Plot your own country across different years in the product space. Do the results make sense? Do you notice any patterns?\n",
    "\n"
   ]
  },
  {
   "cell_type": "code",
   "execution_count": null,
   "metadata": {
    "collapsed": false
   },
   "outputs": [],
   "source": []
  },
  {
   "cell_type": "markdown",
   "metadata": {
    "collapsed": false
   },
   "source": [
    "## Predicting diversification of countries: densities / density regressions\n",
    "\n"
   ]
  },
  {
   "cell_type": "markdown",
   "metadata": {
    "collapsed": false
   },
   "source": [
    "Shreyas will cover this.\n",
    "\n"
   ]
  },
  {
   "cell_type": "markdown",
   "metadata": {
    "collapsed": false
   },
   "source": [
    "## Calculating Economic Complexity / Product Complexity\n",
    "\n"
   ]
  },
  {
   "cell_type": "markdown",
   "metadata": {
    "collapsed": false
   },
   "source": [
    "We know from the product space and density regressions how products are related to one another and how that matters for diversification of countries.\n",
    "\n",
    "The next step is to look at which parts of the product space are most interesting to ultimately reach / diversify into. Generally complex products are located in the center of the product space, and countries with a higher economic complexity tend to have higher economic growth.\n",
    "\n",
    "![img](imgs/complex_products_in_product_space.png)\n",
    "\n",
    "![img](https://www.dropbox.com/s/a231jw76yocjkkr/complex_products_in_product_space.png?dl=1)\n",
    "\n",
    "Recall from the lecture that the economic complexity index (ECI) and product complexity index (PCI) measures are derived from an iterative method of reflections algorithm on country diversity and product ubiquity (Hidalgo Hausmann 2009), or finding the eigenvalues of a country-product matrix (Mealy et al. 2019)\n",
    "\n",
    "![img](/Users/admin/Dropbox/proj/org_zhtml_projects/product-space-eci-workshop/imgs/countries_products_eci.png)\n",
    "\n",
    "![img](https://www.dropbox.com/s/dte4vwgk4tvj3rd/countries_products_eci.png?dl=1)\n",
    "\n",
    "The STATA package to calculate this - by Sebastian Bustos and Muhammed Yildirim - is available at:\n",
    "\n",
    "[https://github.com/cid-harvard/ecomplexity](https://github.com/cid-harvard/ecomplexity)\n",
    "\n",
    "The Python package to calculate this - by Shreyas Gadgin Matha - is available at [https://github.com/cid-harvard/py-ecomplexity](https://github.com/cid-harvard/py-ecomplexity)\n",
    "\n",
    "The R package to calculate this, by Mauricio Vargas, Carlo Bottai, Diego Kozlowski, Nico Pintar, The World Bank, Open Trade Statistics, is available at:\n",
    "\n",
    "[https://cran.r-project.org/web/packages/economiccomplexity/index.html](https://cran.r-project.org/web/packages/economiccomplexity/index.html)\n",
    "\n",
    "(When using other software, e.g. Excel without having access to these packages, one can also calculate ECI by directly downloading the PCI value for every product from the Atlas Dataverse repository - the ECI of a country is the mean of the PCI values of the products it has a comparative advantage in.)\n",
    "\n"
   ]
  },
  {
   "cell_type": "markdown",
   "metadata": {
    "collapsed": false
   },
   "source": [
    "### Using the &rsquo;economiccomplexity&rsquo; R package\n",
    "\n"
   ]
  },
  {
   "cell_type": "markdown",
   "metadata": {
    "collapsed": false
   },
   "source": [
    "#### Trade data\n",
    "\n"
   ]
  },
  {
   "cell_type": "code",
   "execution_count": null,
   "metadata": {
    "collapsed": false
   },
   "outputs": [],
   "source": [
    "# select dataset\n",
    "dft <- df_orig %>% filter(year==2000) %>% select (country_name,product_name,export_value)\n",
    "# rename columns accordingly\n",
    "dft <- dft %>%\n",
    "  rename(country = country_name,\n",
    "         product = product_name,\n",
    "         value = export_value)\n",
    "# calculate the Balassa index (rca, 1 if > 1)\n",
    "bi <- balassa_index(dft)\n",
    "# calculate eci / pci, using reflections here: same values as py-ecomplexity package\n",
    "cm <- complexity_measures(bi,method='reflections')\n",
    "# convert to tibble, add country names, sort from most to least complex\n",
    "# -- xci labels are set with setNames (extract with 'names')\n",
    "df_eci <- cm$complexity_index_country %>%\n",
    "  as_tibble() %>%\n",
    "  mutate(country = names(cm$complexity_index_country)) %>%\n",
    "  rename(eci = value)\n",
    "# same procedure for products (pci)\n",
    "df_pci <- cm$complexity_index_product %>%\n",
    "  as_tibble() %>%\n",
    "  mutate(product = names(cm$complexity_index_product)) %>%\n",
    "  rename(pci= value)\n",
    "# add product codes as well to df_pci\n",
    "df_product_codes <- df_orig %>%\n",
    "  select(product_name,product_code) %>%\n",
    "  distinct(product_name, .keep_all= TRUE) # drop_duplicates in pandsa\n",
    "df_pci <- left_join(df_pci,df_product_codes,by=c('product'='product_name'))\n",
    "##########\n",
    "print('eci, pci dataframes ready')"
   ]
  },
  {
   "cell_type": "markdown",
   "metadata": {
    "collapsed": false
   },
   "source": [
    "Most complex countries:\n",
    "\n"
   ]
  },
  {
   "cell_type": "code",
   "execution_count": null,
   "metadata": {
    "collapsed": false
   },
   "outputs": [],
   "source": [
    "df_eci %>% arrange(desc(eci)) %>% head"
   ]
  },
  {
   "cell_type": "markdown",
   "metadata": {
    "collapsed": false
   },
   "source": [
    "Most complex products:\n",
    "\n"
   ]
  },
  {
   "cell_type": "code",
   "execution_count": null,
   "metadata": {
    "collapsed": false
   },
   "outputs": [],
   "source": [
    "df_pci %>% arrange(desc(pci)) %>% head"
   ]
  },
  {
   "cell_type": "markdown",
   "metadata": {
    "collapsed": false
   },
   "source": [
    "### Complexity weighted by destination (example: Ukraine)\n",
    "\n"
   ]
  },
  {
   "cell_type": "markdown",
   "metadata": {
    "collapsed": false
   },
   "source": [
    "You can also calculate economic complexity by destination.\n",
    "\n",
    "In a paper with Frank Neffke and Ernesto Lopez-Cordova we did this to explore opportunities for Ukraine (to connect to European value chains):\n",
    "\n",
    "[https://growthlab.cid.harvard.edu/publications/assessing-ukraines-role-european-value-chains-gravity-equation-cum-economic](https://growthlab.cid.harvard.edu/publications/assessing-ukraines-role-european-value-chains-gravity-equation-cum-economic)\n",
    "\n",
    "(Using the ECI by destination we found that highly complex products from Ukraine in the 2000s were typically destined for the Russian market, which was also one of the largest importers of products from Ukraine. The detoriation in relations with Russia led to a significant decline in exports there from 2011 onwards, resulting in Ukraine suffering from not only a quantitative but also a qualitative decline in exports).\n",
    "\n",
    "Hidalgo and Hausmann (2009) calculate complexity of country $c$ as the average PCI of all products for which ${RCA}_{cp}>1$.\n",
    "\n",
    "Below we define it as the weighted average PCI, where weights are given by the value of country $c$’s exports in each product. This allows us to define an ECI for separate export markets.\n",
    "\n",
    "Let $\\mathcal{M}$ be the set of countries that together constitute an export market (say, the EU&rsquo;s Single Market). Now, the destination-market specific ECI for country $c$ is defined as:\n",
    "\n",
    "\\begin{equation} \\label{e_ECI}\n",
    "ECI_{c}^{\\mathcal{M}}=\\sum \\limits_{p} \\frac{\\sum \\limits_{d \\in \\mathcal{M}} X^{d}_{op}}{\\sum \\limits_{d \\in \\mathcal{M}} X^{d}_{o}} {PCI}_{p}   \n",
    "\\end{equation}\n",
    "\n",
    "where $X_{op}^{d}$ represents the exports of product $p$ from exporter $o$ to importer $d$ and an omitted subscript indicates the summation over the omitted category: $X_{o}^{d}=\\sum \\limits_{p} X_{op}^{d}$.\n",
    "\n",
    "To calculate this, we need a dataset that has country exports **per destination** for this, which is available in the Growth Lab&rsquo;s DataVerse as:\n",
    "\n",
    "    \"country_partner_hsproduct4digit_years_2000_2016.csv\"\n",
    "\n",
    "As this file above is 16 gigabytes, we will load a version of it for only Ukraine&rsquo;s exports. This file has been processed outside of Google colab using the code below:\n",
    "\n",
    "    df = pd.read_csv('country_partner_hsproduct4digit_years_2000_2016.csv')\n",
    "    df = df[df['location_code_code']=='UKR')\n",
    "    df = df[df['export_value']>0]\n",
    "    df.to_csv('ukr_exports_per_destination.csv',index=False)\n",
    "\n"
   ]
  },
  {
   "cell_type": "code",
   "execution_count": null,
   "metadata": {
    "collapsed": false
   },
   "outputs": [],
   "source": [
    "# Complexity by destination\n",
    "print('loading data (from dropbox)')\n",
    "df_ukr <- read_csv(file='~/Dropbox/proj/org_zhtml_projects/product-space-eci-workshop/files/ukr_exports_per_destination.csv')\n",
    "# df_ukr <- read_csv(file='https://www.dropbox.com/s/megm8qzn3jcwnqz/ukr_exports_per_destination.csv?dl=1')\n",
    "print('loaded')\n",
    "\n",
    "# show sample of dataset\n",
    "sample_n(df_ukr,10)"
   ]
  },
  {
   "cell_type": "markdown",
   "metadata": {
    "collapsed": false
   },
   "source": [
    "Merge PCI from products in 2000 into the dataframe (from df<sub>ec</sub> created in previous section using py-ecomplexity).\n",
    "\n"
   ]
  },
  {
   "cell_type": "code",
   "execution_count": null,
   "metadata": {
    "collapsed": false
   },
   "outputs": [],
   "source": [
    "# add leading zero if 3-digit\n",
    "df_ukr$len_hs_product_code = str_length(df_ukr$hs_product_code)\n",
    "df_ukr <- df_ukr %>%\n",
    "    mutate(hs_product_code = ifelse(len_hs_product_code == 3, paste('0',hs_product_code,sep=\"\"),hs_product_code))\n",
    "# strip leading / trailing spaces\n",
    "df_ukr$hs_product_code <- trimws(df_ukr$hs_product_code, which = c(\"both\"))\n",
    "# merge\n",
    "df_ukr <- left_join(df_ukr, df_pci, by = c(\"hs_product_code\" = \"product_code\"))"
   ]
  },
  {
   "cell_type": "markdown",
   "metadata": {
    "collapsed": false
   },
   "source": [
    "Now we calculate the ECI by destination.\n",
    "\n"
   ]
  },
  {
   "cell_type": "code",
   "execution_count": null,
   "metadata": {
    "collapsed": false
   },
   "outputs": [],
   "source": [
    "calc_ecimc <- function(data,origin_col,destination_col,product_col,value_col,pci_col) {\n",
    "           dft <- data\n",
    "           #####\n",
    "           dft <- dft %>%\n",
    "             group_by(origin_col,destination_col) %>%\n",
    "             mutate(export_value_cot = sum(value_col))\n",
    "           #####\n",
    "           dft$pci_x_export = dft$pci_col * dft$value_col\n",
    "           #####\n",
    "           dft <- dft %>%\n",
    "             group_by(origin_col,destination_col) %>%\n",
    "             mutate(pci_x_export_sum = sum(pci_x_export))\n",
    "           #####\n",
    "           dft$eciMc = dft$pci_x_export_sum / dft$export_value_cot\n",
    "           #####\n",
    "           # dft <- dft %>%\n",
    "           #   distinct(c('origin_col','destination_col'), .keep_all= TRUE)\n",
    "           dft <- dft %>%\n",
    "             distinct(origin_col,destination_col, .keep_all= TRUE)\n",
    "           #####\n",
    "           dft <- dft %>% select(origin_col,destination_col,eciMc)\n",
    "           ###################\n",
    "           return(dft)\n",
    "         }\n",
    "print('ecimc function defined')"
   ]
  },
  {
   "cell_type": "code",
   "execution_count": null,
   "metadata": {
    "collapsed": false
   },
   "outputs": [],
   "source": [
    "df_ukr_ecimc <- df_ukr %>%\n",
    "  rename(origin_col = location_code,\n",
    "         destination_col = partner_code,\n",
    "         product_col = hs_product_code,\n",
    "         value_col = export_value,\n",
    "         pci_col = pci\n",
    "  )\n",
    "# calculate ecimc\n",
    "df_ukr_ecimc <- calc_ecimc(data=df_ukr_ecimc,origin_col,destination_col,product_col,value_col,pci_col)\n",
    "\n",
    "print('dataset eci weighted ready, sample below')\n",
    "head(df_ukr_ecimc)"
   ]
  },
  {
   "cell_type": "markdown",
   "metadata": {
    "collapsed": false
   },
   "source": [
    "Economic complexity by destination: most complex\n",
    "\n"
   ]
  },
  {
   "cell_type": "code",
   "execution_count": null,
   "metadata": {
    "collapsed": false
   },
   "outputs": [],
   "source": [
    "df_ukr_ecimc_map <- df_ukr_ecimc %>%\n",
    "  rename(\"iso-a3\"=\"destination_col\")\n",
    "\n",
    "hcmap(\n",
    "  map = \"custom/world-highres3\", # high resolution world map\n",
    "  # eci in 85th percentile\n",
    "  data = filter(df_ukr_ecimc_map,eciMc>quantile(df_ukr_ecimc_map$eciMc,probs=c(0.85),na.rm=TRUE)),\n",
    "  joinBy = \"iso-a3\",\n",
    "  value = \"eciMc\",\n",
    "  showInLegend = FALSE, # hide legend\n",
    "  #nullColor = \"#DADADA\",\n",
    "  download_map_data = TRUE\n",
    ") %>% hc_colorAxis(minColor = \"orange\", maxColor = \"red\")"
   ]
  },
  {
   "cell_type": "markdown",
   "metadata": {
    "collapsed": false
   },
   "source": [
    "Highly complex products are typically destined for the Russian market, which is also one of the largest importers of products from Ukraine.\n",
    "\n",
    "The detoriation in relations with Russia led to a significant decline in exports there from 2011 onwards:\n",
    "![img](https://www.dropbox.com/s/xfl3gig3zxer0fm/total_exports_Ukraine_over_years.png?dl=1)\n",
    "\n",
    "As a result, Ukraine suffers from not only a quantitative but also a qualitative decline in exports. In the paper we explore new opportunities for Ukraine.\n",
    "\n",
    "Note: double-check political controversies when using geopandas!\n",
    "\n",
    "![img](https://www.dropbox.com/s/twtl8p5ksgfezm0/map_ukraine.png?dl=1)\n",
    "\n"
   ]
  },
  {
   "cell_type": "markdown",
   "metadata": {
    "collapsed": false
   },
   "source": [
    "## -----------&#x2013;&#x2014; Break: Excercise 2 ------------------\n",
    "\n"
   ]
  },
  {
   "cell_type": "markdown",
   "metadata": {
    "collapsed": false
   },
   "source": [
    "### What are countries with high complexity in 2015?\n",
    "\n"
   ]
  },
  {
   "cell_type": "code",
   "execution_count": null,
   "metadata": {
    "collapsed": false
   },
   "outputs": [],
   "source": []
  },
  {
   "cell_type": "markdown",
   "metadata": {
    "collapsed": false
   },
   "source": [
    "### Vice versa, what are countries with low complexity in 2015?\n",
    "\n"
   ]
  },
  {
   "cell_type": "code",
   "execution_count": null,
   "metadata": {
    "collapsed": false
   },
   "outputs": [],
   "source": []
  },
  {
   "cell_type": "markdown",
   "metadata": {
    "collapsed": false
   },
   "source": [
    "### What are products (PCI) with high complexity in 2015?\n",
    "\n"
   ]
  },
  {
   "cell_type": "code",
   "execution_count": null,
   "metadata": {
    "collapsed": false
   },
   "outputs": [],
   "source": []
  },
  {
   "cell_type": "markdown",
   "metadata": {
    "collapsed": false
   },
   "source": [
    "### Vice versa, what are products (PCI) with low complexity in 2015?\n",
    "\n"
   ]
  },
  {
   "cell_type": "code",
   "execution_count": null,
   "metadata": {
    "collapsed": false
   },
   "outputs": [],
   "source": []
  },
  {
   "cell_type": "markdown",
   "metadata": {
    "collapsed": false
   },
   "source": [
    "### Ukraine\n",
    "\n"
   ]
  },
  {
   "cell_type": "markdown",
   "metadata": {
    "collapsed": false
   },
   "source": [
    "#### How did Ukraine&rsquo;s economic complexity evolve over time?\n",
    "\n"
   ]
  },
  {
   "cell_type": "code",
   "execution_count": null,
   "metadata": {
    "collapsed": false
   },
   "outputs": [],
   "source": []
  },
  {
   "cell_type": "markdown",
   "metadata": {
    "collapsed": false
   },
   "source": [
    "#### How does Ukraine&rsquo;s economic complexity in 2015 compare to other countries? Which countries have comparable economic complexity?\n",
    "\n"
   ]
  },
  {
   "cell_type": "code",
   "execution_count": null,
   "metadata": {
    "collapsed": false
   },
   "outputs": [],
   "source": []
  },
  {
   "cell_type": "markdown",
   "metadata": {
    "collapsed": false
   },
   "source": [
    "#### What are the most complex products that Ukraine exported in 2015?\n",
    "\n"
   ]
  },
  {
   "cell_type": "code",
   "execution_count": null,
   "metadata": {
    "collapsed": false
   },
   "outputs": [],
   "source": []
  },
  {
   "cell_type": "markdown",
   "metadata": {
    "collapsed": false
   },
   "source": [
    "## ---\n",
    "\n"
   ]
  },
  {
   "cell_type": "markdown",
   "metadata": {
    "collapsed": false
   },
   "source": [
    "## ---\n",
    "\n"
   ]
  },
  {
   "cell_type": "markdown",
   "metadata": {
    "collapsed": false
   },
   "source": [
    "## ---\n",
    "\n"
   ]
  },
  {
   "cell_type": "markdown",
   "metadata": {
    "collapsed": false
   },
   "source": [
    "## Excercise answers\n",
    "\n"
   ]
  },
  {
   "cell_type": "markdown",
   "metadata": {
    "collapsed": false
   },
   "source": [
    "### Excercise 1\n",
    "\n"
   ]
  },
  {
   "cell_type": "markdown",
   "metadata": {
    "collapsed": false
   },
   "source": [
    "#### What product does Ukraine export most in 1995? (excluding services such as &rsquo;transport&rsquo;, &rsquo;ict&rsquo; etc)\n",
    "\n"
   ]
  },
  {
   "cell_type": "code",
   "execution_count": null,
   "metadata": {
    "collapsed": false
   },
   "outputs": [],
   "source": [
    "df_orig %>%\n",
    "  filter(country_name=='Ukraine',year==2005) %>%\n",
    "  group_by(product_code,product_name) %>%\n",
    "  summarise(sum_export_value = sum(export_value)) %>%\n",
    "  arrange(desc(sum_export_value)) %>%\n",
    "  head()"
   ]
  },
  {
   "cell_type": "markdown",
   "metadata": {
    "collapsed": false
   },
   "source": [
    "#### What products is Ukraine specialized in in 1995 and 2005 and how much do they export of these?\n",
    "\n"
   ]
  },
  {
   "cell_type": "code",
   "execution_count": null,
   "metadata": {
    "collapsed": false
   },
   "outputs": [],
   "source": [
    "# Use the 'df_rca' dataframe for this\n",
    "print('1995: ')\n",
    "df_rca %>%\n",
    "  filter(region_col=='Ukraine',time_col==1995) %>%\n",
    "  arrange(desc(RCAcpt)) %>%\n",
    "  select(product_col,RCAcpt,value_col) %>%\n",
    "  head\n",
    "\n",
    "print('2005: ')\n",
    "df_rca %>%\n",
    "  filter(region_col=='Ukraine',time_col==2005) %>%\n",
    "  arrange(desc(RCAcpt)) %>%\n",
    "  select(product_col,RCAcpt,value_col) %>%\n",
    "  head"
   ]
  },
  {
   "cell_type": "markdown",
   "metadata": {
    "collapsed": false
   },
   "source": [
    "#### Which product is most related to the product &rsquo;Stainless steel wire&rsquo;?\n",
    "\n"
   ]
  },
  {
   "cell_type": "code",
   "execution_count": null,
   "metadata": {
    "collapsed": false
   },
   "outputs": [],
   "source": [
    "df_cppt %>%\n",
    "  filter(product_col_1=='Stainless steel wire') %>%\n",
    "  arrange(desc(phi)) %>%\n",
    "  head()"
   ]
  },
  {
   "cell_type": "markdown",
   "metadata": {
    "collapsed": false
   },
   "source": [
    "#### Plot Ukraine in the product space in 1995.\n",
    "\n"
   ]
  },
  {
   "cell_type": "markdown",
   "metadata": {
    "collapsed": false
   },
   "source": [
    "How would you characterize Ukraine&rsquo;s position in the product space?\n",
    "\n"
   ]
  },
  {
   "cell_type": "code",
   "execution_count": null,
   "metadata": {
    "collapsed": false
   },
   "outputs": [],
   "source": [
    "df_ps <- df_rca %>%\n",
    "  filter(region_col=='Ukraine', time_col==1995,RCAcpt>1,value_col > 4000000) %>%\n",
    "  select(product_col,value_col,product_code)\n",
    "# Select year (2005), RCA > 1, minimum export value (4 million $)\n",
    "# create product space now\n",
    "# write to tempdir\n",
    "# tempdir()\n",
    "file_name <- tempfile(fileext = \".csv\")\n",
    "write.csv(df_ps, file=file_name,row.names=FALSE)\n",
    "sprintf('saved in R temp folder as %s',file_name)\n",
    "# save in home dir (non google co lab)\n",
    "write.csv(df_ps, file='~/df_product_space.csv',row.names=FALSE)\n",
    "\n",
    "# Call python functions from R:\n",
    "source_python('https://raw.githubusercontent.com/cid-harvard/py-productspace/master/create_product_space_v2.py')\n",
    "source_python('/Users/admin/Dropbox/proj/git_clones/py-productspace/create_product_space_v2.py')\n",
    "\n",
    "# From temp file (use glue here to add R variables as Python parameter)\n",
    "string_python <- glue(\"create_product_space(df_plot_dataframe_filename ='{file_name}', \\\\\\\n",
    "                     df_plot_node_col = 'product_code', \\\\\\\n",
    "                     df_node_size_col = 'value_col', \\\\\\\n",
    "                     output_image_file ='/Users/admin/Dropbox/testnetwork.png')\"\n",
    "                     )\n",
    "py_run_string(string_python)\n",
    "print('product space saved')\n",
    "# Load image and show, using 'imager' library\n",
    "network_img <- load.image('/Users/admin/Dropbox/testnetwork.png')\n",
    "plot(network_img)"
   ]
  },
  {
   "cell_type": "markdown",
   "metadata": {
    "collapsed": false
   },
   "source": [
    "#### Plot Ukraine in the product space in 2015.\n",
    "\n"
   ]
  },
  {
   "cell_type": "markdown",
   "metadata": {
    "collapsed": false
   },
   "source": [
    "Do you notice a difference with 1995?\n",
    "\n"
   ]
  },
  {
   "cell_type": "code",
   "execution_count": null,
   "metadata": {
    "collapsed": false
   },
   "outputs": [],
   "source": [
    "df_ps <- df_rca %>%\n",
    "  filter(region_col=='Ukraine', time_col==2015,RCAcpt>1,value_col > 4000000) %>%\n",
    "  select(product_col,value_col,product_code)\n",
    "# Select year (2005), RCA > 1, minimum export value (4 million $)\n",
    "# create product space now\n",
    "# write to tempdir\n",
    "# tempdir()\n",
    "file_name <- tempfile(fileext = \".csv\")\n",
    "write.csv(df_ps, file=file_name,row.names=FALSE)\n",
    "sprintf('saved in R temp folder as %s',file_name)\n",
    "# save in home dir (non google co lab)\n",
    "write.csv(df_ps, file='~/df_product_space.csv',row.names=FALSE)\n",
    "\n",
    "# Call python functions from R:\n",
    "source_python('https://raw.githubusercontent.com/cid-harvard/py-productspace/master/create_product_space_v2.py')\n",
    "source_python('/Users/admin/Dropbox/proj/git_clones/py-productspace/create_product_space_v2.py')\n",
    "\n",
    "# From temp file (use glue here to add R variables as Python parameter)\n",
    "string_python <- glue(\"create_product_space(df_plot_dataframe_filename ='{file_name}', \\\\\\\n",
    "                     df_plot_node_col = 'product_code', \\\\\\\n",
    "                     df_node_size_col = 'value_col', \\\\\\\n",
    "                     output_image_file ='/Users/admin/Dropbox/testnetwork.png')\"\n",
    "                     )\n",
    "py_run_string(string_python)\n",
    "print('product space saved')\n",
    "# Load image and show, using 'imager' library\n",
    "network_img <- load.image('/Users/admin/Dropbox/testnetwork.png')\n",
    "plot(network_img)"
   ]
  },
  {
   "cell_type": "markdown",
   "metadata": {
    "collapsed": false
   },
   "source": [
    "#### Plot your own country across different years in the product space. Do the results make sense? Do you notice any patterns?\n",
    "\n"
   ]
  },
  {
   "cell_type": "markdown",
   "metadata": {
    "collapsed": false
   },
   "source": [
    "### Excercise 2:\n",
    "\n"
   ]
  },
  {
   "cell_type": "markdown",
   "metadata": {
    "collapsed": false
   },
   "source": [
    "#### What are countries with high complexity in 2015?\n",
    "\n"
   ]
  },
  {
   "cell_type": "code",
   "execution_count": null,
   "metadata": {
    "collapsed": false
   },
   "outputs": [],
   "source": [
    "df_eci %>%\n",
    "  arrange(desc(eci)) %>%\n",
    "  head"
   ]
  },
  {
   "cell_type": "markdown",
   "metadata": {
    "collapsed": false
   },
   "source": [
    "#### Vice versa, what are countries with low complexity in 2015?\n",
    "\n"
   ]
  },
  {
   "cell_type": "code",
   "execution_count": null,
   "metadata": {
    "collapsed": false
   },
   "outputs": [],
   "source": [
    "df_eci %>%\n",
    "  arrange(desc(eci)) %>%\n",
    "  tail()"
   ]
  },
  {
   "cell_type": "markdown",
   "metadata": {
    "collapsed": false
   },
   "source": [
    "#### What are products (PCI) with high complexity in 2015?\n",
    "\n"
   ]
  },
  {
   "cell_type": "code",
   "execution_count": null,
   "metadata": {
    "collapsed": false
   },
   "outputs": [],
   "source": [
    "df_pci %>%\n",
    "  arrange(desc(pci)) %>%\n",
    "  head()"
   ]
  },
  {
   "cell_type": "markdown",
   "metadata": {
    "collapsed": false
   },
   "source": [
    "#### Vice versa, what are products (PCI) with low complexity in 2015?\n",
    "\n"
   ]
  },
  {
   "cell_type": "code",
   "execution_count": null,
   "metadata": {
    "collapsed": false
   },
   "outputs": [],
   "source": [
    "df_pci %>%\n",
    "  arrange(desc(pci)) %>%\n",
    "  tail()"
   ]
  },
  {
   "cell_type": "markdown",
   "metadata": {
    "collapsed": false
   },
   "source": [
    "#### Ukraine\n",
    "\n"
   ]
  },
  {
   "cell_type": "markdown",
   "metadata": {
    "collapsed": false
   },
   "source": [
    "##### How did Ukraine&rsquo;s economic complexity evolve over time?\n",
    "\n"
   ]
  },
  {
   "cell_type": "code",
   "execution_count": null,
   "metadata": {
    "collapsed": false
   },
   "outputs": [],
   "source": [
    "df_eci_allyrs <- data.frame()\n",
    "years <- 1995:2016\n",
    "  for (yeart in years) {\n",
    "    sprintf('doing year %s',yeart)\n",
    "    # Loop now\n",
    "    head(df_orig)\n",
    "    dft <- df_orig %>% filter(year==yeart) %>% select (country_name,product_name,export_value)\n",
    "    dft <- dft %>%\n",
    "      rename(country = country_name,\n",
    "             product = product_name,\n",
    "             value = export_value)\n",
    "    # balassa index (rca, 1 if > 1)\n",
    "    bi <- balassa_index(dft)\n",
    "    # calculate eci / pci, using reflections here: same values as py-ecomplexity package\n",
    "    cm <- complexity_measures(bi,method='reflections')\n",
    "    # convert to tibble, add country names, sort from most to least complex\n",
    "    # -- xci labels are set with setNames (extract with 'names')\n",
    "    df_eci <- cm$complexity_index_country %>%\n",
    "      as_tibble() %>%\n",
    "      mutate(country = names(cm$complexity_index_country)) %>%\n",
    "      rename(eci = value)\n",
    "    df_eci$year = yeart\n",
    "    head(df_eci)\n",
    "    df_eci_allyrs <- bind_rows(df_eci_allyrs,df_eci)\n",
    "  }\n",
    "\n",
    "# plot eci over the years\n",
    "dft <- filter(df_eci_allyrs,country == 'Ukraine')\n",
    "dft %>% ggplot(aes(x = year, y = eci)) + geom_line()"
   ]
  },
  {
   "cell_type": "markdown",
   "metadata": {
    "collapsed": false
   },
   "source": [
    "##### How does Ukraine&rsquo;s economic complexity in 2015 compare to other countries? Which countries have comparable economic complexity?\n",
    "\n"
   ]
  },
  {
   "cell_type": "code",
   "execution_count": null,
   "metadata": {
    "collapsed": false
   },
   "outputs": [],
   "source": [
    "# - keep 2015, sort by eci and create row number\n",
    "dft <- df_eci_allyrs %>%\n",
    "  filter(year == 2015)  %>%\n",
    "  arrange(desc(eci)) %>%\n",
    "  mutate(row_number = row_number())\n",
    "# countries above and below Ukraine in ranking\n",
    "row_number1 <- filter(dft,country=='Ukraine')$row_number-5\n",
    "row_number2 <- filter(dft,country=='Ukraine')$row_number+5\n",
    "# show\n",
    "dft %>% slice(row_number1:row_number2)"
   ]
  },
  {
   "cell_type": "markdown",
   "metadata": {
    "collapsed": false
   },
   "source": [
    "##### What are the most complex products that Ukraine exported in 2015?\n",
    "\n"
   ]
  },
  {
   "cell_type": "code",
   "execution_count": null,
   "metadata": {
    "collapsed": false
   },
   "outputs": [],
   "source": [
    "df_ukr <- df_rca %>%\n",
    "  filter(time_col == 2015,region_col=='Ukraine',RCAcpt > 1)\n",
    "# to merge pci into the dataframe, add leading zero if 3-digit\n",
    "df_ukr$len_product_code = str_length(df_ukr$product_code)\n",
    "df_ukr <- df_ukr %>%\n",
    "    mutate(product_code = ifelse(len_product_code == 3, paste('0',product_code,sep=\"\"),product_code))\n",
    "# strip leading / trailing spaces\n",
    "df_ukr$product_code <- trimws(df_ukr$product_code, which = c(\"both\"))\n",
    "# merge pcis from 2000 into dataframe\n",
    "df_ukr <- left_join(df_ukr, df_pci, by = c(\"product_code\" = \"product_code\"))\n",
    "# sort\n",
    "head(arrange(df_ukr,desc(pci)))\n",
    "head(df_ukr,20)"
   ]
  }
 ],
 "metadata": {
  "colab": {
   "authorship_tag": "ABX9TyNAIvQ3KTAJsbbMG54jxSnS",
   "include_colab_link": true,
   "name": "Untitled6.ipynb",
   "provenance": []
  },
  "kernelspec": {
   "argv": [
    "/Library/Frameworks/R.framework/Resources/bin/R",
    "--slave",
    "-e",
    "IRkernel::main()",
    "--args",
    "{connection_file}"
   ],
   "display_name": "R",
   "env": null,
   "interrupt_mode": "signal",
   "language": "R",
   "metadata": null,
   "name": "ir"
  },
  "language_info": {
   "name": "R"
  },
  "name": "RnotebookColabcreatedv2.ipynb"
 },
 "nbformat": 4,
 "nbformat_minor": 0
}
