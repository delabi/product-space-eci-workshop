{
  "nbformat": 4,
  "nbformat_minor": 0,
  "metadata": {
    "colab": {
      "name": "Untitled6.ipynb",
      "provenance": [],
      "authorship_tag": "ABX9TyNAIvQ3KTAJsbbMG54jxSnS",
      "include_colab_link": true
    },
    "kernelspec": {
      "name": "ir",
      "display_name": "R"
    },
    "language_info": {
      "name": "R"
    }
  },
  "cells": [
    {
      "cell_type": "markdown",
      "metadata": {
        "id": "view-in-github",
        "colab_type": "text"
      },
      "source": [
        "<a href=\"https://colab.research.google.com/github/matteha/product-space-eci-workshop/blob/main/RnotebookColabcreatedv2.ipynb\" target=\"_parent\"><img src=\"https://colab.research.google.com/assets/colab-badge.svg\" alt=\"Open In Colab\"/></a>"
      ]
    },
    {
      "cell_type": "code",
      "execution_count": null,
      "metadata": {
        "id": "lc7YfOlMqLoq",
        "outputId": "ebf25485-4457-4b56-fe9f-dea50599eb1a",
        "colab": {
          "base_uri": "https://localhost:8080/"
        }
      },
      "outputs": [
        {
          "output_type": "stream",
          "name": "stdout",
          "text": [
            "[1] \"installing packages, takes some mins on Google Colab\"\n",
            "[1] \"intalling highcharter\"\n"
          ]
        },
        {
          "output_type": "stream",
          "name": "stderr",
          "text": [
            "Installing package into ‘/usr/local/lib/R/site-library’\n",
            "(as ‘lib’ is unspecified)\n",
            "\n",
            "system (cmd0): /usr/lib/R/bin/R CMD INSTALL\n",
            "\n",
            "also installing the dependencies ‘XML’, ‘TTR’, ‘htmlwidgets’, ‘rlist’, ‘zoo’, ‘xts’, ‘quantmod’, ‘igraph’, ‘rjson’\n",
            "\n",
            "\n",
            "foundpkgs: XML, TTR, htmlwidgets, rlist, zoo, xts, quantmod, igraph, rjson, highcharter, /tmp/RtmpOWEdJ2/downloaded_packages/XML_3.99-0.8.tar.gz, /tmp/RtmpOWEdJ2/downloaded_packages/TTR_0.24.3.tar.gz, /tmp/RtmpOWEdJ2/downloaded_packages/htmlwidgets_1.5.4.tar.gz, /tmp/RtmpOWEdJ2/downloaded_packages/rlist_0.4.6.2.tar.gz, /tmp/RtmpOWEdJ2/downloaded_packages/zoo_1.8-9.tar.gz, /tmp/RtmpOWEdJ2/downloaded_packages/xts_0.12.1.tar.gz, /tmp/RtmpOWEdJ2/downloaded_packages/quantmod_0.4.18.tar.gz, /tmp/RtmpOWEdJ2/downloaded_packages/igraph_1.2.11.tar.gz, /tmp/RtmpOWEdJ2/downloaded_packages/rjson_0.2.21.tar.gz, /tmp/RtmpOWEdJ2/downloaded_packages/highcharter_0.9.4.tar.gz\n",
            "\n",
            "files: /tmp/RtmpOWEdJ2/downloaded_packages/XML_3.99-0.8.tar.gz, \n",
            "\t/tmp/RtmpOWEdJ2/downloaded_packages/TTR_0.24.3.tar.gz, \n",
            "\t/tmp/RtmpOWEdJ2/downloaded_packages/htmlwidgets_1.5.4.tar.gz, \n",
            "\t/tmp/RtmpOWEdJ2/downloaded_packages/rlist_0.4.6.2.tar.gz, \n",
            "\t/tmp/RtmpOWEdJ2/downloaded_packages/zoo_1.8-9.tar.gz, \n",
            "\t/tmp/RtmpOWEdJ2/downloaded_packages/xts_0.12.1.tar.gz, \n",
            "\t/tmp/RtmpOWEdJ2/downloaded_packages/quantmod_0.4.18.tar.gz, \n",
            "\t/tmp/RtmpOWEdJ2/downloaded_packages/igraph_1.2.11.tar.gz, \n",
            "\t/tmp/RtmpOWEdJ2/downloaded_packages/rjson_0.2.21.tar.gz, \n",
            "\t/tmp/RtmpOWEdJ2/downloaded_packages/highcharter_0.9.4.tar.gz\n",
            "\n",
            "1): succeeded '/usr/lib/R/bin/R CMD INSTALL -l '/usr/local/lib/R/site-library' '/tmp/RtmpOWEdJ2/downloaded_packages/XML_3.99-0.8.tar.gz''\n",
            "\n",
            "2): succeeded '/usr/lib/R/bin/R CMD INSTALL -l '/usr/local/lib/R/site-library' '/tmp/RtmpOWEdJ2/downloaded_packages/htmlwidgets_1.5.4.tar.gz''\n",
            "\n",
            "3): succeeded '/usr/lib/R/bin/R CMD INSTALL -l '/usr/local/lib/R/site-library' '/tmp/RtmpOWEdJ2/downloaded_packages/zoo_1.8-9.tar.gz''\n",
            "\n"
          ]
        }
      ],
      "source": [
        "# print(installed.packages())\n",
        "print('installing packages, takes some mins on Google Colab')\n",
        "print('intalling highcharter')\n",
        "install.packages('highcharter',verbose=TRUE)\n",
        "print('intalling maps')\n",
        "install.packages('maps',verbose=TRUE)\n",
        "print('intalling tidyverse')\n",
        "install.packages('tidyverse',verbose=TRUE)\n",
        "print('intalling reticulate')\n",
        "install.packages('reticulate',verbose=TRUE)\n",
        "print('intalling foreign')\n",
        "install.packages('foreign',verbose=TRUE)\n",
        "print('intalling igraph')\n",
        "install.packages('igraph',verbose=TRUE)\n",
        "print('intalling imager')\n",
        "install.packages('imager',verbose=TRUE)\n",
        "print('intalling economiccomplexity')\n",
        "install.packages('economiccomplexity',verbose=TRUE)\n",
        "print('intalling tidylog')\n",
        "install.packages('tidylog',verbose=TRUE) # for join (merge) statistics, e.g. left_only\n",
        "print('intalling arrow')\n",
        "install.packages('arrow',verbose=TRUE)\n",
        "print('done installing packages')\n"
      ]
    }
  ]
}