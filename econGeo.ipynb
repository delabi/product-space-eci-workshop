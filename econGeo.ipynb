{
  "cells": [
    {
      "cell_type": "markdown",
      "metadata": {
        "id": "yfBoJajq6Ytu"
      },
      "source": [
        "Trade and patents: RCAs, proximities, product space and economic complexity in R\n",
        "================================================================================\n",
        "\n"
      ]
    },
    {
      "cell_type": "markdown",
      "metadata": {
        "id": "Zu1cVWhF6Ytv"
      },
      "source": [
        "3 February 2023, Matte Hartog (matte \\_ hartog@hks.harvard.edu)\n",
        "\n"
      ]
    },
    {
      "cell_type": "markdown",
      "metadata": {
        "id": "IQ0SaOy-6Ytv"
      },
      "source": [
        "## Notes\n",
        "\n"
      ]
    },
    {
      "cell_type": "markdown",
      "metadata": {
        "id": "xS9WaFWQ6Ytv"
      },
      "source": [
        "Google colab link Python:\n",
        "\n",
        "[https://colab.research.google.com/github/matteha/product-space-eci-workshop/blob/main/product-space-eci-workshop-2022.ipynb](https://colab.research.google.com/github/matteha/product-space-eci-workshop/blob/main/product-space-eci-workshop-2022.ipynb)\n",
        "\n",
        "Google colab link in R:\n",
        "[https://colab.research.google.com/github/matteha/product-space-eci-workshop/blob/main/product-space-eci-workshop-in-R-2023.ipynb](https://colab.research.google.com/github/matteha/product-space-eci-workshop/blob/main/product-space-eci-workshop-in-R-2023.ipynb)\n",
        "\n",
        "To run code in Google Colab, you need a Google account.\n",
        "\n"
      ]
    },
    {
      "cell_type": "markdown",
      "metadata": {
        "id": "raJwrs2-6Ytv"
      },
      "source": [
        "## To do first\n",
        "\n"
      ]
    },
    {
      "cell_type": "markdown",
      "metadata": {
        "id": "kiWQSb2T6Ytv"
      },
      "source": [
        "In Google Colab:\n",
        "\n",
        "1.  Turn on Table of Contents: (in browser, click on &rsquo;View&rsquo; in top, then &rsquo;Table of Contents&rsquo;)\n",
        "\n",
        "2.  Expand all sections (&rsquo;View&rsquo; > &rsquo;Expand Sections&rsquo; if not greyed out)\n",
        "\n"
      ]
    },
    {
      "cell_type": "markdown",
      "metadata": {
        "id": "9RI-SCNV6Ytw"
      },
      "source": [
        "## Outline of lab session\n",
        "\n"
      ]
    },
    {
      "cell_type": "markdown",
      "metadata": {
        "id": "7-2on2ns6Ytw"
      },
      "source": [
        "Google Colab gives you access to a Jupyter Notebook but with an R kernel instead of a Python kernel, see:\n",
        "\n",
        "[https://github.com/IRkernel/IRkernel](https://github.com/IRkernel/IRkernel)\n",
        "\n",
        "We&rsquo;ll cover:\n",
        "\n",
        "-   Introduction to trade data\n",
        "\n",
        "-   Calculating RCAs, co-occurences and proximities\n",
        "    -   Product and technology proximities\n",
        "    -   Trade: specialization of countries over time\n",
        "    -   Technologies (patents): specialization of countries and US cities over time\n",
        "\n",
        "-   Using Python libraries in R: Product space visualization\n",
        "\n",
        "-   Calculating Product Complexity / Economic Complexity (by destination)\n",
        "\n"
      ]
    },
    {
      "cell_type": "markdown",
      "metadata": {
        "id": "rKuk2gYS6Ytw"
      },
      "source": [
        "## Trade data\n",
        "\n"
      ]
    },
    {
      "cell_type": "markdown",
      "metadata": {
        "id": "ajoaONyi6Ytw"
      },
      "source": [
        "### Background\n",
        "\n"
      ]
    },
    {
      "cell_type": "markdown",
      "metadata": {
        "id": "3VKhpvcS6Ytw"
      },
      "source": [
        "The product space is, as well as its derivations / related measures such as economic complexity and the Growth&rsquo;s annual rankings of countries by economic complexity (at [https://atlas.cid.harvard.edu](https://atlas.cid.harvard.edu)), are based on trade data between countries.\n",
        "\n",
        "The Growth Lab maintains and periodically updates a cleaned version of trade data at Harvard Dataverse:\n",
        "\n",
        "[https://dataverse.harvard.edu/dataverse/atlas](https://dataverse.harvard.edu/dataverse/atlas)\n",
        "\n",
        "This dataset contains bilateral trade data among 235 countries and territories in thousands of different products categories (a description of the data can be found at: [http://atlas.cid.harvard.edu/downloads](http://atlas.cid.harvard.edu/downloads)).\n",
        "\n",
        "How does the data look like? We will explore the data in R whilst mainly using the &rsquo;tidyverse&rsquo; packages (most popular R packages for data analysis).\n",
        "\n"
      ]
    },
    {
      "cell_type": "markdown",
      "metadata": {
        "id": "RT2mVYio6Ytw"
      },
      "source": [
        "#### Footnote on trade and services (ICT, tourism, etc.):\n",
        "\n"
      ]
    },
    {
      "cell_type": "markdown",
      "metadata": {
        "id": "sN7exKKZ6Ytw"
      },
      "source": [
        "-   Services and tourism are included in the Growth Lab&rsquo;s Atlas and trade data as well as of September 2018. See announcement at:\n",
        "\n",
        "[https://atlas.cid.harvard.edu/announcements/2018/services-press-release](https://atlas.cid.harvard.edu/announcements/2018/services-press-release)\n",
        "\n",
        "Obtained from IMF, trade in services covers four categories of economic activities between producers and consumers across borders:\n",
        "\n",
        "-   services supplied from one country to another (e.g. call centers)\n",
        "-   consumption in other countries (e.g. international tourism)\n",
        "-   firms with branches in other countries (e.g. bank branches overseas)\n",
        "-   individuals supplying services in another country (e.g. IT consultant abroad)\n",
        "\n"
      ]
    },
    {
      "cell_type": "markdown",
      "metadata": {
        "id": "61UOan6D6Ytw"
      },
      "source": [
        "### Install necessary R packages\n",
        "\n"
      ]
    },
    {
      "cell_type": "code",
      "execution_count": null,
      "metadata": {
        "id": "gT6Evd3a6Ytw"
      },
      "outputs": [],
      "source": [
        "print('installing packages, takes some mins on Google Colab')\n",
        "\n",
        "ptm <- proc.time()\n",
        "print('installing tidyverse')\n",
        "install.packages('tidyverse')\n",
        "proc.time() - ptm\n",
        "\n",
        "ptm <- proc.time()\n",
        "print('installing reticulate')\n",
        "install.packages('reticulate')\n",
        "proc.time() - ptm\n",
        "\n",
        "ptm <- proc.time()\n",
        "print('installing foreign')\n",
        "install.packages('foreign')\n",
        "proc.time() - ptm\n",
        "\n",
        "ptm <- proc.time()\n",
        "print('installing png')\n",
        "install.packages('png')\n",
        "proc.time() - ptm\n",
        "\n",
        "ptm <- proc.time()\n",
        "print('installing economiccomplexity')\n",
        "install.packages('economiccomplexity')\n",
        "proc.time() - ptm\n",
        "\n",
        "ptm <- proc.time()\n",
        "print('installing tidylog')\n",
        "install.packages('tidylog')\n",
        "proc.time() - ptm\n",
        "\n",
        "print('done installing packages')"
      ]
    },
    {
      "cell_type": "markdown",
      "metadata": {
        "id": "TXHj_vjF6Ytx"
      },
      "source": [
        "### Load necessary R packages\n",
        "\n"
      ]
    },
    {
      "cell_type": "code",
      "execution_count": null,
      "metadata": {
        "id": "df7u91kN6Ytx",
        "outputId": "cb1debae-d6d1-4909-b993-75cadcf9e013"
      },
      "outputs": [
        {
          "name": "stdout",
          "output_type": "stream",
          "text": [
            "loaded libraries"
          ]
        }
      ],
      "source": [
        "#library('arrow') # for reading parquet etc.\n",
        "library('foreign') # to load STATA files into R\n",
        "library('glue') # to concatenate strings / variables\n",
        "library('png') # to load / show image files\n",
        "library(tidylog, warn.conflicts = FALSE) # for join statistics, e.g. left_only\n",
        "library('economiccomplexity')\n",
        "library(\"reticulate\") # R - Python interaction\n",
        "# -- if reticulate throws error on OSX, run: brew install xquartz --cask\n",
        "library('repr') # to change IRkernel properties (R kernel in Jupyter Notebook)\n",
        "library('tidyverse') # data analysis standard toolkit\n",
        "# -- readr: for reading data\n",
        "# -- ggplot2: for plotting\n",
        "# -- tibble: for creating “tibbles”; these are the tidyverse’s take on data frames.\n",
        "# -- dplyr: for manipulating tibbles (or data frames); creating new variables, calculating summary statistics etc.\n",
        "# -- tidyr: for reshaping data (making it from long to wide format, and vice versa)\n",
        "# -- purrr: for functional programming.\n",
        "# -- stringr: for manipulating strings\n",
        "# -- forcats: FOR CATegorical data (factors); this makes it easier to reorder and rename the levels in factor variables.\n",
        "# -- library(datasets) # - Built in datasets\n",
        "print('loaded libraries')"
      ]
    },
    {
      "cell_type": "markdown",
      "metadata": {
        "id": "PqtrWOUZ6Ytx"
      },
      "source": [
        "### Download trade dataset and load into memory\n",
        "\n"
      ]
    },
    {
      "cell_type": "markdown",
      "metadata": {
        "id": "qxA7mC796Yty"
      },
      "source": [
        "Trade data is constantly updated by the Growth Lab, you can find the most recent version of the trade data at our Dataverse here:\n",
        "\n",
        "[https://dataverse.harvard.edu/dataverse/atlas](https://dataverse.harvard.edu/dataverse/atlas)\n",
        "\n",
        "Below we&rsquo;re using the trade data using the HS classification (&rsquo;Harmonized System 1992&rsquo; - alternative is &rsquo;SITC - Standard Industrial Trade Classification&rsquo; which goes back further in time) at the 4 digit level (alternative is 2 or 6 - 6 has more detail). It can be found here:\n",
        "\n",
        "[https://dataverse.harvard.edu/file.xhtml?fileId=4946953&version=4.0](https://dataverse.harvard.edu/file.xhtml?fileId=4946953&version=4.0)\n",
        "\n",
        "The trade file we&rsquo;re using below has a fix implemented in the labels (strings) of the products - some products currently erronuously have the same strings (e.g. product codes 5209 and 5211 in Zimbabwe have the same product string). The file is regularly updated by the Growth Lab.\n",
        "\n",
        "To load the data directly we&rsquo;re using a Dropbox link with the fix implemented (Dataverse normally requires one to fill in an agreement form first but see Section 1 (by Shreyas) on how to use the dataverse library in R to load data from there directly into R).\n",
        "\n",
        "(The trade file is a large file because it includes country / product strings, takes 1 - 3 minutes to load. One can also merge strings in separately but for illustrative purposes it is easier to have them all preloaded - also to avoid memory problems that R quickly runs into).\n",
        "\n"
      ]
    },
    {
      "cell_type": "code",
      "execution_count": null,
      "metadata": {
        "id": "JpnuxvQ76Yty"
      },
      "outputs": [],
      "source": [
        "print('loading trade data - takes 1 - 3 mins')\n",
        "df_orig <- read_csv('https://www.dropbox.com/s/3n4r4qo4j0jjpln/trade.csv?dl=1')\n",
        "#df_orig <- read_csv('~/Dropbox/proj/org_zhtml_projects/product-space-eci-workshop/files/trade.csv')\n",
        "print('trade data loaded')"
      ]
    },
    {
      "cell_type": "markdown",
      "metadata": {
        "id": "5wKUFAob6Yty"
      },
      "source": [
        "### Exploring the trade data\n",
        "\n"
      ]
    },
    {
      "cell_type": "markdown",
      "metadata": {
        "id": "M14ijsz36Yty"
      },
      "source": [
        "#### Structure of dataset\n",
        "\n"
      ]
    },
    {
      "cell_type": "markdown",
      "metadata": {
        "id": "8S8kpkhq6Yty"
      },
      "source": [
        "Our $X_{cpt}$ matrix:\n",
        "\n"
      ]
    },
    {
      "cell_type": "code",
      "execution_count": null,
      "metadata": {
        "id": "iBsKlPhx6Yty"
      },
      "outputs": [],
      "source": [
        "sample_n(df_orig,10) # show 10 random rows"
      ]
    },
    {
      "cell_type": "markdown",
      "metadata": {
        "id": "OB41b14e6Yty"
      },
      "source": [
        "#### What years are in the data?\n",
        "\n"
      ]
    },
    {
      "cell_type": "code",
      "execution_count": null,
      "metadata": {
        "id": "s_v5WVZr6Yty"
      },
      "outputs": [],
      "source": [
        "unique(df_orig$year)"
      ]
    },
    {
      "cell_type": "markdown",
      "metadata": {
        "id": "FVQCxJJh6Yty"
      },
      "source": [
        "#### How many products are in the data?\n",
        "\n"
      ]
    },
    {
      "cell_type": "code",
      "execution_count": null,
      "metadata": {
        "id": "g4NlnJuT6Yty"
      },
      "outputs": [],
      "source": [
        "length(unique(df_orig$product_name))"
      ]
    },
    {
      "cell_type": "markdown",
      "metadata": {
        "id": "yJA0gWXj6Yty"
      },
      "source": [
        "#### Finding specific countries / products based on partial string matching\n",
        "\n"
      ]
    },
    {
      "cell_type": "markdown",
      "metadata": {
        "id": "VQig2DHn6Yty"
      },
      "source": [
        "If you&rsquo;re interested in finding data on certain countries / products but not sure how exactly these are spelled in the data (or are spelled with / without e.g. capital letters).\n",
        "\n"
      ]
    },
    {
      "cell_type": "code",
      "execution_count": null,
      "metadata": {
        "id": "mL9wYS-P6Yty"
      },
      "outputs": [],
      "source": [
        "STRING <- 'Netherland'\n",
        "df_orig %>%\n",
        "  filter(grepl(STRING, country_name)) %>%\n",
        "  distinct(country_name)"
      ]
    },
    {
      "cell_type": "markdown",
      "metadata": {
        "id": "5LtggS5A6Yty"
      },
      "source": [
        "You can also ignore lower/uppercase here (e.g. &rsquo;wine&rsquo; vs &rsquo;Wine&rsquo; may be relevant)\n",
        "\n"
      ]
    },
    {
      "cell_type": "code",
      "execution_count": null,
      "metadata": {
        "id": "eQH_oUxx6Yty"
      },
      "outputs": [],
      "source": [
        "STRING = 'wine'\n",
        "df_orig %>%\n",
        "  filter(grepl(STRING, product_name, ignore.case = TRUE)) %>%\n",
        "  distinct(product_name)"
      ]
    },
    {
      "cell_type": "markdown",
      "metadata": {
        "id": "oC66J9ke6Yty"
      },
      "source": [
        "#### Example: What were the major export products of the USA in 2012?\n",
        "\n"
      ]
    },
    {
      "cell_type": "code",
      "execution_count": null,
      "metadata": {
        "id": "YjwGLPhi6Yty"
      },
      "outputs": [],
      "source": [
        "df_orig %>%\n",
        "  filter(country_code == 'USA' & year == 2012) %>%\n",
        "  group_by(product_code,product_name) %>%\n",
        "  summarise(sum_export_value = sum(export_value)) %>%\n",
        "  arrange(desc(sum_export_value)) %>%\n",
        "  head()"
      ]
    },
    {
      "cell_type": "markdown",
      "metadata": {
        "id": "qYaLDsB96Yty"
      },
      "source": [
        "#### Example: How did exports of Cars evolve over time in the USA?\n",
        "\n"
      ]
    },
    {
      "cell_type": "markdown",
      "metadata": {
        "id": "CsbIznkx6Ytz"
      },
      "source": [
        "From about 10 billion USD up to almost $60 billion USD.\n",
        "\n"
      ]
    },
    {
      "cell_type": "code",
      "execution_count": null,
      "metadata": {
        "id": "CngVzuzm6Ytz"
      },
      "outputs": [],
      "source": [
        "df_orig %>%\n",
        "  filter(country_code == 'USA' & product_code == 8703) %>%\n",
        "  ggplot(aes(x = year, y = export_value)) + geom_line()"
      ]
    },
    {
      "cell_type": "markdown",
      "metadata": {
        "id": "Pabhdz2u6Ytz"
      },
      "source": [
        "## Revealed comparative advantage (RCA)\n",
        "\n"
      ]
    },
    {
      "cell_type": "markdown",
      "metadata": {
        "id": "0KaaJXzs6Ytz"
      },
      "source": [
        "What products are countries specialized in? For that, following Hidalgo et al. (2007), we calculate the Revealed Comparative Advantage (RCA) of each country-product pair: how much a country &rsquo;over-exports&rsquo; a product in comparison to all other countries.\n",
        "\n",
        "Technically this is the Balassa index of comparative advantage, calculated as follows for product $p$ and country $c$ at time $t$:\n",
        "\n",
        "\\begin{equation} \\label{e_RCA}\n",
        "{RCA}_{cpt}=\\frac{X_{cpt}/X_{ct}}{X_{pt}/X_{t}}\n",
        "\\tag{1}\n",
        "\\end{equation}\n",
        "\n",
        "where $X_{cpt}$ represents the total value of country $c$’s exports of product $p$ at time $t$ across all importers. An omitted subscript indicates a summation over the omitted dimension, e.g.: $X_{t}=\\sum \\limits_{c,p,t} X_{cpt}$.\n",
        "\n",
        "A product-country pair with $RCA>1$ means that the product is over-represented in the country&rsquo;s export basket.\n",
        "\n",
        "We use the original trade dataset (&rsquo;df<sub>orig</sub>&rsquo;) that is loaded into memory, calculating RCAs as follows:\n",
        "\n"
      ]
    },
    {
      "cell_type": "code",
      "execution_count": null,
      "metadata": {
        "id": "OtfbX6nv6Ytz"
      },
      "outputs": [],
      "source": [
        "calc_rca <- function(data,region_col,product_col,time_col,value_col) {\n",
        "    # - add all possible products for each country with export value 0\n",
        "    # - else matrices later on will have missing values in them, complicating calculations\n",
        "    df_all <- data %>%\n",
        "    expand(time_col,region_col, product_col)\n",
        "\n",
        "    # merge data back in\n",
        "    df_all <- left_join(df_all,data,by=c('time_col','region_col','product_col'))\n",
        "\n",
        "    # set export value to 0 if missing (fills in the extra combinations created)\n",
        "    df_all <- df_all %>%\n",
        "      mutate(value_col = replace_na(value_col, 0))\n",
        "\n",
        "    # define RCA properties:\n",
        "\n",
        "    # -- Xcpt\n",
        "    df_all <- df_all %>% mutate(Xcpt = value_col)\n",
        "\n",
        "    # -- Xct\n",
        "    df_all <- df_all %>%\n",
        "      group_by(time_col,region_col) %>%\n",
        "      mutate(Xct = sum(value_col))\n",
        "\n",
        "    # -- Xpt\n",
        "    df_all <- df_all %>%\n",
        "      group_by(time_col,product_col) %>%\n",
        "      mutate(Xpt = sum(value_col))\n",
        "\n",
        "    # -- Xt\n",
        "    df_all <- df_all %>%\n",
        "      group_by(time_col) %>%\n",
        "      mutate(Xt = sum(value_col))\n",
        "\n",
        "    # -- RCAcpt\n",
        "    df_all$RCAcpt = (df_all$Xcpt/df_all$Xct)/(df_all$Xpt/df_all$Xt)\n",
        "\n",
        "    # set RCAcpt to 0 if missing, e.g. if product / country have 0 (total) exports\n",
        "    df_all <- df_all %>%\n",
        "      mutate(RCAcpt = replace_na(RCAcpt, 0))\n",
        "\n",
        "    # drop the properties created above\n",
        "    df_all <- select(df_all, -c(Xcpt,Xct,Xpt,Xt))\n",
        "\n",
        "    #####\n",
        "    return(df_all)\n",
        "}"
      ]
    },
    {
      "cell_type": "markdown",
      "metadata": {
        "id": "KJi5SqSU6Ytz"
      },
      "source": [
        "Calculate RCAs:\n",
        "\n"
      ]
    },
    {
      "cell_type": "code",
      "execution_count": null,
      "metadata": {
        "id": "L0y3Cfow6Ytz"
      },
      "outputs": [],
      "source": [
        "# rename columns accordingly\n",
        "df_rca <- df_orig %>%\n",
        "  rename(time_col = year,\n",
        "         region_col = country_name,\n",
        "         product_col = product_name,\n",
        "         value_col = export_value)\n",
        "\n",
        "# calculate RCAs\n",
        "df_rca <- calc_rca(data=df_rca,region_col,product_col,time_col,value_col)\n",
        "\n",
        "print('df_rca ready')"
      ]
    },
    {
      "cell_type": "markdown",
      "metadata": {
        "id": "dTXnfBXv6Ytz"
      },
      "source": [
        "( Sidenote: in Python you can run it as follows - without renaming columns beforehand - which may be little more intuitive:\n",
        "\n",
        "df \\_ rca = calc \\_ rca(data=df \\_ orig,country \\_ col=&rsquo;country \\_ name&rsquo;,product \\_ col=&rsquo;product \\_ name&rsquo;,time \\_ col=&rsquo;year&rsquo;,value \\_ col=&rsquo;export \\_ value&rsquo;)\n",
        "\n",
        "but when passing in column names from tidyverse into functions you quickly run into issues with tidyverse where non-standard evaluation (NSE) is common - symbols being evaluated in the context of the tibble / dataframe in use. Hence you&rsquo;d have to program it such as &ldquo;group \\_ by(!!sym(country \\_ col),!!sym(time \\_ col)) %>%&rdquo; which quickly becomes painful.\n",
        "\n",
        "Informative post here: [https://www.brodieg.com/2020/05/05/on-nse/> ](https://www.brodieg.com/2020/05/05/on-nse/> ))\n",
        "\n"
      ]
    },
    {
      "cell_type": "markdown",
      "metadata": {
        "id": "z_s65Qtr6Ytz"
      },
      "source": [
        "### Sample of dataset\n",
        "\n"
      ]
    },
    {
      "cell_type": "code",
      "execution_count": null,
      "metadata": {
        "id": "SJPG90Rw6Ytz"
      },
      "outputs": [],
      "source": [
        "sample_n(df_rca,5)"
      ]
    },
    {
      "cell_type": "markdown",
      "metadata": {
        "id": "h8lKlaTL6Ytz"
      },
      "source": [
        "### Example: What products are The Netherlands and Saudi Arabia specialized in, in 2000?\n",
        "\n"
      ]
    },
    {
      "cell_type": "code",
      "execution_count": null,
      "metadata": {
        "id": "UTE5tZYE6Ytz"
      },
      "outputs": [],
      "source": [
        "print(\"\\n The Netherlands: \\n\")\n",
        "\n",
        "df_rca %>%\n",
        "  filter(region_col=='Netherlands', time_col==2000) %>%\n",
        "  arrange(desc(RCAcpt)) %>%\n",
        "  select(product_col,RCAcpt) %>%\n",
        "  head(n=5)\n",
        "\n",
        "print(\"\\n Saudi Arabia:\\n\")\n",
        "\n",
        "df_rca %>%\n",
        "  filter(region_col=='Saudi Arabia', time_col==2000) %>%\n",
        "  arrange(desc(RCAcpt)) %>%\n",
        "  select(product_col,RCAcpt) %>%\n",
        "  head(n=5)"
      ]
    },
    {
      "cell_type": "markdown",
      "metadata": {
        "id": "MqM5tpfH6Ytz"
      },
      "source": [
        "## Product proximity (based on co-occurences)\n",
        "\n"
      ]
    },
    {
      "cell_type": "markdown",
      "metadata": {
        "id": "BG2XRkpH6Ytz"
      },
      "source": [
        "### Calculating product co-occurences and proximities\n",
        "\n"
      ]
    },
    {
      "cell_type": "markdown",
      "metadata": {
        "id": "rwT82Ld16Ytz"
      },
      "source": [
        "Knowing which countries are specialized in which products, the next step analyzes the extent to which two products are over-represented ($RCA>1$) in the same countries.\n",
        "\n",
        "As noted in the lecture, the main insight supporting this inference is that countries will produce combinations of products that require similar capabilities.\n",
        "\n",
        "Hence we infer capabilities from trade patterns, because the capabilities of a country is a priori hard to determine and capabilities themselves are hard to observe.\n",
        "\n",
        "Hence, **the degree to which two products cooccur in the export baskets of the same countries provides an indication of how similar the capability requirements of the two products are**.\n",
        "\n",
        "We will calculate the co-occurence matrix of products below.\n",
        "\n",
        "First, a product is &rsquo;present&rsquo; in a country if the country exports the product with $RCA>1$:\n",
        "\n",
        "\\begin{equation} \\label{e_presence}\n",
        "M_{cp}=\\begin{cases}\n",
        "    1 & \\text{if ${RCA}_{cp}>1$}; \\\\\n",
        "    0 & \\text{elsewhere.}\n",
        "    \\end{cases}\n",
        "\\tag{2}\n",
        "\\end{equation}\n",
        "\n"
      ]
    },
    {
      "cell_type": "code",
      "execution_count": null,
      "metadata": {
        "id": "VBapCdZa6Yt0"
      },
      "outputs": [],
      "source": [
        "df_rca$Mcp <- 0\n",
        "df_rca[df_rca$RCAcpt>1, 'Mcp'] <- 1"
      ]
    },
    {
      "cell_type": "markdown",
      "metadata": {
        "id": "PMLrZDuU6Yt0"
      },
      "source": [
        "Next, we calculate how often two products are present in the same countries, using the Mcp threshold:\n",
        "\n",
        "\\begin{equation} \\label{e_cooc}\n",
        "C_{pp'}=\\sum \\limits_{c} M_{cp} M_{cp'}\n",
        "\\tag{3}\n",
        "\\end{equation}\n",
        "\n",
        "To get an accurate value of product proximity, we need to correct these numbers for the extent to which products are present in general in trade flows between countries. To do so, Hidalgo et al. (2007) calculate product proximity as follows, defining it as the minimum of two conditional probabilities:\n",
        "\n",
        "\\begin{equation}\n",
        "C_{ppt'}  = \\min \\left( \\frac{C_{pp'}}{C_{p}},\\frac{C_{pp'}}{C_{p'}} \\right)\n",
        "\\tag{4}\n",
        "\\end{equation}\n",
        "\n",
        "The minimum here is used to elimate a &rsquo;false positive&rsquo;.\n",
        "\n",
        "Hence we correct for how prevalent specialization in product $i$ and product $j$ is across countries (i.e. the &rsquo;ubiquity&rsquo; of the products).\n",
        "\n",
        "We will use the first year of data in the dataset, **1995,** below.\n",
        "\n",
        "Note that to reduce yearly votality, Hidalgo et al. (2007) aggregate the trade data across multiple years (1998-2000) when calculating RCAs and product proximities for the product space. (However, when comparing the product space across years, they do use individual years).\n",
        "\n",
        "Function to calculate cppt:\n",
        "\n"
      ]
    },
    {
      "cell_type": "code",
      "execution_count": null,
      "metadata": {
        "id": "QDKQcO3a6Yt0"
      },
      "outputs": [],
      "source": [
        "calc_cppt <- function(data,region_col,product_col) {\n",
        "\n",
        "  # create product_col_2 column (to create all combinations of products within columns)\n",
        "  data$product_col_1 <- data$product_col\n",
        "  data$product_col_2 <- data$product_col_1\n",
        "\n",
        "  # create all product combinations within countries\n",
        "  print('creating combinations')\n",
        "  dft3 <- data %>% group_by(region_col) %>% complete(product_col_1, product_col_2)\n",
        "  print('combinations ready')\n",
        "\n",
        "  # drop diagonal\n",
        "  dft3 <- filter(dft3,product_col_1!=product_col_2)\n",
        "\n",
        "  # calculate N of times that {product_col}s occur together\n",
        "  dft3$count = 1\n",
        "  dft3 <- dft3 %>%\n",
        "    group_by(product_col_1,product_col_2) %>%\n",
        "    summarise(Cpp = sum(count))\n",
        "\n",
        "  # calculate ubiquity\n",
        "  df_ub <- data %>%\n",
        "    group_by(product_col) %>%\n",
        "    summarize(Mcp = sum(Mcp))\n",
        "\n",
        "  # Merge ubiquities of product 1 and 2 into cpp matrix\n",
        "  df_ub <- df_ub %>%\n",
        "    rename(product_col_1 = product_col)\n",
        "  dft3 <- left_join(dft3,df_ub,by=c('product_col_1'))\n",
        "\n",
        "  df_ub <- df_ub %>%\n",
        "    rename(product_col_2 = product_col_1)\n",
        "  dft3 <- left_join(dft3,df_ub,by=c('product_col_2'))\n",
        "\n",
        "  # Take minimum of conditional probabilities\n",
        "  dft3$kpi = dft3$Cpp/dft3$Mcp.x\n",
        "  dft3$kpj = dft3$Cpp/dft3$Mcp.y\n",
        "  dft3$phi = dft3$kpi\n",
        "  dft3 <- dft3 %>%\n",
        "      mutate(phi = ifelse(kpj < kpi, kpj ,kpi))\n",
        "\n",
        "  ############\n",
        "  return(dft3)\n",
        "}"
      ]
    },
    {
      "cell_type": "code",
      "execution_count": null,
      "metadata": {
        "id": "BH1QW2e56Yt0"
      },
      "outputs": [],
      "source": [
        "# keep only year 1995 and only country-product combinations where Mcp == 1 (thus RCAcpt > 1)\n",
        "dft <- filter(df_rca,time_col==1995,Mcp==1)\n",
        "# calculate cppt\n",
        "df_cppt <- calc_cppt(data=dft,region_col,product_col)\n",
        "\n",
        "print('cppt product co-occurences and proximities dataframe ready')"
      ]
    },
    {
      "cell_type": "markdown",
      "metadata": {
        "id": "AHSUcNAE6Yt0"
      },
      "source": [
        "#### Products that co-occur most often\n",
        "\n"
      ]
    },
    {
      "cell_type": "code",
      "execution_count": null,
      "metadata": {
        "id": "XaVSh-dn6Yt0"
      },
      "outputs": [],
      "source": [
        "df_cppt %>%\n",
        "  arrange(desc(Cpp)) %>%\n",
        "  head(n=10)"
      ]
    },
    {
      "cell_type": "markdown",
      "metadata": {
        "id": "JvLixW7I6Yt0"
      },
      "source": [
        "#### Most proximate products\n",
        "\n"
      ]
    },
    {
      "cell_type": "code",
      "execution_count": null,
      "metadata": {
        "id": "qsyYPvN06Yt0"
      },
      "outputs": [],
      "source": [
        "df_cppt %>%\n",
        "  arrange(desc(phi)) %>%\n",
        "  head(n=10)"
      ]
    },
    {
      "cell_type": "markdown",
      "metadata": {
        "id": "fztJV89t6Yt0"
      },
      "source": [
        "## Patents: Country and city specializations over time, and technology proximities\n",
        "\n"
      ]
    },
    {
      "cell_type": "markdown",
      "metadata": {
        "id": "OtGKTSbD6Yt0"
      },
      "source": [
        "We can apply this to patent data as well.\n",
        "\n",
        "At the Growth Lab we have access to and worked with the Patstat database, patents from Google Bigquery, patents from PatentView, HistPat, and patents obtained from USPTO publications from 1790 onwards through optical character recognition.\n",
        "\n"
      ]
    },
    {
      "cell_type": "markdown",
      "metadata": {
        "id": "WZP8DDhn6Yt0"
      },
      "source": [
        "### Technological diversification of countries\n",
        "\n"
      ]
    },
    {
      "cell_type": "markdown",
      "metadata": {
        "id": "XOAgFJo96Yt0"
      },
      "source": [
        "First we look at diversification of countries, using patents extracted from the Patstat database.\n",
        "\n",
        "Patstat includes all patents from ~ 1903 onwards.\n",
        "\n",
        "Below is an outline of what is available in Patstat:\n",
        "\n",
        "![img](https://www.dropbox.com/s/zqgv7fi61c2ip2f/patstat.png?dl=1)\n",
        "\n",
        "Below we use an aggregated file created from the Patstat database, containing:\n",
        "\n",
        "-   Year\n",
        "-   Country\n",
        "-   Technology class\n",
        "-   Count (N of patents)\n",
        "\n",
        "which I put on Dropbox temporarily so we can load it in directly into Google CoLab.\n",
        "\n"
      ]
    },
    {
      "cell_type": "markdown",
      "metadata": {
        "id": "ZY1YmIqF6Yt0"
      },
      "source": [
        "#### Load patent data\n",
        "\n"
      ]
    },
    {
      "cell_type": "code",
      "execution_count": null,
      "metadata": {
        "id": "orNMG4Y36Yt0"
      },
      "outputs": [],
      "source": [
        "print('loading patent data')\n",
        "# load STATA file into R directly from URL (using the 'foreign' library)\n",
        "dfp <- read.dta('https://www.dropbox.com/s/nwox3dznoupzm0q/patstat_year_country_tech_inventor_locations.dta?dl=1')\n",
        "#dfp <- read.dta('~/Dropbox/proj/org_zhtml_projects/product-space-eci-workshop/files/patstat_year_country_tech/patstat_year_country_tech_inventor_locations.dta')\n",
        "print('patent data loaded')"
      ]
    },
    {
      "cell_type": "markdown",
      "metadata": {
        "id": "wJGIPVgB6Yt0"
      },
      "source": [
        "##### Sample of data\n",
        "\n"
      ]
    },
    {
      "cell_type": "code",
      "execution_count": null,
      "metadata": {
        "id": "n1Rhq2FF6Yt0"
      },
      "outputs": [],
      "source": [
        "sample_n(dfp,10)"
      ]
    },
    {
      "cell_type": "markdown",
      "metadata": {
        "id": "Cll3YhaZ6Yt0"
      },
      "source": [
        "##### What are the first and last years in the data?\n",
        "\n"
      ]
    },
    {
      "cell_type": "code",
      "execution_count": null,
      "metadata": {
        "id": "3DUgjgBx6Yt0"
      },
      "outputs": [],
      "source": [
        "min(dfp$year)\n",
        "max(dfp$year)"
      ]
    },
    {
      "cell_type": "markdown",
      "metadata": {
        "id": "nieJUOg06Yt0"
      },
      "source": [
        "##### How many countries and technology classes are in the data?\n",
        "\n"
      ]
    },
    {
      "cell_type": "code",
      "execution_count": null,
      "metadata": {
        "id": "vfBv7hSy6Yt1"
      },
      "outputs": [],
      "source": [
        "print('Unique N of counties:')\n",
        "\n",
        "length(unique(dfp$country_name))\n",
        "\n",
        "print('Unique N of technologies:')\n",
        "\n",
        "length(unique(dfp$tech))"
      ]
    },
    {
      "cell_type": "markdown",
      "metadata": {
        "id": "-CNuvPVi6Yt1"
      },
      "source": [
        "#### RCAs\n",
        "\n"
      ]
    },
    {
      "cell_type": "code",
      "execution_count": null,
      "metadata": {
        "id": "cE7qCIdC6Yt1"
      },
      "outputs": [],
      "source": [
        "# rename columns accordingly\n",
        "dfp_rca <- dfp %>%\n",
        "  rename(time_col = year,\n",
        "         region_col = country_name,\n",
        "         product_col = tech,\n",
        "         value_col = count)\n",
        "\n",
        "# calculate RCA\n",
        "dfp_rca <- calc_rca(data=dfp_rca,region_col,product_col,time_col,value_col)\n",
        "\n",
        "print('patent rcas ready')"
      ]
    },
    {
      "cell_type": "markdown",
      "metadata": {
        "id": "PqvNOnHR6Yt1"
      },
      "source": [
        "##### What were Japan and Germany specialized in, in 1960 and 2010?\n",
        "\n"
      ]
    },
    {
      "cell_type": "code",
      "execution_count": null,
      "metadata": {
        "id": "Ll6XlFf26Yt1"
      },
      "outputs": [],
      "source": [
        "countries <- list(\"Japan\", \"Germany\")\n",
        "years <- list(1960, 2010)\n",
        "for (country in countries) {\n",
        "  for (year in years) {\n",
        "    dft <- dfp_rca %>%\n",
        "      filter(region_col == country, time_col == year) %>%\n",
        "      arrange(desc(RCAcpt)) %>%\n",
        "      head\n",
        "    print(dft)\n",
        "  }\n",
        "}"
      ]
    },
    {
      "cell_type": "markdown",
      "metadata": {
        "id": "QX8zjmJt6Yt1"
      },
      "source": [
        "#### Technology proximities\n",
        "\n"
      ]
    },
    {
      "cell_type": "markdown",
      "metadata": {
        "id": "aS4eZbt36Yt1"
      },
      "source": [
        "What technology classes are most proximate (in 2010)?\n",
        "\n"
      ]
    },
    {
      "cell_type": "code",
      "execution_count": null,
      "metadata": {
        "id": "fDll3MhA6Yt1"
      },
      "outputs": [],
      "source": [
        "# Define Mcp\n",
        "dfp_rca$Mcp = 0\n",
        "dfp_rca <- dfp_rca %>%\n",
        "  mutate(Mcp = ifelse(RCAcpt> 1, 1,0))\n",
        "\n",
        "# Keep only years 2010 and only country-product combinations where Mcp == 1 (thus RCAcp > 1)\n",
        "dft <-  dfp_rca %>%\n",
        "  filter(time_col==2010,Mcp==1)\n",
        "\n",
        "# Calculate cppt\n",
        "dfp_cppt <- calc_cppt(data=dft,region_col,product_col)\n",
        "\n",
        "print('cppt patent co-occurences and proximities dataframe ready')\n",
        "\n",
        "# Show most proximate technologies\n",
        "dfp_cppt %>%\n",
        "  arrange(desc(phi)) %>%\n",
        "  head(10)"
      ]
    },
    {
      "cell_type": "markdown",
      "metadata": {
        "id": "Ux0xIU_Y6Yt1"
      },
      "source": [
        "(You can use density regressions as well here to predict technological diversification of countries. Shreyas will cover this in a later Review Session).\n",
        "\n"
      ]
    },
    {
      "cell_type": "markdown",
      "metadata": {
        "id": "3kdWYCUm6Yt1"
      },
      "source": [
        "### Technological diversification of cities in the USA\n",
        "\n"
      ]
    },
    {
      "cell_type": "markdown",
      "metadata": {
        "id": "roGEC4F26Yt1"
      },
      "source": [
        "We can also investigate technological diversification at the sub-national level.\n",
        "\n",
        "Below we&rsquo;re using patent counts per city per technology from 1975 onwards (obtained from patents extracted from the PatentView database). Patents&rsquo; technologies are defined according to the Cooperative Patent Classification (CPC).\n",
        "\n"
      ]
    },
    {
      "cell_type": "markdown",
      "metadata": {
        "id": "Sf8lRUTs6Yt1"
      },
      "source": [
        "#### Load patent data\n",
        "\n"
      ]
    },
    {
      "cell_type": "code",
      "execution_count": null,
      "metadata": {
        "id": "KAXX0mV16Yt1"
      },
      "outputs": [],
      "source": [
        "# load csv file into R directly from URL\n",
        "print('loading patent data')\n",
        "dfp <- read.csv('https://www.dropbox.com/s/th4zqkmuofmg4u3/patentview_class_2022.csv?dl=1')\n",
        "#dfp <- read.csv('~/Dropbox/proj/odyssey_from/patentview_class_2022.csv')\n",
        "print('patent data loaded')"
      ]
    },
    {
      "cell_type": "markdown",
      "metadata": {
        "id": "4DheLyj96Yt1"
      },
      "source": [
        "##### Sample of data\n",
        "\n"
      ]
    },
    {
      "cell_type": "code",
      "execution_count": null,
      "metadata": {
        "id": "DRGzOQ0x6Yt1"
      },
      "outputs": [],
      "source": [
        "sample_n(dfp,10)"
      ]
    },
    {
      "cell_type": "markdown",
      "metadata": {
        "id": "0jl4FHbE6Yt1"
      },
      "source": [
        "##### What are the first and last years in the data?\n",
        "\n"
      ]
    },
    {
      "cell_type": "code",
      "execution_count": null,
      "metadata": {
        "id": "A5LQXsKH6Yt1"
      },
      "outputs": [],
      "source": [
        "min(dfp$year)\n",
        "max(dfp$year)"
      ]
    },
    {
      "cell_type": "markdown",
      "metadata": {
        "id": "o2dCu6cf6Yt2"
      },
      "source": [
        "##### How many cities (regions) and technology classes are in the data?\n",
        "\n"
      ]
    },
    {
      "cell_type": "code",
      "execution_count": null,
      "metadata": {
        "id": "vgIYOEHx6Yt2"
      },
      "outputs": [],
      "source": [
        "print('Unique N of counties:')\n",
        "length(unique(dfp$region))\n",
        "\n",
        "print('Unique N of technologies:')\n",
        "length(unique(dfp$tech))"
      ]
    },
    {
      "cell_type": "markdown",
      "metadata": {
        "id": "IHnc03KZ6Yt2"
      },
      "source": [
        "#### RCAs\n",
        "\n"
      ]
    },
    {
      "cell_type": "code",
      "execution_count": null,
      "metadata": {
        "id": "fhP9ViT46Yt2"
      },
      "outputs": [],
      "source": [
        "# rename columns accordingly\n",
        "dfp_rca <- dfp %>%\n",
        "  rename(time_col = year,\n",
        "         region_col = region,\n",
        "         product_col = tech,\n",
        "         value_col = count)\n",
        "\n",
        "# calculate RCA\n",
        "# -- keep 1980 and 2017\n",
        "dfp_rca <- dfp_rca %>% filter(time_col==1980 | time_col == 2017)\n",
        "\n",
        "# -- calculate\n",
        "dfp_rca <- calc_rca(data=dfp_rca,region_col,product_col,time_col,value_col)\n",
        "\n",
        "print('patent rcas ready')"
      ]
    },
    {
      "cell_type": "markdown",
      "metadata": {
        "id": "-Hi7ez4b6Yt2"
      },
      "source": [
        "##### What were Silicon Valley (Santa Clara county) and Detroit (MI - Wayne county) specialized in, in 1980 and 2017?\n",
        "\n"
      ]
    },
    {
      "cell_type": "code",
      "execution_count": null,
      "metadata": {
        "id": "fqh99fCh6Yt2"
      },
      "outputs": [],
      "source": [
        "# -- minimal 5 patents\n",
        "#regions <- list(\"CA > Santa Clara\", \"MI > Wayne\")\n",
        "regions <- list('CA > Santa Clara > San Jose','MI > Wayne > Detroit')\n",
        "years <- list(1980, 2017)\n",
        "for (region in regions) {\n",
        "  for (year in years) {\n",
        "    dft <- dfp_rca %>%\n",
        "      filter(grepl(region, region_col),time_col==year,value_col>5) %>%\n",
        "      arrange(desc(RCAcpt)) %>%\n",
        "      head\n",
        "    print(dft)\n",
        "  }\n",
        "}"
      ]
    },
    {
      "cell_type": "markdown",
      "metadata": {
        "id": "kXwiSosq6Yt2"
      },
      "source": [
        "#### Technology proximities (cpc)\n",
        "\n"
      ]
    },
    {
      "cell_type": "markdown",
      "metadata": {
        "id": "UkcCIjxa6Yt2"
      },
      "source": [
        "What technology classes (cpc classification) are most proximate (in 2010)?\n",
        "\n"
      ]
    },
    {
      "cell_type": "code",
      "execution_count": null,
      "metadata": {
        "id": "SdTeldec6Yt2"
      },
      "outputs": [],
      "source": [
        "# Define Mcp\n",
        "dfp_rca$Mcp = 0\n",
        "dfp_rca <- dfp_rca %>%\n",
        "  mutate(Mcp = ifelse(RCAcpt> 1, 1,0))\n",
        "\n",
        "# Keep only years 2010 and only country-product combinations where Mcp == 1 (thus RCAcp > 1)\n",
        "dft <-  dfp_rca %>%\n",
        "  filter(time_col==2017,Mcp==1)\n",
        "\n",
        "# Calculate cppt\n",
        "dfp_cppt <- calc_cppt(data=dft,region_col,product_col)\n",
        "\n",
        "print('df_cppt ready')\n",
        "print('cppt patent co-occurences and proximities dataframe ready')\n",
        "\n",
        "# Show most proximate technologies\n",
        "dfp_cppt %>%\n",
        "  arrange(desc(phi)) %>%\n",
        "  head(10)"
      ]
    },
    {
      "cell_type": "markdown",
      "metadata": {
        "id": "uER2hUZZ6Yt2"
      },
      "source": [
        "## Product space\n",
        "\n"
      ]
    },
    {
      "cell_type": "markdown",
      "metadata": {
        "id": "6tErTJUN6Yt2"
      },
      "source": [
        "### Overview\n",
        "\n"
      ]
    },
    {
      "cell_type": "markdown",
      "metadata": {
        "id": "IsYscw_k6Yt2"
      },
      "source": [
        "We now have a measure of similarity between products (and patents), which is the core of the product space.\n",
        "\n",
        "[https://atlas.cid.harvard.edu/explore/network?country=114&year=2018&productClass=HS&product=undefined&startYear=undefined&target=Product&partner=undefined](https://atlas.cid.harvard.edu/explore/network?country=114&year=2018&productClass=HS&product=undefined&startYear=undefined&target=Product&partner=undefined)\n",
        "\n",
        "![img](/Users/admin/Dropbox/proj/org_zhtml_projects/product-space-eci-workshop/imgs/product_space_atlas_website.png)\n",
        "\n",
        "![img](https://www.dropbox.com/s/izag1xf28yldanf/product_space_atlas_website.png?dl=1)\n",
        "\n",
        "Below we will explore the product space using R whilst interacting with Python. You can then directly manipulate the product space and visualize selectively if not possible in the Atlas interface (e.g. only products exported to certain countries).\n",
        "\n",
        "The Github repo for this is available at [https://github.com/cid-harvard/py-productspace](https://github.com/cid-harvard/py-productspace).\n",
        "\n",
        "What we need is information on:\n",
        "\n",
        "-   Edges (ties) between nodes\n",
        "    \n",
        "    Ties between nodes represent the product proximity calculated above. Each product pair has a proximity value, but visualizing all ties, however, would result in a major &ldquo;hairball&rdquo;.\n",
        "    \n",
        "    To determine which of the ties to visualize in the product space, a &rsquo;maximum spanning tree algorithm&rsquo; is used (to make sure all nodes are connected directly or indirectly) in conjunction with a certain proximity threshold (0.55 minimum conditional probability). The details can be found in the Supplementary Material of Hidalgo et al. (2007) at [https://science.sciencemag.org/content/suppl/2007/07/26/317.5837.482.DC1](https://science.sciencemag.org/content/suppl/2007/07/26/317.5837.482.DC1).\n",
        "    \n",
        "    The data on the ties of nodes is available in the Atlas data repository at:\n",
        "    [https://dataverse.harvard.edu/file.xhtml?persistentId=doi:10.7910/DVN/FCDZBN/QSEETD&version=1.1](https://dataverse.harvard.edu/file.xhtml?persistentId=doi:10.7910/DVN/FCDZBN/QSEETD&version=1.1)\n",
        "    \n",
        "    We can directly load it into R using the link below (temporarily for this session, when using Harvard&rsquo;s dataverse you&rsquo;d need to sign a short User Agreement form so you can&rsquo;t load data directly from a URL):\n",
        "    \n",
        "    [https://www.dropbox.com/s/r601tjoulq1denf/network_hs92_4digit.json?dl=1](https://www.dropbox.com/s/r601tjoulq1denf/network_hs92_4digit.json?dl=1)\n",
        "\n",
        "-   Position of nodes\n",
        "    -   Each node is a product\n",
        "    \n",
        "    -   To position them in the product space, Hidalgo et al. (2007) used a spring embedding algorithm (which positions the nodes in such a way that there are as few crossing ties as possible, using physical simulations with force-directed algorithms), followed by hand-crafting the outcome to further visually separate distinct &rsquo;clusters&rsquo; of products.\n",
        "        \n",
        "        The data on the position of nodes (x, y coordinates) is in the same file as the one above with the data on ties (network<sub>hs92</sub><sub>4digit.json</sub>).\n",
        "        \n",
        "        We will use this fixed layout for now (James and Yang will deal with different ways to visualize multi-dimensional data in 2D/3D, e.g. with machine learning, UMAP).\n",
        "\n",
        "-   Size of nodes\n",
        "    \n",
        "    The size in the product space represents the total $ in world trade, but one can also use other attributes of nodes (e.g. if nodes are industries, the size could be total employment).\n",
        "\n",
        "-   Color of nodes\n",
        "    \n",
        "    In the product space the node color represents major product groups (e.g. Agriculture, Chemicals) following the Leamer classification. The node coloring data is available in the Atlas data repository at:\n",
        "    [https://dataverse.harvard.edu/dataverse/atlas?q=&types=files&sort=dateSort&order=desc&page=1](https://dataverse.harvard.edu/dataverse/atlas?q=&types=files&sort=dateSort&order=desc&page=1)\n",
        "    \n",
        "    We can directly load it into R using the link below (again, temporary for this session):\n",
        "    \n",
        "    [https://www.dropbox.com/s/rlm8hu4pq0nkg63/hs4_hex_colors_intl_atlas.csv?dl=1](https://www.dropbox.com/s/rlm8hu4pq0nkg63/hs4_hex_colors_intl_atlas.csv?dl=1)\n",
        "\n"
      ]
    },
    {
      "cell_type": "markdown",
      "metadata": {
        "id": "aMBaVNx56Yt2"
      },
      "source": [
        "### (Visualizing in the product space, using R with Python)\n",
        "\n"
      ]
    },
    {
      "cell_type": "markdown",
      "metadata": {
        "id": "bQJhSUVF6Yt2"
      },
      "source": [
        "Some (most) tools at the Growth Lab are written in Python / STATA rather than R, but with the &rsquo;reticulate&rsquo; package in R one can interact directly with Python libraries in the backend. Below is a showcase of one way to do so;\n",
        "\n",
        "Yang&rsquo;s session (Session 3) will go much deeper into visualization as such using UMAP, machine learning etc.\n",
        "\n"
      ]
    },
    {
      "cell_type": "markdown",
      "metadata": {
        "id": "kl8Vp94I6Yt2"
      },
      "source": [
        "#### Prepare dataframe\n",
        "\n"
      ]
    },
    {
      "cell_type": "markdown",
      "metadata": {
        "id": "hgJ-cgGe6Yt2"
      },
      "source": [
        "First we select the country which product portfolio we wish to visualize. We&rsquo;ll use Saudi Arabia below for the dataframe of the product space (&rsquo;df<sub>ps</sub>&rsquo;).\n",
        "\n"
      ]
    },
    {
      "cell_type": "code",
      "execution_count": null,
      "metadata": {
        "id": "fTp7QQfK6Yt2"
      },
      "outputs": [],
      "source": [
        "COUNTRY_STRING <- 'Saudi Arabia'\n",
        "df_ps <- df_rca %>%\n",
        "  filter(region_col==COUNTRY_STRING)\n",
        "\n",
        "# Cross-check\n",
        "if (dim(df_ps)[1]==0) {\n",
        "    print('Country string set above does not exist in data, typed correctly?')\n",
        "    STOP\n",
        "}"
      ]
    },
    {
      "cell_type": "markdown",
      "metadata": {
        "id": "qVd6h5YT6Yt2"
      },
      "source": [
        "##### Country, RCA, year, export value selections\n",
        "\n"
      ]
    },
    {
      "cell_type": "markdown",
      "metadata": {
        "id": "4Cs7ZK_h6Yt2"
      },
      "source": [
        "Next we define what trade properties of Saudi Arabia we want to visualize. The example below visualizes specialiation in 2005 (year=2005, RCAcpt>1) of only those products with at least 40 million in trade value.\n",
        "\n",
        "This data preparation happens before inputting into it the product space function so you can inspect the dataframe before plotting.\n",
        "\n"
      ]
    },
    {
      "cell_type": "code",
      "execution_count": null,
      "metadata": {
        "id": "68PaoF-r6Yt2"
      },
      "outputs": [],
      "source": [
        "df_ps <- df_rca %>%\n",
        "  filter(region_col==COUNTRY_STRING, time_col==2005,RCAcpt>1,value_col > 4000000) %>%\n",
        "  select(product_col,value_col,product_code)"
      ]
    },
    {
      "cell_type": "markdown",
      "metadata": {
        "id": "oClAfbbt6Yt3"
      },
      "source": [
        "To visualize the data in the product space, we will now use a Product Space visualization package by the Growth Lab written in Python (work in progress) at\n",
        "\n",
        "[https://github.com/cid-harvard/py-productspace](https://github.com/cid-harvard/py-productspace)\n",
        "\n",
        "The &rsquo;reticulate&rsquo; library in R allows one to (easily) incorporate python libraries in R:\n",
        "\n",
        "[https://rstudio.github.io/reticulate/](https://rstudio.github.io/reticulate/)\n",
        "\n",
        "Any Python module can be imported into and called from R (using &rsquo;import&rsquo;). For instance, we can import Python&rsquo;s os module and call the getcwd function to show the current working directory:\n",
        "\n",
        "(in Colab this doesn&rsquo;t work anymore, see related open issue:\n",
        "[https://github.com/rstudio/reticulate/issues/1190](https://github.com/rstudio/reticulate/issues/1190)\n",
        ")\n",
        "\n"
      ]
    },
    {
      "cell_type": "code",
      "execution_count": null,
      "metadata": {
        "id": "aHpWAalW6Yt3"
      },
      "outputs": [],
      "source": [
        "os <- import(\"os\")\n",
        "os$getcwd()"
      ]
    },
    {
      "cell_type": "markdown",
      "metadata": {
        "id": "jYZJcIRo6Yt3"
      },
      "source": [
        "Below we&rsquo;ll import into R the product space visualization library in Python and visualize Saudi Arabia&rsquo;s portfolio accordingly:\n",
        "\n"
      ]
    },
    {
      "cell_type": "code",
      "execution_count": null,
      "metadata": {
        "id": "OLPzXHVv6Yt3"
      },
      "outputs": [],
      "source": [
        "# store df_ps dataframe in R's temporary folder before loading it into Python\n",
        "file_name <- tempfile(fileext = \".csv\")\n",
        "write.csv(df_ps, file=file_name,row.names=FALSE)\n",
        "\n",
        "# Call the python function from R\n",
        "source_python('https://raw.githubusercontent.com/cid-harvard/py-productspace/master/create_product_space_v2.py')\n",
        "\n",
        "# Filename of product space image (saved in R's temporary folder)\n",
        "network_image_file_name <- tempfile(fileext=\".png\")\n",
        "\n",
        "# To add R variables as Python parameters, we'll use the glue library\n",
        "string_python <- glue(\"create_product_space(df_plot_dataframe_filename ='{file_name}', \\\\\\\n",
        "                     df_plot_node_col = 'product_code', \\\\\\\n",
        "                     df_node_size_col = 'value_col', \\\\\\\n",
        "                     output_image_file ='{network_image_file_name}')\"\n",
        "                     )\n",
        "\n",
        "# Run the python string\n",
        "py_run_string(string_python)\n",
        "\n",
        "sprintf('product space image saved in %s',network_image_file_name)\n",
        "\n",
        "# Plot the product space now\n",
        "\n",
        "# -- load png file\n",
        "pp <- readPNG(network_image_file_name)\n",
        "\n",
        "# -- enlarge plot area in Jupyter Notebook\n",
        "options(repr.plot.width=15, repr.plot.height=15)\n",
        "\n",
        "# -- plot, enlarge width / height for higher resolution\n",
        "grid::grid.raster(pp,width=1.8,height=1.8)\n",
        "\n",
        "# can also show it using ImageMagick\n",
        "install.packages('magick')\n",
        "img <- magick::image_read(network_image_file_name)\n",
        "plot(img) # or print(img)\n",
        "\n",
        "print('the network can be saved as an image locally by right clicking on it in the notebook\n",
        "and clicking \"Save Image\", or by editing the output_image_file parameter above')"
      ]
    },
    {
      "cell_type": "markdown",
      "metadata": {
        "id": "OdUrgF9v6Yt3"
      },
      "source": [
        "Product space image:\n",
        "\n",
        "![img](https://www.dropbox.com/s/t1w6icpqd4w9wcp/product_space_v2.png?dl=1)\n",
        "\n"
      ]
    },
    {
      "cell_type": "markdown",
      "metadata": {
        "id": "pl2xgOn-6Yt3"
      },
      "source": [
        "## -----------&#x2013;&#x2014; Break: Excercise 1 ------------------\n",
        "\n"
      ]
    },
    {
      "cell_type": "markdown",
      "metadata": {
        "id": "-EyJMyjS6Yt3"
      },
      "source": [
        "### What product does Ukraine export most in 1995? (excluding services such as &rsquo;transport&rsquo;, &rsquo;ict&rsquo; etc)\n",
        "\n"
      ]
    },
    {
      "cell_type": "code",
      "execution_count": null,
      "metadata": {
        "id": "7-ti0iWS6Yt3"
      },
      "outputs": [],
      "source": []
    },
    {
      "cell_type": "markdown",
      "metadata": {
        "id": "cnCaas2Q6Yt3"
      },
      "source": [
        "### What products is Ukraine specialized in in 1995 and 2005 and how much do they export of these?\n",
        "\n"
      ]
    },
    {
      "cell_type": "code",
      "execution_count": null,
      "metadata": {
        "id": "k4obMcvS6Yt3"
      },
      "outputs": [],
      "source": []
    },
    {
      "cell_type": "markdown",
      "metadata": {
        "id": "tN1NFWuv6Yt3"
      },
      "source": [
        "### Which product is most related to the product &rsquo;Stainless steel wire&rsquo;?\n",
        "\n"
      ]
    },
    {
      "cell_type": "code",
      "execution_count": null,
      "metadata": {
        "id": "xV7Vhz3S6Yt3"
      },
      "outputs": [],
      "source": []
    },
    {
      "cell_type": "markdown",
      "metadata": {
        "id": "_hx1tg8F6Yt3"
      },
      "source": [
        "### ( Plot Ukraine in the product space in 1995.)\n",
        "\n"
      ]
    },
    {
      "cell_type": "markdown",
      "metadata": {
        "id": "gsvNlU5r6Yt3"
      },
      "source": [
        "How would you characterize Ukraine&rsquo;s position in the product space?\n",
        "\n"
      ]
    },
    {
      "cell_type": "code",
      "execution_count": null,
      "metadata": {
        "id": "G8OvYtUF6Yt3"
      },
      "outputs": [],
      "source": []
    },
    {
      "cell_type": "markdown",
      "metadata": {
        "id": "SERvBe-26Yt3"
      },
      "source": [
        "### ( Plot Ukraine in the product space in 2015.)\n",
        "\n"
      ]
    },
    {
      "cell_type": "markdown",
      "metadata": {
        "id": "rfnyWtbL6Yt3"
      },
      "source": [
        "Do you notice a difference with 1995?\n",
        "\n"
      ]
    },
    {
      "cell_type": "code",
      "execution_count": null,
      "metadata": {
        "id": "Qk19_o2J6Yt3"
      },
      "outputs": [],
      "source": []
    },
    {
      "cell_type": "markdown",
      "metadata": {
        "id": "AUAtOwFi6Yt3"
      },
      "source": [
        "### ( Plot your own country across different years in the product space. Do the results make sense? Do you notice any patterns?)\n",
        "\n"
      ]
    },
    {
      "cell_type": "code",
      "execution_count": null,
      "metadata": {
        "id": "Ip9vtirH6Yt3"
      },
      "outputs": [],
      "source": []
    },
    {
      "cell_type": "markdown",
      "metadata": {
        "id": "T77nv8gs6Yt3"
      },
      "source": [
        "## Predicting diversification of countries: densities / density regressions\n",
        "\n"
      ]
    },
    {
      "cell_type": "markdown",
      "metadata": {
        "id": "hlB_hf5G6Yt4"
      },
      "source": [
        "Shreyas will cover this in Review Session 6.\n",
        "\n"
      ]
    },
    {
      "cell_type": "markdown",
      "metadata": {
        "id": "shyDWwnQ6Yt4"
      },
      "source": [
        "## Calculating Economic Complexity / Product Complexity\n",
        "\n"
      ]
    },
    {
      "cell_type": "markdown",
      "metadata": {
        "id": "n4MMHwti6Yt4"
      },
      "source": [
        "We know from the product space and density regressions how products are related to one another and how that matters for diversification of countries.\n",
        "\n",
        "The next step is to look at which parts of the product space are most interesting to ultimately reach / diversify into. Generally complex products are located in the center of the product space, and countries with a higher economic complexity tend to have higher economic growth.\n",
        "\n",
        "![img](https://github.com/matteha/product-space-eci-workshop/blob/main/imgs/complex_products_in_product_space.png?raw=1)\n",
        "\n",
        "![img](https://www.dropbox.com/s/a231jw76yocjkkr/complex_products_in_product_space.png?dl=1)\n",
        "\n",
        "Recall from the lecture that the economic complexity index (ECI) and product complexity index (PCI) measures are derived from an iterative method of reflections algorithm on country diversity and product ubiquity (Hidalgo Hausmann 2009), or finding the eigenvalues of a country-product matrix (Mealy et al. 2019):\n",
        "\n",
        "![img](/Users/admin/Dropbox/proj/org_zhtml_projects/product-space-eci-workshop/imgs/countries_products_eci.png)\n",
        "\n",
        "![img](https://www.dropbox.com/s/dte4vwgk4tvj3rd/countries_products_eci.png?dl=1)\n",
        "\n",
        "The STATA package to calculate this - by Sebastian Bustos and Muhammed Yildirim - is available at:\n",
        "\n",
        "[https://github.com/cid-harvard/ecomplexity](https://github.com/cid-harvard/ecomplexity)\n",
        "\n",
        "The Python package to calculate this - by Shreyas Gadgin Matha - is available at:\n",
        "\n",
        "[https://github.com/cid-harvard/py-ecomplexity](https://github.com/cid-harvard/py-ecomplexity)\n",
        "\n",
        "The R package to calculate this, by Mauricio Vargas, Carlo Bottai, Diego Kozlowski, Nico Pintar, The World Bank, Open Trade Statistics, is available at:\n",
        "\n",
        "[https://cran.r-project.org/web/packages/economiccomplexity/index.html](https://cran.r-project.org/web/packages/economiccomplexity/index.html)\n",
        "\n",
        "(When using other software, e.g. Excel without having access to these packages, one can also calculate ECI by directly downloading the PCI value for every product from the Atlas Dataverse repository - the ECI of a country is the mean of the PCI values of the products it has a comparative advantage in).\n",
        "\n"
      ]
    },
    {
      "cell_type": "markdown",
      "metadata": {
        "id": "PjeGN6fU6Yt4"
      },
      "source": [
        "### Using the &rsquo;economiccomplexity&rsquo; R package\n",
        "\n"
      ]
    },
    {
      "cell_type": "markdown",
      "metadata": {
        "id": "w5hx4SEq6Yt4"
      },
      "source": [
        "#### Trade data\n",
        "\n"
      ]
    },
    {
      "cell_type": "code",
      "execution_count": null,
      "metadata": {
        "id": "E4peMf0K6Yt4"
      },
      "outputs": [],
      "source": [
        "# select only year 2000\n",
        "dft <- df_orig %>% filter(year==2000) %>% select (country_name,product_name,export_value)\n",
        "\n",
        "# rename columns accordingly\n",
        "dft <- dft %>%\n",
        "  rename(country = country_name,\n",
        "         product = product_name,\n",
        "         value = export_value)\n",
        "\n",
        "# calculate the Balassa index (rca, 1 if > 1)\n",
        "bi <- balassa_index(dft)\n",
        "\n",
        "# calculate eci / pci, using reflections here: same values as py-ecomplexity package\n",
        "cm <- complexity_measures(bi,method='reflections')\n",
        "\n",
        "# convert to tibble, add country names, sort from most to least complex\n",
        "# -- xci labels are set with setNames (extract with 'names')\n",
        "df_eci <- cm$complexity_index_country %>%\n",
        "  as_tibble() %>%\n",
        "  mutate(country = names(cm$complexity_index_country)) %>%\n",
        "  rename(eci = value)\n",
        "\n",
        "# same procedure for products (pci)\n",
        "df_pci <- cm$complexity_index_product %>%\n",
        "  as_tibble() %>%\n",
        "  mutate(product = names(cm$complexity_index_product)) %>%\n",
        "  rename(pci= value)\n",
        "\n",
        "# add product codes as well to df_pci\n",
        "df_product_codes <- df_orig %>%\n",
        "  select(product_name,product_code) %>%\n",
        "  distinct(product_name, .keep_all= TRUE) # drop_duplicates in pandas\n",
        "\n",
        "df_pci <- left_join(df_pci,df_product_codes,by=c('product'='product_name'))\n",
        "#########\n",
        "\n",
        "print('eci, pci dataframes ready')"
      ]
    },
    {
      "cell_type": "markdown",
      "metadata": {
        "id": "DJk74nFa6Yt4"
      },
      "source": [
        "Most complex countries:\n",
        "\n"
      ]
    },
    {
      "cell_type": "code",
      "execution_count": null,
      "metadata": {
        "id": "9aG3-hhM6Yt4"
      },
      "outputs": [],
      "source": [
        "df_eci %>% arrange(desc(eci)) %>% head"
      ]
    },
    {
      "cell_type": "markdown",
      "metadata": {
        "id": "YYyri4Qi6Yt4"
      },
      "source": [
        "Most complex products:\n",
        "\n"
      ]
    },
    {
      "cell_type": "code",
      "execution_count": null,
      "metadata": {
        "id": "wGntWZRg6Yt4"
      },
      "outputs": [],
      "source": [
        "df_pci %>% arrange(desc(pci)) %>% head"
      ]
    },
    {
      "cell_type": "markdown",
      "metadata": {
        "id": "9gWeRA7m6Yt4"
      },
      "source": [
        "### Complexity weighted by destination (example: Ukraine)\n",
        "\n"
      ]
    },
    {
      "cell_type": "markdown",
      "metadata": {
        "id": "A5ta_COY6Yt4"
      },
      "source": [
        "You can also calculate economic complexity by destination.\n",
        "\n",
        "We did this to explore opportunities for Ukraine (to connect to European value chains):\n",
        "\n",
        "[https://growthlab.cid.harvard.edu/publications/assessing-ukraines-role-european-value-chains-gravity-equation-cum-economic](https://growthlab.cid.harvard.edu/publications/assessing-ukraines-role-european-value-chains-gravity-equation-cum-economic)\n",
        "\n",
        "(Using the ECI by destination we found that highly complex products from Ukraine in the 2000s were typically destined for the Russian market, which was also one of the largest importers of products from Ukraine. The detoriation in relations with Russia led to a significant decline in exports there from 2011 onwards, resulting in Ukraine suffering from not only a quantitative but also a qualitative decline in exports).\n",
        "\n",
        "Hidalgo and Hausmann (2009) calculate complexity of country $c$ as the average PCI of all products for which ${RCA}_{cp}>1$.\n",
        "\n",
        "Below we define it as the weighted average PCI, where weights are given by the value of country $c$’s exports in each product. This allows us to define an ECI for separate export markets.\n",
        "\n",
        "Let $\\mathcal{M}$ be the set of countries that together constitute an export market (say, the EU&rsquo;s Single Market). Now, the destination-market specific ECI for country $c$ is defined as:\n",
        "\n",
        "\\begin{equation} \\label{e_ECI}\n",
        "ECI_{c}^{\\mathcal{M}}=\\sum \\limits_{p} \\frac{\\sum \\limits_{d \\in \\mathcal{M}} X^{d}_{op}}{\\sum \\limits_{d \\in \\mathcal{M}} X^{d}_{o}} {PCI}_{p}   \n",
        "\\end{equation}\n",
        "\n",
        "where $X_{op}^{d}$ represents the exports of product $p$ from exporter $o$ to importer $d$ and an omitted subscript indicates the summation over the omitted category: $X_{o}^{d}=\\sum \\limits_{p} X_{op}^{d}$.\n",
        "\n",
        "To calculate this, we need a dataset that has country exports **per destination** for this, which is available in the Growth Lab&rsquo;s DataVerse as:\n",
        "\n",
        "    \"country_partner_hsproduct4digit_years_2000_2016.csv\"\n",
        "\n",
        "As this file above is 16 gigabytes, we will load a version of it for only Ukraine&rsquo;s exports. This file has been processed outside of Google colab using the code below:\n",
        "\n",
        "    df = pd.read_csv('country_partner_hsproduct4digit_years_2000_2016.csv')\n",
        "    df = df[df['location_code_code']=='UKR')\n",
        "    df = df[df['export_value']>0]\n",
        "    df.to_csv('ukr_exports_per_destination.csv',index=False)\n",
        "\n"
      ]
    },
    {
      "cell_type": "code",
      "execution_count": null,
      "metadata": {
        "id": "ACnuaJE96Yt4"
      },
      "outputs": [],
      "source": [
        "# Complexity by destination\n",
        "print('loading data')\n",
        "#df_ukr <- read_csv(file='~/Dropbox/proj/org_zhtml_projects/product-space-eci-workshop/files/ukr_exports_per_destination.csv')\n",
        "df_ukr <- read_csv(file='https://www.dropbox.com/s/megm8qzn3jcwnqz/ukr_exports_per_destination.csv?dl=1')\n",
        "print('loaded')\n",
        "\n",
        "# show sample of dataset\n",
        "sample_n(df_ukr,10)"
      ]
    },
    {
      "cell_type": "markdown",
      "metadata": {
        "id": "RRln-kk26Yt5"
      },
      "source": [
        "Merge PCI from products in 2000 into the dataframe (from df<sub>ec</sub> created in previous section using py-ecomplexity).\n",
        "\n"
      ]
    },
    {
      "cell_type": "code",
      "execution_count": null,
      "metadata": {
        "id": "q33xjcTY6Yt5"
      },
      "outputs": [],
      "source": [
        "# add leading zero if 3-digit\n",
        "df_ukr$len_hs_product_code = str_length(df_ukr$hs_product_code)\n",
        "df_ukr <- df_ukr %>%\n",
        "    mutate(hs_product_code = ifelse(len_hs_product_code == 3, paste('0',hs_product_code,sep=\"\"),hs_product_code))\n",
        "\n",
        "# strip leading / trailing spaces\n",
        "df_ukr$hs_product_code <- trimws(df_ukr$hs_product_code, which = c(\"both\"))\n",
        "\n",
        "# merge\n",
        "df_ukr <- left_join(df_ukr, df_pci, by = c(\"hs_product_code\" = \"product_code\"))"
      ]
    },
    {
      "cell_type": "markdown",
      "metadata": {
        "id": "IhSvdXV16Yt5"
      },
      "source": [
        "Now we calculate the ECI by destination:\n",
        "\n"
      ]
    },
    {
      "cell_type": "code",
      "execution_count": null,
      "metadata": {
        "id": "aVqZSp1_6Yt5"
      },
      "outputs": [],
      "source": [
        "calc_ecimc <- function(data,origin_col,destination_col,product_col,value_col,pci_col) {\n",
        "           dft <- data\n",
        "\n",
        "           # total exports by exporter-importer\n",
        "           dft <- dft %>%\n",
        "             group_by(origin_col,destination_col) %>%\n",
        "             mutate(export_value_cot = sum(value_col))\n",
        "\n",
        "           # sum of pci per export\n",
        "           dft$pci_x_export = dft$pci_col * dft$value_col\n",
        "\n",
        "           dft <- dft %>%\n",
        "             group_by(origin_col,destination_col) %>%\n",
        "             mutate(pci_x_export_sum = sum(pci_x_export))\n",
        "\n",
        "           dft$eciMc = dft$pci_x_export_sum / dft$export_value_cot\n",
        "\n",
        "           dft <- dft %>%\n",
        "             distinct(origin_col,destination_col, .keep_all= TRUE)\n",
        "\n",
        "           dft <- dft %>% select(origin_col,destination_col,eciMc)\n",
        "\n",
        "           return(dft)\n",
        "         }\n",
        "\n",
        "print('ecimc function defined')"
      ]
    },
    {
      "cell_type": "code",
      "execution_count": null,
      "metadata": {
        "id": "tTIZbdtx6Yt5"
      },
      "outputs": [],
      "source": [
        "df_ukr_ecimc <- df_ukr %>%\n",
        "  rename(origin_col = location_code,\n",
        "         destination_col = partner_code,\n",
        "         product_col = hs_product_code,\n",
        "         value_col = export_value,\n",
        "         pci_col = pci\n",
        "  )\n",
        "\n",
        "# calculate ecimc\n",
        "df_ukr_ecimc <- calc_ecimc(data=df_ukr_ecimc,origin_col,destination_col,product_col,value_col,pci_col)\n",
        "\n",
        "print('dataset eci weighted ready, sample below')\n",
        "\n",
        "head(df_ukr_ecimc)"
      ]
    },
    {
      "cell_type": "markdown",
      "metadata": {
        "id": "Y1d_gn0t6Yt5"
      },
      "source": [
        "Economic complexity of Ukrainian exports by destination: most complex highlighted (run this outside Google Colab)\n",
        "\n"
      ]
    },
    {
      "cell_type": "code",
      "execution_count": null,
      "metadata": {
        "id": "tIeMEgba6Yt5"
      },
      "outputs": [],
      "source": [
        "print ('need to install highcharter / maps but takes some time on google co-lab, hence not done at beginning')\n",
        "\n",
        "###################\n",
        "###################\n",
        "ptm <- proc.time()\n",
        "print('installing highcharter')\n",
        "install.packages('highcharter',verbose=TRUE)\n",
        "install.packages('highcharter') # slow install (in colab)\n",
        "proc.time() - ptm\n",
        "\n",
        "ptm <- proc.time()\n",
        "print('installing maps')\n",
        "install.packages('maps',verbose=TRUE)\n",
        "install.packages('maps')\n",
        "proc.time() - ptm\n",
        "###################\n",
        "###################\n",
        "\n",
        "library('highcharter')\n",
        "library('maps')"
      ]
    },
    {
      "cell_type": "code",
      "execution_count": null,
      "metadata": {
        "id": "sxeluVb36Yt5"
      },
      "outputs": [],
      "source": [
        "df_ukr_ecimc_map <- df_ukr_ecimc %>%\n",
        "  rename(\"iso-a3\"=\"destination_col\")\n",
        "\n",
        "hcmap(\n",
        "  map = \"custom/world-highres3\", # high resolution world map\n",
        "  # eci in 85th percentile\n",
        "  data = filter(df_ukr_ecimc_map,eciMc>quantile(df_ukr_ecimc_map$eciMc,probs=c(0.85),na.rm=TRUE)),\n",
        "  joinBy = \"iso-a3\",\n",
        "  value = \"eciMc\",\n",
        "  showInLegend = FALSE, # hide legend\n",
        "  #nullColor = \"#DADADA\",\n",
        "  download_map_data = TRUE\n",
        ") %>% hc_colorAxis(minColor = \"orange\", maxColor = \"red\")"
      ]
    },
    {
      "cell_type": "code",
      "execution_count": null,
      "metadata": {
        "id": "iB-J-BEB6Yt5"
      },
      "outputs": [],
      "source": [
        "head(df_ukr_ecimc)"
      ]
    },
    {
      "cell_type": "markdown",
      "metadata": {
        "id": "uUSIFdj26Yt5"
      },
      "source": [
        "Map: weighted ECI of Ukrainian exports:\n",
        "\n",
        "![img](https://www.dropbox.com/s/dgotrds24lf2g5h/weighted_eci_ukraine.png?dl=1)\n",
        "\n",
        "Highly complex products are typically destined for the Russian market, which is also one of the largest importers of products from Ukraine.\n",
        "\n",
        "The detoriation in relations with Russia led to a significant decline in exports there from 2011 onwards:\n",
        "![img](https://www.dropbox.com/s/xfl3gig3zxer0fm/total_exports_Ukraine_over_years.png?dl=1)\n",
        "\n",
        "As a result, Ukraine suffers from not only a quantitative but also a qualitative decline in exports. In the paper we explore new opportunities for Ukraine.\n",
        "\n",
        "(Note: double-check political controversies when using mapping libraries in R / Python (e.g. geopandas, highcharter)!)\n",
        "\n",
        "![img](https://www.dropbox.com/s/twtl8p5ksgfezm0/map_ukraine.png?dl=1)\n",
        "\n"
      ]
    },
    {
      "cell_type": "markdown",
      "metadata": {
        "id": "4JXRjBWE6Yt5"
      },
      "source": [
        "## -----------&#x2013;&#x2014; Break: Excercise 2 ------------------\n",
        "\n"
      ]
    },
    {
      "cell_type": "markdown",
      "metadata": {
        "id": "n63SnEp56Yt5"
      },
      "source": [
        "### What are countries with high complexity in 2015?\n",
        "\n"
      ]
    },
    {
      "cell_type": "code",
      "execution_count": null,
      "metadata": {
        "id": "_qWxN1LR6Yt5"
      },
      "outputs": [],
      "source": []
    },
    {
      "cell_type": "markdown",
      "metadata": {
        "id": "0J1E5xyi6Yt5"
      },
      "source": [
        "### Vice versa, what are countries with low complexity in 2015?\n",
        "\n"
      ]
    },
    {
      "cell_type": "code",
      "execution_count": null,
      "metadata": {
        "id": "X24_FCO76Yt5"
      },
      "outputs": [],
      "source": []
    },
    {
      "cell_type": "markdown",
      "metadata": {
        "id": "XrZNneGH6Yt5"
      },
      "source": [
        "### What are products (PCI) with high complexity in 2015?\n",
        "\n"
      ]
    },
    {
      "cell_type": "code",
      "execution_count": null,
      "metadata": {
        "id": "YemI1HLi6Yt5"
      },
      "outputs": [],
      "source": []
    },
    {
      "cell_type": "markdown",
      "metadata": {
        "id": "7ieRf0WF6Yt5"
      },
      "source": [
        "### Vice versa, what are products (PCI) with low complexity in 2015?\n",
        "\n"
      ]
    },
    {
      "cell_type": "code",
      "execution_count": null,
      "metadata": {
        "id": "0x7nI8ko6Yt5"
      },
      "outputs": [],
      "source": []
    },
    {
      "cell_type": "markdown",
      "metadata": {
        "id": "T_HpbrJI6Yt5"
      },
      "source": [
        "### Ukraine\n",
        "\n"
      ]
    },
    {
      "cell_type": "markdown",
      "metadata": {
        "id": "3HzyRLpS6Yt6"
      },
      "source": [
        "#### How did Ukraine&rsquo;s economic complexity evolve over time?\n",
        "\n"
      ]
    },
    {
      "cell_type": "code",
      "execution_count": null,
      "metadata": {
        "id": "ncmiN-kI6Yt7"
      },
      "outputs": [],
      "source": []
    },
    {
      "cell_type": "markdown",
      "metadata": {
        "id": "4fZ5IbOT6Yt8"
      },
      "source": [
        "#### How does Ukraine&rsquo;s economic complexity in 2015 compare to other countries? Which countries have comparable economic complexity?\n",
        "\n"
      ]
    },
    {
      "cell_type": "code",
      "execution_count": null,
      "metadata": {
        "id": "5dJt7AeX6Yt8"
      },
      "outputs": [],
      "source": []
    },
    {
      "cell_type": "markdown",
      "metadata": {
        "id": "tsNWYsVd6Yt8"
      },
      "source": [
        "#### What are the most complex products that Ukraine exported in 2015?\n",
        "\n"
      ]
    },
    {
      "cell_type": "code",
      "execution_count": null,
      "metadata": {
        "id": "kv5Nj5_O6Yt8"
      },
      "outputs": [],
      "source": []
    },
    {
      "cell_type": "markdown",
      "metadata": {
        "id": "fyNrpxKY6Yt8"
      },
      "source": [
        "## ---\n",
        "\n"
      ]
    },
    {
      "cell_type": "markdown",
      "metadata": {
        "id": "W9CpT4Sk6Yt8"
      },
      "source": [
        "## ---\n",
        "\n"
      ]
    },
    {
      "cell_type": "markdown",
      "metadata": {
        "id": "hr_VJhEt6Yt8"
      },
      "source": [
        "## ---\n",
        "\n"
      ]
    },
    {
      "cell_type": "markdown",
      "metadata": {
        "id": "8PX3HI6n6Yt8"
      },
      "source": [
        "## Excercise answers\n",
        "\n"
      ]
    },
    {
      "cell_type": "markdown",
      "metadata": {
        "id": "4ns-MNk46Yt8"
      },
      "source": [
        "### Excercise 1\n",
        "\n"
      ]
    },
    {
      "cell_type": "markdown",
      "metadata": {
        "id": "H8fAhrKn6Yt8"
      },
      "source": [
        "#### What product does Ukraine export most in 1995? (excluding services such as &rsquo;transport&rsquo;, &rsquo;ict&rsquo; etc)\n",
        "\n"
      ]
    },
    {
      "cell_type": "code",
      "execution_count": null,
      "metadata": {
        "id": "WjGjcmMW6Yt8"
      },
      "outputs": [],
      "source": [
        "df_orig %>%\n",
        "  filter(country_name=='Ukraine',year==2005) %>%\n",
        "  group_by(product_code,product_name) %>%\n",
        "  summarise(sum_export_value = sum(export_value)) %>%\n",
        "  arrange(desc(sum_export_value)) %>%\n",
        "  head()"
      ]
    },
    {
      "cell_type": "markdown",
      "metadata": {
        "id": "KMWW4VOs6Yt8"
      },
      "source": [
        "#### What products is Ukraine specialized in in 1995 and 2005 and how much do they export of these?\n",
        "\n"
      ]
    },
    {
      "cell_type": "code",
      "execution_count": null,
      "metadata": {
        "id": "BXkBwHXL6Yt8"
      },
      "outputs": [],
      "source": [
        "# Use the 'df_rca' dataframe for this\n",
        "print('1995: ')\n",
        "df_rca %>%\n",
        "  filter(region_col=='Ukraine',time_col==1995) %>%\n",
        "  arrange(desc(RCAcpt)) %>%\n",
        "  select(product_col,RCAcpt,value_col) %>%\n",
        "  head\n",
        "\n",
        "print('2005: ')\n",
        "df_rca %>%\n",
        "  filter(region_col=='Ukraine',time_col==2005) %>%\n",
        "  arrange(desc(RCAcpt)) %>%\n",
        "  select(product_col,RCAcpt,value_col) %>%\n",
        "  head"
      ]
    },
    {
      "cell_type": "markdown",
      "metadata": {
        "id": "JjmWTudt6Yt8"
      },
      "source": [
        "#### Which product is most related to the product &rsquo;Stainless steel wire&rsquo;?\n",
        "\n"
      ]
    },
    {
      "cell_type": "code",
      "execution_count": null,
      "metadata": {
        "id": "h0PYaOnI6Yt8"
      },
      "outputs": [],
      "source": [
        "df_cppt %>%\n",
        "  filter(product_col_1=='Stainless steel wire') %>%\n",
        "  arrange(desc(phi)) %>%\n",
        "  head()"
      ]
    },
    {
      "cell_type": "markdown",
      "metadata": {
        "id": "V06fvGGb6Yt8"
      },
      "source": [
        "#### Plot Ukraine in the product space in 1995.\n",
        "\n"
      ]
    },
    {
      "cell_type": "markdown",
      "metadata": {
        "id": "cTMk-h336Yt8"
      },
      "source": [
        "How would you characterize Ukraine&rsquo;s position in the product space?\n",
        "\n"
      ]
    },
    {
      "cell_type": "code",
      "execution_count": null,
      "metadata": {
        "id": "yM_NBgXm6Yt8"
      },
      "outputs": [],
      "source": [
        "df_ps <- df_rca %>%\n",
        "  filter(region_col=='Ukraine', time_col==1995,RCAcpt>1,value_col > 4000000) %>%\n",
        "  select(product_col,value_col,product_code)\n",
        "\n",
        "file_name <- tempfile(fileext = \".csv\")\n",
        "write.csv(df_ps, file=file_name,row.names=FALSE)\n",
        "\n",
        "# Call python functions from R\n",
        "source_python('https://raw.githubusercontent.com/cid-harvard/py-productspace/master/create_product_space_v2.py')\n",
        "\n",
        "# We will use the glue library here to add R variables as Python parameters\n",
        "network_image_file_name <- tempfile(fileext=\".png\")\n",
        "\n",
        "string_python <- glue(\"create_product_space(df_plot_dataframe_filename ='{file_name}', \\\\\\\n",
        "                     df_plot_node_col = 'product_code', \\\\\\\n",
        "                     df_node_size_col = 'value_col', \\\\\\\n",
        "                     output_image_file ='{network_image_file_name}')\"\n",
        "                     )\n",
        "\n",
        "py_run_string(string_python)\n",
        "\n",
        "sprintf('product space image saved in %s',network_image_file_name)\n",
        "\n",
        "# Plot the product space now\n",
        "pp <- readPNG(network_image_file_name)\n",
        "options(repr.plot.width=15, repr.plot.height=15)\n",
        "grid::grid.raster(pp,width=1.8,height=1.8)\n",
        "\n",
        "print('the network can be saved as an image locally by right clicking on it in the notebook\n",
        "and clicking \"Save Image\", or by editing the output_image_file parameter above')"
      ]
    },
    {
      "cell_type": "markdown",
      "metadata": {
        "id": "-dMO35Tv6Yt8"
      },
      "source": [
        "#### Plot Ukraine in the product space in 2015.\n",
        "\n"
      ]
    },
    {
      "cell_type": "markdown",
      "metadata": {
        "id": "UaOfHE2-6Yt8"
      },
      "source": [
        "Do you notice a difference with 1995?\n",
        "\n"
      ]
    },
    {
      "cell_type": "code",
      "execution_count": null,
      "metadata": {
        "id": "xm9g34SK6Yt8"
      },
      "outputs": [],
      "source": [
        "df_ps <- df_rca %>%\n",
        "  filter(region_col=='Ukraine', time_col==2015,RCAcpt>1,value_col > 4000000) %>%\n",
        "  select(product_col,value_col,product_code)\n",
        "\n",
        "file_name <- tempfile(fileext = \".csv\")\n",
        "write.csv(df_ps, file=file_name,row.names=FALSE)\n",
        "\n",
        "# Call python functions from R\n",
        "source_python('https://raw.githubusercontent.com/cid-harvard/py-productspace/master/create_product_space_v2.py')\n",
        "\n",
        "# We will use the glue library here to add R variables as Python parameters\n",
        "network_image_file_name <- tempfile(fileext=\".png\")\n",
        "\n",
        "string_python <- glue(\"create_product_space(df_plot_dataframe_filename ='{file_name}', \\\\\\\n",
        "                     df_plot_node_col = 'product_code', \\\\\\\n",
        "                     df_node_size_col = 'value_col', \\\\\\\n",
        "                     output_image_file ='{network_image_file_name}')\"\n",
        "                     )\n",
        "\n",
        "py_run_string(string_python)\n",
        "\n",
        "sprintf('product space image saved in %s',network_image_file_name)\n",
        "\n",
        "# Plot the product space now\n",
        "pp <- readPNG(network_image_file_name)\n",
        "options(repr.plot.width=15, repr.plot.height=15)\n",
        "grid::grid.raster(pp,width=1.8,height=1.8)\n",
        "\n",
        "print('the network can be saved as an image locally by right clicking on it in the notebook\n",
        "and clicking \"Save Image\", or by editing the output_image_file parameter above')"
      ]
    },
    {
      "cell_type": "markdown",
      "metadata": {
        "id": "je6d_mv86Yt8"
      },
      "source": [
        "#### Plot your own country across different years in the product space. Do the results make sense? Do you notice any patterns?\n",
        "\n"
      ]
    },
    {
      "cell_type": "markdown",
      "metadata": {
        "id": "yiVhsKg66Yt8"
      },
      "source": [
        "### Excercise 2:\n",
        "\n"
      ]
    },
    {
      "cell_type": "markdown",
      "metadata": {
        "id": "7uzLDiJn6Yt8"
      },
      "source": [
        "#### What are countries with high complexity in 2015?\n",
        "\n"
      ]
    },
    {
      "cell_type": "code",
      "execution_count": null,
      "metadata": {
        "id": "Saac_c6J6Yt9"
      },
      "outputs": [],
      "source": [
        "df_eci %>%\n",
        "  arrange(desc(eci)) %>%\n",
        "  head"
      ]
    },
    {
      "cell_type": "markdown",
      "metadata": {
        "id": "drX52wjq6Yt9"
      },
      "source": [
        "#### Vice versa, what are countries with low complexity in 2015?\n",
        "\n"
      ]
    },
    {
      "cell_type": "code",
      "execution_count": null,
      "metadata": {
        "id": "ZaiPUSTe6Yt9"
      },
      "outputs": [],
      "source": [
        "df_eci %>%\n",
        "  arrange(desc(eci)) %>%\n",
        "  tail()"
      ]
    },
    {
      "cell_type": "markdown",
      "metadata": {
        "id": "dnPpoHWu6Yt9"
      },
      "source": [
        "#### What are products (PCI) with high complexity in 2015?\n",
        "\n"
      ]
    },
    {
      "cell_type": "code",
      "execution_count": null,
      "metadata": {
        "id": "0AsKbxh26Yt9"
      },
      "outputs": [],
      "source": [
        "df_pci %>%\n",
        "  arrange(desc(pci)) %>%\n",
        "  head()"
      ]
    },
    {
      "cell_type": "markdown",
      "metadata": {
        "id": "14c14OWo6Yt9"
      },
      "source": [
        "#### Vice versa, what are products (PCI) with low complexity in 2015?\n",
        "\n"
      ]
    },
    {
      "cell_type": "code",
      "execution_count": null,
      "metadata": {
        "id": "2BtEwUOG6Yt9"
      },
      "outputs": [],
      "source": [
        "df_pci %>%\n",
        "  arrange(desc(pci)) %>%\n",
        "  tail()"
      ]
    },
    {
      "cell_type": "markdown",
      "metadata": {
        "id": "16wt_FTV6Yt9"
      },
      "source": [
        "#### Ukraine\n",
        "\n"
      ]
    },
    {
      "cell_type": "markdown",
      "metadata": {
        "id": "QjUxk2i76Yt9"
      },
      "source": [
        "##### How did Ukraine&rsquo;s economic complexity evolve over time?\n",
        "\n"
      ]
    },
    {
      "cell_type": "code",
      "execution_count": null,
      "metadata": {
        "id": "VxCE8yIZ6Yt9"
      },
      "outputs": [],
      "source": [
        "df_eci_allyrs <- data.frame()\n",
        "years <- 1995:2016\n",
        "  for (yeart in years) {\n",
        "    sprintf('doing year %s',yeart)\n",
        "    # Loop now\n",
        "    head(df_orig)\n",
        "    dft <- df_orig %>% filter(year==yeart) %>% select (country_name,product_name,export_value)\n",
        "    dft <- dft %>%\n",
        "      rename(country = country_name,\n",
        "             product = product_name,\n",
        "             value = export_value)\n",
        "    # balassa index (rca, 1 if > 1)\n",
        "    bi <- balassa_index(dft)\n",
        "    # calculate eci / pci, using reflections here: same values as py-ecomplexity package\n",
        "    cm <- complexity_measures(bi,method='reflections')\n",
        "    # convert to tibble, add country names, sort from most to least complex\n",
        "    # -- xci labels are set with setNames (extract with 'names')\n",
        "    df_eci <- cm$complexity_index_country %>%\n",
        "      as_tibble() %>%\n",
        "      mutate(country = names(cm$complexity_index_country)) %>%\n",
        "      rename(eci = value)\n",
        "    df_eci$year = yeart\n",
        "    head(df_eci)\n",
        "    df_eci_allyrs <- bind_rows(df_eci_allyrs,df_eci)\n",
        "  }\n",
        "\n",
        "# plot eci over the years\n",
        "dft <- filter(df_eci_allyrs,country == 'Ukraine')\n",
        "dft %>% ggplot(aes(x = year, y = eci)) + geom_line()"
      ]
    },
    {
      "cell_type": "markdown",
      "metadata": {
        "id": "l9BlPDVx6Yt9"
      },
      "source": [
        "##### How does Ukraine&rsquo;s economic complexity in 2015 compare to other countries? Which countries have comparable economic complexity?\n",
        "\n"
      ]
    },
    {
      "cell_type": "code",
      "execution_count": null,
      "metadata": {
        "id": "gG1h44gf6Yt9"
      },
      "outputs": [],
      "source": [
        "# - keep 2015, sort by eci and create row number\n",
        "dft <- df_eci_allyrs %>%\n",
        "  filter(year == 2015)  %>%\n",
        "  arrange(desc(eci)) %>%\n",
        "  mutate(row_number = row_number())\n",
        "# countries above and below Ukraine in ranking\n",
        "row_number1 <- filter(dft,country=='Ukraine')$row_number-5\n",
        "row_number2 <- filter(dft,country=='Ukraine')$row_number+5\n",
        "# show\n",
        "dft %>% slice(row_number1:row_number2)"
      ]
    },
    {
      "cell_type": "markdown",
      "metadata": {
        "id": "GHwEfVSb6Yt9"
      },
      "source": [
        "##### What are the most complex products that Ukraine exported in 2015?\n",
        "\n"
      ]
    },
    {
      "cell_type": "code",
      "execution_count": null,
      "metadata": {
        "id": "4tpfICdZ6Yt9"
      },
      "outputs": [],
      "source": [
        "df_ukr <- df_rca %>%\n",
        "  filter(time_col == 2015,region_col=='Ukraine',RCAcpt > 1)\n",
        "# to merge pci into the dataframe, add leading zero if 3-digit\n",
        "df_ukr$len_product_code = str_length(df_ukr$product_code)\n",
        "df_ukr <- df_ukr %>%\n",
        "    mutate(product_code = ifelse(len_product_code == 3, paste('0',product_code,sep=\"\"),product_code))\n",
        "# strip leading / trailing spaces\n",
        "df_ukr$product_code <- trimws(df_ukr$product_code, which = c(\"both\"))\n",
        "# merge pcis from 2000 into dataframe\n",
        "df_ukr <- left_join(df_ukr, df_pci, by = c(\"product_code\" = \"product_code\"))\n",
        "# sort\n",
        "head(arrange(df_ukr,desc(pci)))\n",
        "head(df_ukr,20)"
      ]
    },
    {
      "cell_type": "markdown",
      "metadata": {
        "id": "vIW4qu0L6Yt9"
      },
      "source": [
        "## Questions?\n",
        "\n"
      ]
    },
    {
      "cell_type": "markdown",
      "metadata": {
        "id": "WRx-7MXb6Yt9"
      },
      "source": [
        "Contact me at matte \\_ hartog@hks.harvard.edu or drop by the fifth floor in the Rubenstein building, office 502.\n",
        "\n"
      ]
    }
  ],
  "metadata": {
    "org": null,
    "kernelspec": {
      "display_name": "R",
      "language": "R",
      "name": "ir"
    },
    "language_info": {
      "codemirror_mode": "r",
      "file_extension": ".r",
      "mimetype": "text/x-r-source",
      "name": "R",
      "pygments_lexer": "r",
      "version": "3.3.2"
    },
    "colab": {
      "provenance": []
    }
  },
  "nbformat": 4,
  "nbformat_minor": 0
}