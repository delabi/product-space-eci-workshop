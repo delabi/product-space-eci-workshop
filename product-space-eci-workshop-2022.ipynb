{
 "cells": [
  {
   "cell_type": "markdown",
   "metadata": {},
   "source": [
    "Trade and patents in Python: RCAs, proximities, product space and economic complexity\n",
    "=====================================================================================\n",
    "\n"
   ]
  },
  {
   "cell_type": "markdown",
   "metadata": {},
   "source": [
    "September 17 2021, Matte Hartog\n",
    "\n"
   ]
  },
  {
   "cell_type": "markdown",
   "metadata": {},
   "source": [
    "## Notes\n",
    "\n"
   ]
  },
  {
   "cell_type": "markdown",
   "metadata": {},
   "source": [
    "Google colab link:\n",
    "\n",
    "[https://colab.research.google.com/github/matteha/product-space-eci-workshop/blob/main/product-space-eci-workshop.ipynb](https://colab.research.google.com/github/matteha/product-space-eci-workshop/blob/main/product-space-eci-workshop.ipynb)\n",
    "\n",
    "To run code in Google Colab, you need a Google account.\n",
    "\n"
   ]
  },
  {
   "cell_type": "markdown",
   "metadata": {},
   "source": [
    "## To do first\n",
    "\n"
   ]
  },
  {
   "cell_type": "markdown",
   "metadata": {},
   "source": [
    "In Google Colab:\n",
    "\n",
    "1.  Turn on Table of Contents: (in browser, click on &rsquo;View&rsquo; in top, then &rsquo;Table of Contents&rsquo;)\n",
    "\n",
    "2.  Expand all sections (&rsquo;View&rsquo; > &rsquo;Expand Sections&rsquo; if not greyed out)\n",
    "\n"
   ]
  },
  {
   "cell_type": "markdown",
   "metadata": {},
   "source": [
    "## Outline of lab session\n",
    "\n"
   ]
  },
  {
   "cell_type": "markdown",
   "metadata": {},
   "source": [
    "-   Introduction to trade data\n",
    "\n",
    "-   Calculating RCAs, co-occurences and proximities (trade + patent data)\n",
    "\n",
    "-   Product space visualization\n",
    "\n",
    "-   Calculating Product Complexity / Economic Complexity (by destination)\n",
    "\n"
   ]
  },
  {
   "cell_type": "markdown",
   "metadata": {},
   "source": [
    "## Trade data\n",
    "\n"
   ]
  },
  {
   "cell_type": "markdown",
   "metadata": {},
   "source": [
    "### Background\n",
    "\n"
   ]
  },
  {
   "cell_type": "markdown",
   "metadata": {},
   "source": [
    "The product space is, as well as its derivations / related measures such as economic complexity and the Growth&rsquo;s annual rankings of countries by economic complexity (at [https://atlas.cid.harvard.edu](https://atlas.cid.harvard.edu)), are based on trade data between countries.\n",
    "\n",
    "The Growth Lab maintains and periodically updates a cleaned version of trade data at Harvard Dataverse:\n",
    "\n",
    "[https://dataverse.harvard.edu/dataverse/atlas](https://dataverse.harvard.edu/dataverse/atlas)\n",
    "\n",
    "This dataset contains bilateral trade data among 235 countries and territories in thousands of different products categories (a description of the data can be found at: [http://atlas.cid.harvard.edu/downloads](http://atlas.cid.harvard.edu/downloads)).\n",
    "\n",
    "How does the data look like? We will explore the data in Python using the &rsquo;pandas&rsquo; (most popular Python package for data analysis).\n",
    "\n"
   ]
  },
  {
   "cell_type": "markdown",
   "metadata": {},
   "source": [
    "#### Footnote on trade and services (ICT, tourism, etc.):\n",
    "\n"
   ]
  },
  {
   "cell_type": "markdown",
   "metadata": {},
   "source": [
    "-   Services and tourism are included in the Growth Lab&rsquo;s Atlas and trade data as well as of September 2018. See announcement at:\n",
    "\n",
    "[https://atlas.cid.harvard.edu/announcements/2018/services-press-release](https://atlas.cid.harvard.edu/announcements/2018/services-press-release)\n",
    "\n",
    "Obtained from IMF, trade in services covers four categories of economic activities between producers and consumers across borders:\n",
    "\n",
    "-   services supplied from one country to another (e.g. call centers)\n",
    "-   consumption in other countries (e.g. international tourism)\n",
    "-   firms with branches in other countries (e.g. bank branches overseas)\n",
    "-   individuals supplying services in another country (e.g. IT consultant abroad)\n",
    "\n"
   ]
  },
  {
   "cell_type": "markdown",
   "metadata": {},
   "source": [
    "### Load necessary Python libraries\n",
    "\n"
   ]
  },
  {
   "cell_type": "code",
   "execution_count": 1,
   "metadata": {},
   "outputs": [
    {
     "name": "stdout",
     "output_type": "stream",
     "text": [
      "\u001b[33mDEPRECATION: Configuring installation scheme with distutils config files is deprecated and will no longer work in the near future. If you are using a Homebrew or Linuxbrew Python, please see discussion at https://github.com/Homebrew/homebrew-core/issues/76621\u001b[0m\u001b[33m\n",
      "\u001b[0mRequirement already satisfied: geopandas in /opt/homebrew/lib/python3.9/site-packages (0.11.1)\n",
      "Requirement already satisfied: pandas>=1.0.0 in /opt/homebrew/lib/python3.9/site-packages (from geopandas) (1.4.3)\n",
      "Requirement already satisfied: fiona>=1.8 in /opt/homebrew/lib/python3.9/site-packages (from geopandas) (1.8.21)\n",
      "Requirement already satisfied: packaging in /opt/homebrew/lib/python3.9/site-packages (from geopandas) (21.3)\n",
      "Requirement already satisfied: shapely<2,>=1.7 in /opt/homebrew/lib/python3.9/site-packages (from geopandas) (1.8.2)\n",
      "Requirement already satisfied: pyproj>=2.6.1.post1 in /opt/homebrew/lib/python3.9/site-packages (from geopandas) (3.3.1)\n",
      "Requirement already satisfied: click-plugins>=1.0 in /opt/homebrew/lib/python3.9/site-packages (from fiona>=1.8->geopandas) (1.1.1)\n",
      "Requirement already satisfied: cligj>=0.5 in /opt/homebrew/lib/python3.9/site-packages (from fiona>=1.8->geopandas) (0.7.2)\n",
      "Requirement already satisfied: munch in /opt/homebrew/lib/python3.9/site-packages (from fiona>=1.8->geopandas) (2.5.0)\n",
      "Requirement already satisfied: setuptools in /opt/homebrew/lib/python3.9/site-packages (from fiona>=1.8->geopandas) (63.2.0)\n",
      "Requirement already satisfied: six>=1.7 in /opt/homebrew/lib/python3.9/site-packages (from fiona>=1.8->geopandas) (1.16.0)\n",
      "Requirement already satisfied: certifi in /opt/homebrew/lib/python3.9/site-packages (from fiona>=1.8->geopandas) (2022.6.15)\n",
      "Requirement already satisfied: click>=4.0 in /opt/homebrew/lib/python3.9/site-packages (from fiona>=1.8->geopandas) (8.1.3)\n",
      "Requirement already satisfied: attrs>=17 in /opt/homebrew/lib/python3.9/site-packages (from fiona>=1.8->geopandas) (21.4.0)\n",
      "Requirement already satisfied: numpy>=1.20.0 in /opt/homebrew/lib/python3.9/site-packages (from pandas>=1.0.0->geopandas) (1.23.1)\n",
      "Requirement already satisfied: pytz>=2020.1 in /opt/homebrew/lib/python3.9/site-packages (from pandas>=1.0.0->geopandas) (2022.1)\n",
      "Requirement already satisfied: python-dateutil>=2.8.1 in /opt/homebrew/lib/python3.9/site-packages (from pandas>=1.0.0->geopandas) (2.8.2)\n",
      "Requirement already satisfied: pyparsing!=3.0.5,>=2.0.2 in /opt/homebrew/lib/python3.9/site-packages (from packaging->geopandas) (3.0.9)\n",
      "\u001b[33mDEPRECATION: Configuring installation scheme with distutils config files is deprecated and will no longer work in the near future. If you are using a Homebrew or Linuxbrew Python, please see discussion at https://github.com/Homebrew/homebrew-core/issues/76621\u001b[0m\u001b[33m\n",
      "\u001b[0m\u001b[33mWARNING: There was an error checking the latest version of pip.\u001b[0m\u001b[33m\n",
      "\u001b[0mnecessary libraries loaded\n"
     ]
    }
   ],
   "source": [
    "# -- Global settings\n",
    "# - import python libraries necessary for this workshop\n",
    "# suppress warnings on google colab for now\n",
    "import warnings\n",
    "warnings.filterwarnings(\"ignore\")\n",
    "# to interact with os, e.g. to execute shell comands such as 'ls', 'pwd' etc.\n",
    "import os\n",
    "# to do data processing\n",
    "import pandas as pd\n",
    "# backend of pandas, working with matrices\n",
    "import numpy as np\n",
    "# to visualize data (in pandas)\n",
    "import matplotlib.pyplot as plt\n",
    "import matplotlib.colors as colors\n",
    "from matplotlib import cm\n",
    "# to process a json file\n",
    "import json\n",
    "# work with regex in python\n",
    "import re\n",
    "# work with networks in python, to create product space\n",
    "import networkx as nx\n",
    "# python tools to work with combinations of arrays\n",
    "from itertools import count\n",
    "from itertools import combinations\n",
    "from itertools import product\n",
    "# to download files\n",
    "import urllib.request, json\n",
    "# to plot data on maps\n",
    "# pip install is needed on Google Colab\n",
    "!pip3 install geopandas\n",
    "import geopandas\n",
    "# -- set scientific notation to display numbers fully rather than exponential\n",
    "pd.set_option('display.float_format', '{:.2f}'.format)\n",
    "from IPython.core.interactiveshell import InteractiveShell\n",
    "InteractiveShell.ast_node_interactivity = 'all' # Show all results of jupyter\n",
    "import seaborn as sns\n",
    "sns.set_style('whitegrid') # Display grids on dark background\n",
    "# to run regressions\n",
    "import statsmodels.api as sm\n",
    "# Enlarged pandas display - more colums and rows with greater width\n",
    "pd.set_option('display.max_columns', 500)\n",
    "pd.set_option('display.width', 100000)\n",
    "pd.set_option('display.max_rows', 500)\n",
    "pd.set_option('display.max_colwidth',300)\n",
    "print('necessary libraries loaded')"
   ]
  },
  {
   "cell_type": "markdown",
   "metadata": {},
   "source": [
    "### Download trade dataset and load into memory\n",
    "\n"
   ]
  },
  {
   "cell_type": "markdown",
   "metadata": {},
   "source": [
    "Our $X_{cpt}$ matrix.\n",
    "\n"
   ]
  },
  {
   "cell_type": "code",
   "execution_count": 2,
   "metadata": {},
   "outputs": [
    {
     "name": "stdout",
     "output_type": "stream",
     "text": [
      "Downloading data and loading into memory\n",
      "trade dataset 'df_orig' ready\n"
     ]
    }
   ],
   "source": [
    "# Load the necessary data into pandas\n",
    "\n",
    "# In pandas terminilogy this is called a 'dataframe' (df)\n",
    "product_classification = 'hs' # Harmonized System 1992; alternative is 'SITC - Standard Industrial Trade Classification'\n",
    "\n",
    "N_digits = '4' # alternative is 2 or 6, the higher the more detailed product info\n",
    "\n",
    "# Trade data: we're using s3 storage from Amazon here because we can directly download the data into pandas in Google Colab but this is no longer maintained by the Growth Lab - rather download from Dataverse.\n",
    "\n",
    "data_url = f\"https://intl-atlas-downloads.s3.amazonaws.com/country_{product_classification}product{N_digits}digit_year.csv.zip\"\n",
    "print('Downloading data and loading into memory')\n",
    "df_orig = pd.read_csv(data_url, compression=\"zip\", low_memory=False)\n",
    "\n",
    "# Fix product label strings ('hs_product_name_short_en'): some products with different product codes erronuously have the same strings - remove these duplicates\n",
    "# (e.g. product codes 5209 and 5211 in Zimbabwe have same product string)\n",
    "# -- download original UN classification\n",
    "with urllib.request.urlopen(\"https://comtrade.un.org/data/cache/classificationH0.json\") as url:\n",
    "    hs1992_json = json.loads(url.read())\n",
    "dft = pd.DataFrame.from_dict(hs1992_json['results'])[['text']]\n",
    "dft['hs_product_code'] = dft['text'].str.split('-').str[0].str.strip()\n",
    "dft['hs_product_name_short_en'] = dft['text'].str.split('-',1).str[1].str.strip()\n",
    "dft['N_dig'] = dft['hs_product_code'].str.len()\n",
    "dft2 = dft[dft['N_dig']==int(N_digits)].copy()\n",
    "df_orig = pd.merge(df_orig,dft2[['hs_product_code','hs_product_name_short_en']],how='left',on=f'hs_product_code') # unmerged are services (obtained from IMF)\n",
    "# -- replace product name now with downloaded strings (if not missing in either)\n",
    "df_orig['hs_product_name_short_en_new'] = df_orig['hs_product_name_short_en_x']\n",
    "df_orig.loc[ df_orig['hs_product_name_short_en_y'].notnull(),'hs_product_name_short_en_new'] = df_orig['hs_product_name_short_en_y']\n",
    "df_orig.drop(['hs_product_name_short_en_x'],axis=1,inplace=True,errors='ignore')\n",
    "df_orig.drop(['hs_product_name_short_en_y'],axis=1,inplace=True,errors='ignore')\n",
    "df_orig.rename(columns={f'hs_product_name_short_en_new':f'hs_product_name_short_en'}, inplace=True)\n",
    "\n",
    "# Cross check that each row is a unique year-location-product entry\n",
    "df_orig['count'] = 1\n",
    "df_orig['sum'] = df_orig.groupby(['year','location_name_short_en','hs_product_name_short_en'])['count'].transform('sum')\n",
    "if df_orig['sum'].max() != 1:\n",
    "    print(f'duplicates found, stopping')\n",
    "    stop\n",
    "\n",
    "# rename variable names for convenience\n",
    "df_orig.rename(columns={f'location_name_short_en':f'country_name'}, inplace=True)\n",
    "df_orig.rename(columns={f'location_code':f'country_code'}, inplace=True)\n",
    "df_orig.rename(columns={f'hs_product_code':f'product_code'}, inplace=True)\n",
    "df_orig.rename(columns={f'hs_product_name_short_en':f'product_name'}, inplace=True)\n",
    "\n",
    "# Keep only relevant columns\n",
    "df_orig = df_orig[['year',\n",
    "         'country_code',\n",
    "         'country_name',\n",
    "         'product_code',\n",
    "         'product_name',\n",
    "         'export_value']]\n",
    "\n",
    "print('trade dataset \\'df_orig\\' ready')"
   ]
  },
  {
   "cell_type": "markdown",
   "metadata": {},
   "source": [
    "### Exploring the trade data\n",
    "\n"
   ]
  },
  {
   "cell_type": "markdown",
   "metadata": {},
   "source": [
    "#### Structure of dataset\n",
    "\n"
   ]
  },
  {
   "cell_type": "code",
   "execution_count": 3,
   "metadata": {},
   "outputs": [
    {
     "data": {
      "text/html": [
       "<div>\n",
       "<style scoped>\n",
       "    .dataframe tbody tr th:only-of-type {\n",
       "        vertical-align: middle;\n",
       "    }\n",
       "\n",
       "    .dataframe tbody tr th {\n",
       "        vertical-align: top;\n",
       "    }\n",
       "\n",
       "    .dataframe thead th {\n",
       "        text-align: right;\n",
       "    }\n",
       "</style>\n",
       "<table border=\"1\" class=\"dataframe\">\n",
       "  <thead>\n",
       "    <tr style=\"text-align: right;\">\n",
       "      <th></th>\n",
       "      <th>year</th>\n",
       "      <th>country_code</th>\n",
       "      <th>country_name</th>\n",
       "      <th>product_code</th>\n",
       "      <th>product_name</th>\n",
       "      <th>export_value</th>\n",
       "    </tr>\n",
       "  </thead>\n",
       "  <tbody>\n",
       "    <tr>\n",
       "      <th>5678960</th>\n",
       "      <td>2013</td>\n",
       "      <td>GUM</td>\n",
       "      <td>Guam</td>\n",
       "      <td>8801</td>\n",
       "      <td>Aircraft, non-powered; balloons, dirigibles, gliders, hang-gliders and the like</td>\n",
       "      <td>13691.00</td>\n",
       "    </tr>\n",
       "    <tr>\n",
       "      <th>3515586</th>\n",
       "      <td>1995</td>\n",
       "      <td>KOR</td>\n",
       "      <td>South Korea</td>\n",
       "      <td>6201</td>\n",
       "      <td>Overcoats, car-coats, capes, cloaks, anoraks (including ski-jackets), wind-cheaters, wind-jackets and similar articles, men's or boys', other than those of heading no. 6203 (not knitted or crocheted)</td>\n",
       "      <td>314045184.00</td>\n",
       "    </tr>\n",
       "    <tr>\n",
       "      <th>2853789</th>\n",
       "      <td>1999</td>\n",
       "      <td>BGD</td>\n",
       "      <td>Bangladesh</td>\n",
       "      <td>4903</td>\n",
       "      <td>Children's picture, drawing or colouring books</td>\n",
       "      <td>0.00</td>\n",
       "    </tr>\n",
       "    <tr>\n",
       "      <th>3969608</th>\n",
       "      <td>2005</td>\n",
       "      <td>NFK</td>\n",
       "      <td>Norfolk Island</td>\n",
       "      <td>7015</td>\n",
       "      <td>Clock, watch and similar glasses, glasses for non-corrective or corrective spectacles, curved, bent, hallowed etc, not optically worked; hollow glass spheres and their segments for manufacture</td>\n",
       "      <td>0.00</td>\n",
       "    </tr>\n",
       "    <tr>\n",
       "      <th>2516872</th>\n",
       "      <td>2008</td>\n",
       "      <td>COM</td>\n",
       "      <td>Comoros</td>\n",
       "      <td>4203</td>\n",
       "      <td>Articles of apparel and clothing accessories, of leather or of composition leather</td>\n",
       "      <td>0.00</td>\n",
       "    </tr>\n",
       "  </tbody>\n",
       "</table>\n",
       "</div>"
      ],
      "text/plain": [
       "         year country_code    country_name product_code                                                                                                                                                                                             product_name  export_value\n",
       "5678960  2013          GUM            Guam         8801                                                                                                                          Aircraft, non-powered; balloons, dirigibles, gliders, hang-gliders and the like      13691.00\n",
       "3515586  1995          KOR     South Korea         6201  Overcoats, car-coats, capes, cloaks, anoraks (including ski-jackets), wind-cheaters, wind-jackets and similar articles, men's or boys', other than those of heading no. 6203 (not knitted or crocheted)  314045184.00\n",
       "2853789  1999          BGD      Bangladesh         4903                                                                                                                                                           Children's picture, drawing or colouring books          0.00\n",
       "3969608  2005          NFK  Norfolk Island         7015         Clock, watch and similar glasses, glasses for non-corrective or corrective spectacles, curved, bent, hallowed etc, not optically worked; hollow glass spheres and their segments for manufacture          0.00\n",
       "2516872  2008          COM         Comoros         4203                                                                                                                       Articles of apparel and clothing accessories, of leather or of composition leather          0.00"
      ]
     },
     "execution_count": 3,
     "metadata": {},
     "output_type": "execute_result"
    }
   ],
   "source": [
    "# show 5 random rows\n",
    "df_orig.sample(n=5)"
   ]
  },
  {
   "cell_type": "markdown",
   "metadata": {},
   "source": [
    "#### What years are in the data?\n",
    "\n"
   ]
  },
  {
   "cell_type": "code",
   "execution_count": 4,
   "metadata": {},
   "outputs": [
    {
     "data": {
      "text/plain": [
       "array([1995, 1996, 1997, 1998, 1999, 2000, 2001, 2002, 2003, 2004, 2005,\n",
       "       2006, 2007, 2008, 2009, 2010, 2011, 2012, 2013, 2014, 2015, 2016])"
      ]
     },
     "execution_count": 4,
     "metadata": {},
     "output_type": "execute_result"
    }
   ],
   "source": [
    "df_orig['year'].unique()"
   ]
  },
  {
   "cell_type": "markdown",
   "metadata": {},
   "source": [
    "#### How many products are in the data?\n",
    "\n"
   ]
  },
  {
   "cell_type": "code",
   "execution_count": 5,
   "metadata": {},
   "outputs": [
    {
     "data": {
      "text/plain": [
       "1248"
      ]
     },
     "execution_count": 5,
     "metadata": {},
     "output_type": "execute_result"
    }
   ],
   "source": [
    "df_orig['product_name'].nunique()"
   ]
  },
  {
   "cell_type": "markdown",
   "metadata": {},
   "source": [
    "#### Finding specific countries / products based on partial string matching\n",
    "\n"
   ]
  },
  {
   "cell_type": "markdown",
   "metadata": {},
   "source": [
    "If you&rsquo;re interested in finding data on certain countries / products but not sure how exactly these are spelled in the data (or are spelled with / without e.g. capital letters).\n",
    "\n"
   ]
  },
  {
   "cell_type": "code",
   "execution_count": 6,
   "metadata": {},
   "outputs": [
    {
     "data": {
      "text/html": [
       "<div>\n",
       "<style scoped>\n",
       "    .dataframe tbody tr th:only-of-type {\n",
       "        vertical-align: middle;\n",
       "    }\n",
       "\n",
       "    .dataframe tbody tr th {\n",
       "        vertical-align: top;\n",
       "    }\n",
       "\n",
       "    .dataframe thead th {\n",
       "        text-align: right;\n",
       "    }\n",
       "</style>\n",
       "<table border=\"1\" class=\"dataframe\">\n",
       "  <thead>\n",
       "    <tr style=\"text-align: right;\">\n",
       "      <th></th>\n",
       "      <th>country_name</th>\n",
       "    </tr>\n",
       "  </thead>\n",
       "  <tbody>\n",
       "    <tr>\n",
       "      <th>132</th>\n",
       "      <td>Netherlands Antilles</td>\n",
       "    </tr>\n",
       "    <tr>\n",
       "      <th>3143</th>\n",
       "      <td>Netherlands</td>\n",
       "    </tr>\n",
       "  </tbody>\n",
       "</table>\n",
       "</div>"
      ],
      "text/plain": [
       "              country_name\n",
       "132   Netherlands Antilles\n",
       "3143           Netherlands"
      ]
     },
     "execution_count": 6,
     "metadata": {},
     "output_type": "execute_result"
    },
    {
     "data": {
      "text/html": [
       "<div>\n",
       "<style scoped>\n",
       "    .dataframe tbody tr th:only-of-type {\n",
       "        vertical-align: middle;\n",
       "    }\n",
       "\n",
       "    .dataframe tbody tr th {\n",
       "        vertical-align: top;\n",
       "    }\n",
       "\n",
       "    .dataframe thead th {\n",
       "        text-align: right;\n",
       "    }\n",
       "</style>\n",
       "<table border=\"1\" class=\"dataframe\">\n",
       "  <thead>\n",
       "    <tr style=\"text-align: right;\">\n",
       "      <th></th>\n",
       "      <th>product_name</th>\n",
       "    </tr>\n",
       "  </thead>\n",
       "  <tbody>\n",
       "    <tr>\n",
       "      <th>10074</th>\n",
       "      <td>Swine; live</td>\n",
       "    </tr>\n",
       "    <tr>\n",
       "      <th>40293</th>\n",
       "      <td>Meat of swine; fresh, chilled or frozen</td>\n",
       "    </tr>\n",
       "    <tr>\n",
       "      <th>55402</th>\n",
       "      <td>Edible offal of bovine animals, swine, sheep, goats, horses, asses, mules or hinnies; fresh, chilled or frozen</td>\n",
       "    </tr>\n",
       "    <tr>\n",
       "      <th>921288</th>\n",
       "      <td>Wine of fresh grapes, including fortified wines; grape must other than that of heading no. 2009</td>\n",
       "    </tr>\n",
       "    <tr>\n",
       "      <th>926325</th>\n",
       "      <td>Vermouth and other wine of fresh grapes, flavoured with plants or aromatic substances</td>\n",
       "    </tr>\n",
       "    <tr>\n",
       "      <th>981731</th>\n",
       "      <td>Wine lees; argol</td>\n",
       "    </tr>\n",
       "    <tr>\n",
       "      <th>3266401</th>\n",
       "      <td>Twine, cordage, ropes and cables, whether or not plaited or braided; whether or not impregnated, coated, covered or sheathed with rubber or plastics</td>\n",
       "    </tr>\n",
       "    <tr>\n",
       "      <th>3271438</th>\n",
       "      <td>Twine, cordage or rope; knotted netting, made up fishing nets and other made up nets, of textile materials</td>\n",
       "    </tr>\n",
       "    <tr>\n",
       "      <th>3276475</th>\n",
       "      <td>Articles of yarn, strip or the like of heading no. 5404 or 5405; twine, cordage, rope or cables n.e.s. or included</td>\n",
       "    </tr>\n",
       "    <tr>\n",
       "      <th>3644176</th>\n",
       "      <td>Rags; used or new, scrap twine, cordage, rope and cables and worn out articles of twine, cordage, rope or cables, of textile materials</td>\n",
       "    </tr>\n",
       "    <tr>\n",
       "      <th>5049490</th>\n",
       "      <td>Presses, crushers and similar machinery; used in the manufacture of wine, cider, fruit juices or similar beverages</td>\n",
       "    </tr>\n",
       "  </tbody>\n",
       "</table>\n",
       "</div>"
      ],
      "text/plain": [
       "                                                                                                                                                 product_name\n",
       "10074                                                                                                                                             Swine; live\n",
       "40293                                                                                                                 Meat of swine; fresh, chilled or frozen\n",
       "55402                                          Edible offal of bovine animals, swine, sheep, goats, horses, asses, mules or hinnies; fresh, chilled or frozen\n",
       "921288                                                        Wine of fresh grapes, including fortified wines; grape must other than that of heading no. 2009\n",
       "926325                                                                  Vermouth and other wine of fresh grapes, flavoured with plants or aromatic substances\n",
       "981731                                                                                                                                       Wine lees; argol\n",
       "3266401  Twine, cordage, ropes and cables, whether or not plaited or braided; whether or not impregnated, coated, covered or sheathed with rubber or plastics\n",
       "3271438                                            Twine, cordage or rope; knotted netting, made up fishing nets and other made up nets, of textile materials\n",
       "3276475                                    Articles of yarn, strip or the like of heading no. 5404 or 5405; twine, cordage, rope or cables n.e.s. or included\n",
       "3644176                Rags; used or new, scrap twine, cordage, rope and cables and worn out articles of twine, cordage, rope or cables, of textile materials\n",
       "5049490                                    Presses, crushers and similar machinery; used in the manufacture of wine, cider, fruit juices or similar beverages"
      ]
     },
     "execution_count": 6,
     "metadata": {},
     "output_type": "execute_result"
    }
   ],
   "source": [
    "STRING = 'Netherland'\n",
    "df_orig[df_orig['country_name'].str.contains(STRING)][['country_name']].drop_duplicates()\n",
    "\n",
    "# You can also include regex expressions here, e.g. to ignore lower/uppercase ('wine' vs 'Wine')\n",
    "STRING = 'wine'\n",
    "df_orig[df_orig['product_name'].str.contains(STRING,flags=re.IGNORECASE, regex=True)][['product_name']].drop_duplicates()"
   ]
  },
  {
   "cell_type": "markdown",
   "metadata": {},
   "source": [
    "#### Example: What were the major export products of the USA in 2012?\n",
    "\n"
   ]
  },
  {
   "cell_type": "code",
   "execution_count": 7,
   "metadata": {},
   "outputs": [
    {
     "data": {
      "text/html": [
       "<div>\n",
       "<style scoped>\n",
       "    .dataframe tbody tr th:only-of-type {\n",
       "        vertical-align: middle;\n",
       "    }\n",
       "\n",
       "    .dataframe tbody tr th {\n",
       "        vertical-align: top;\n",
       "    }\n",
       "\n",
       "    .dataframe thead th {\n",
       "        text-align: right;\n",
       "    }\n",
       "</style>\n",
       "<table border=\"1\" class=\"dataframe\">\n",
       "  <thead>\n",
       "    <tr style=\"text-align: right;\">\n",
       "      <th></th>\n",
       "      <th>product_code</th>\n",
       "      <th>product_name</th>\n",
       "      <th>export_value</th>\n",
       "    </tr>\n",
       "  </thead>\n",
       "  <tbody>\n",
       "    <tr>\n",
       "      <th>1242</th>\n",
       "      <td>ict</td>\n",
       "      <td>ICT</td>\n",
       "      <td>317000000000.00</td>\n",
       "    </tr>\n",
       "    <tr>\n",
       "      <th>1244</th>\n",
       "      <td>travel</td>\n",
       "      <td>Travel and tourism</td>\n",
       "      <td>162000000000.00</td>\n",
       "    </tr>\n",
       "    <tr>\n",
       "      <th>1240</th>\n",
       "      <td>9999</td>\n",
       "      <td>Commodities not specified according to kind</td>\n",
       "      <td>106514210816.00</td>\n",
       "    </tr>\n",
       "    <tr>\n",
       "      <th>260</th>\n",
       "      <td>2710</td>\n",
       "      <td>Petroleum oils, oils from bituminous minerals, not crude; preparations n.e.s. containing less than 70% petroleum oils, oils from bituminous minerals; these being the basic constituents of the preparations</td>\n",
       "      <td>101087379456.00</td>\n",
       "    </tr>\n",
       "    <tr>\n",
       "      <th>1241</th>\n",
       "      <td>financial</td>\n",
       "      <td>Insurance and finance</td>\n",
       "      <td>93500000000.00</td>\n",
       "    </tr>\n",
       "    <tr>\n",
       "      <th>1243</th>\n",
       "      <td>transport</td>\n",
       "      <td>Transport</td>\n",
       "      <td>83900000000.00</td>\n",
       "    </tr>\n",
       "    <tr>\n",
       "      <th>1112</th>\n",
       "      <td>8703</td>\n",
       "      <td>Motor cars and other motor vehicles; principally designed for the transport of persons (other than those of heading no. 8702), including station wagons and racing cars</td>\n",
       "      <td>52303282176.00</td>\n",
       "    </tr>\n",
       "    <tr>\n",
       "      <th>1117</th>\n",
       "      <td>8708</td>\n",
       "      <td>Motor vehicles; parts and accessories, of heading no. 8701 to 8705</td>\n",
       "      <td>39675609088.00</td>\n",
       "    </tr>\n",
       "    <tr>\n",
       "      <th>1094</th>\n",
       "      <td>8542</td>\n",
       "      <td>Electronic integrated circuits and microassemblies</td>\n",
       "      <td>36943609856.00</td>\n",
       "    </tr>\n",
       "    <tr>\n",
       "      <th>1127</th>\n",
       "      <td>8802</td>\n",
       "      <td>Aircraft; (eg helicopters, aeroplanes), spacecraft (including satellites) and spacecraft launch vehicles</td>\n",
       "      <td>32980711424.00</td>\n",
       "    </tr>\n",
       "  </tbody>\n",
       "</table>\n",
       "</div>"
      ],
      "text/plain": [
       "     product_code                                                                                                                                                                                                  product_name    export_value\n",
       "1242          ict                                                                                                                                                                                                           ICT 317000000000.00\n",
       "1244       travel                                                                                                                                                                                            Travel and tourism 162000000000.00\n",
       "1240         9999                                                                                                                                                                   Commodities not specified according to kind 106514210816.00\n",
       "260          2710  Petroleum oils, oils from bituminous minerals, not crude; preparations n.e.s. containing less than 70% petroleum oils, oils from bituminous minerals; these being the basic constituents of the preparations 101087379456.00\n",
       "1241    financial                                                                                                                                                                                         Insurance and finance  93500000000.00\n",
       "1243    transport                                                                                                                                                                                                     Transport  83900000000.00\n",
       "1112         8703                                       Motor cars and other motor vehicles; principally designed for the transport of persons (other than those of heading no. 8702), including station wagons and racing cars  52303282176.00\n",
       "1117         8708                                                                                                                                            Motor vehicles; parts and accessories, of heading no. 8701 to 8705  39675609088.00\n",
       "1094         8542                                                                                                                                                            Electronic integrated circuits and microassemblies  36943609856.00\n",
       "1127         8802                                                                                                      Aircraft; (eg helicopters, aeroplanes), spacecraft (including satellites) and spacecraft launch vehicles  32980711424.00"
      ]
     },
     "execution_count": 7,
     "metadata": {},
     "output_type": "execute_result"
    }
   ],
   "source": [
    "# create a 'dataframe' called 'df2' with only exports from USA in 2012\n",
    "df2 = df_orig[ (df_orig['country_code']=='USA') & (df_orig['year'] == 2012) ].copy()\n",
    "# create another dataframe 'df3' that contains the sum of exports per product\n",
    "df3 = df2.groupby(['product_code','product_name'],as_index=False)['export_value'].sum()\n",
    "# sort\n",
    "df3.sort_values(by=['export_value'],ascending=False,inplace=True)\n",
    "# show first 10 rows\n",
    "df3[0:10]"
   ]
  },
  {
   "cell_type": "markdown",
   "metadata": {},
   "source": [
    "#### Example: How did exports of Cars evolve over time in the USA?\n",
    "\n"
   ]
  },
  {
   "cell_type": "markdown",
   "metadata": {},
   "source": [
    "From about 10 billion USD up to almost $60 billion USD.\n",
    "\n"
   ]
  },
  {
   "cell_type": "code",
   "execution_count": 8,
   "metadata": {},
   "outputs": [
    {
     "data": {
      "text/plain": [
       "<AxesSubplot:xlabel='year'>"
      ]
     },
     "execution_count": 8,
     "metadata": {},
     "output_type": "execute_result"
    }
   ],
   "source": [
    "df2 = df_orig[ (df_orig['country_code']=='USA')].copy()\n",
    "#df3 = df2[df2['product_name']=='Cars']\n",
    "df3 = df2[df2['product_code']=='8703']\n",
    "df3.plot(x='year', y='export_value')"
   ]
  },
  {
   "cell_type": "markdown",
   "metadata": {},
   "source": [
    "## Revealed comparative advantage (RCA)\n",
    "\n"
   ]
  },
  {
   "cell_type": "markdown",
   "metadata": {},
   "source": [
    "What products are countries specialized in? For that, following Hidalgo et al. (2007), we calculate the Revealed Comparative Advantage (RCA) of each country-product pair: how much a country &rsquo;over-exports&rsquo; a product in comparison to all other countries.\n",
    "\n",
    "Technically this is the Balassa index of comparative advantage, calculated as follows for product $p$ and country $c$ at time $t$:\n",
    "\n",
    "\\begin{equation} \\label{e_RCA}\n",
    "{RCA}_{cpt}=\\frac{X_{cpt}/X_{ct}}{X_{pt}/X_{t}}\n",
    "\\tag{1}\n",
    "\\end{equation}\n",
    "\n",
    "where $X_{cpt}$ represents the total value of country $c$’s exports of product $p$ at time $t$ across all importers. An omitted subscript indicates a summation over the omitted dimension, e.g.: $X_{t}=\\sum \\limits_{c,p,t} X_{cpt}$.\n",
    "\n",
    "A product-country pair with $RCA>1$ means that the product is over-represented in the country&rsquo;s export basket.\n",
    "\n",
    "We use the original trade dataset (&rsquo;df<sub>orig</sub>&rsquo;) that is loaded into memory:\n",
    "\n"
   ]
  },
  {
   "cell_type": "code",
   "execution_count": 9,
   "metadata": {},
   "outputs": [
    {
     "name": "stdout",
     "output_type": "stream",
     "text": [
      "creating all country-product-time combinations\n",
      "merging data in\n",
      "calculating properties\n",
      "rca dataframe ready\n"
     ]
    },
    {
     "data": {
      "text/html": [
       "<div>\n",
       "<style scoped>\n",
       "    .dataframe tbody tr th:only-of-type {\n",
       "        vertical-align: middle;\n",
       "    }\n",
       "\n",
       "    .dataframe tbody tr th {\n",
       "        vertical-align: top;\n",
       "    }\n",
       "\n",
       "    .dataframe thead th {\n",
       "        text-align: right;\n",
       "    }\n",
       "</style>\n",
       "<table border=\"1\" class=\"dataframe\">\n",
       "  <thead>\n",
       "    <tr style=\"text-align: right;\">\n",
       "      <th></th>\n",
       "      <th>year</th>\n",
       "      <th>country_name</th>\n",
       "      <th>product_name</th>\n",
       "      <th>export_value</th>\n",
       "      <th>RCAcpt</th>\n",
       "      <th>product_code</th>\n",
       "    </tr>\n",
       "  </thead>\n",
       "  <tbody>\n",
       "    <tr>\n",
       "      <th>0</th>\n",
       "      <td>1995</td>\n",
       "      <td>Aruba</td>\n",
       "      <td>Horses, asses, mules and hinnies; live</td>\n",
       "      <td>18000.00</td>\n",
       "      <td>0.08</td>\n",
       "      <td>0101</td>\n",
       "    </tr>\n",
       "    <tr>\n",
       "      <th>1</th>\n",
       "      <td>1995</td>\n",
       "      <td>Aruba</td>\n",
       "      <td>Bovine animals; live</td>\n",
       "      <td>0.00</td>\n",
       "      <td>0.00</td>\n",
       "      <td>0102</td>\n",
       "    </tr>\n",
       "    <tr>\n",
       "      <th>2</th>\n",
       "      <td>1995</td>\n",
       "      <td>Aruba</td>\n",
       "      <td>Swine; live</td>\n",
       "      <td>0.00</td>\n",
       "      <td>0.00</td>\n",
       "      <td>0103</td>\n",
       "    </tr>\n",
       "    <tr>\n",
       "      <th>3</th>\n",
       "      <td>1995</td>\n",
       "      <td>Aruba</td>\n",
       "      <td>Sheep and goats; live</td>\n",
       "      <td>0.00</td>\n",
       "      <td>0.00</td>\n",
       "      <td>0104</td>\n",
       "    </tr>\n",
       "    <tr>\n",
       "      <th>4</th>\n",
       "      <td>1995</td>\n",
       "      <td>Aruba</td>\n",
       "      <td>Poultry; live, fowls of the species gallus domesticus, ducks, geese, turkeys and guinea fowls</td>\n",
       "      <td>0.00</td>\n",
       "      <td>0.00</td>\n",
       "      <td>0105</td>\n",
       "    </tr>\n",
       "    <tr>\n",
       "      <th>5</th>\n",
       "      <td>1995</td>\n",
       "      <td>Aruba</td>\n",
       "      <td>Animals, n.e.s. in chapter 01; live</td>\n",
       "      <td>2473.00</td>\n",
       "      <td>0.03</td>\n",
       "      <td>0106</td>\n",
       "    </tr>\n",
       "    <tr>\n",
       "      <th>6</th>\n",
       "      <td>1995</td>\n",
       "      <td>Aruba</td>\n",
       "      <td>Meat of bovine animals; fresh or chilled</td>\n",
       "      <td>0.00</td>\n",
       "      <td>0.00</td>\n",
       "      <td>0201</td>\n",
       "    </tr>\n",
       "    <tr>\n",
       "      <th>7</th>\n",
       "      <td>1995</td>\n",
       "      <td>Aruba</td>\n",
       "      <td>Meat of bovine animals; frozen</td>\n",
       "      <td>0.00</td>\n",
       "      <td>0.00</td>\n",
       "      <td>0202</td>\n",
       "    </tr>\n",
       "    <tr>\n",
       "      <th>8</th>\n",
       "      <td>1995</td>\n",
       "      <td>Aruba</td>\n",
       "      <td>Meat of swine; fresh, chilled or frozen</td>\n",
       "      <td>0.00</td>\n",
       "      <td>0.00</td>\n",
       "      <td>0203</td>\n",
       "    </tr>\n",
       "    <tr>\n",
       "      <th>9</th>\n",
       "      <td>1995</td>\n",
       "      <td>Aruba</td>\n",
       "      <td>Meat of sheep or goats; fresh, chilled or frozen</td>\n",
       "      <td>0.00</td>\n",
       "      <td>0.00</td>\n",
       "      <td>0204</td>\n",
       "    </tr>\n",
       "  </tbody>\n",
       "</table>\n",
       "</div>"
      ],
      "text/plain": [
       "   year country_name                                                                                   product_name  export_value  RCAcpt product_code\n",
       "0  1995        Aruba                                                         Horses, asses, mules and hinnies; live      18000.00    0.08         0101\n",
       "1  1995        Aruba                                                                           Bovine animals; live          0.00    0.00         0102\n",
       "2  1995        Aruba                                                                                    Swine; live          0.00    0.00         0103\n",
       "3  1995        Aruba                                                                          Sheep and goats; live          0.00    0.00         0104\n",
       "4  1995        Aruba  Poultry; live, fowls of the species gallus domesticus, ducks, geese, turkeys and guinea fowls          0.00    0.00         0105\n",
       "5  1995        Aruba                                                            Animals, n.e.s. in chapter 01; live       2473.00    0.03         0106\n",
       "6  1995        Aruba                                                       Meat of bovine animals; fresh or chilled          0.00    0.00         0201\n",
       "7  1995        Aruba                                                                 Meat of bovine animals; frozen          0.00    0.00         0202\n",
       "8  1995        Aruba                                                        Meat of swine; fresh, chilled or frozen          0.00    0.00         0203\n",
       "9  1995        Aruba                                               Meat of sheep or goats; fresh, chilled or frozen          0.00    0.00         0204"
      ]
     },
     "execution_count": 9,
     "metadata": {},
     "output_type": "execute_result"
    }
   ],
   "source": [
    "def calc_rca(data,country_col,product_col,time_col,value_col):\n",
    "    \"\"\"\n",
    "    Calculates Revealed Comparative Advantage (RCA) of country-product-time combinations\n",
    "\n",
    "    Returns:\n",
    "        pandas dataframe with RCAs\n",
    "    \"\"\"\n",
    "\n",
    "    # Aggregate to country-product-time dataframe\n",
    "    print('creating all country-product-time combinations')\n",
    "    # - add all possible products for each country with export value 0\n",
    "    # - else matrices later on will have missing values in them, complicating calculations\n",
    "    df_all = pd.DataFrame(list(product(data[time_col].unique(), data[country_col].unique(),data[product_col].unique())))\n",
    "    df_all.columns=[time_col,country_col,product_col]\n",
    "    print('merging data in')\n",
    "    df_all = pd.merge(df_all,data[[time_col,country_col,product_col,value_col]],how='left',on=[time_col,country_col,product_col])\n",
    "    df_all.loc[df_all[value_col].isnull(),value_col] = 0\n",
    "\n",
    "    # Calculate the properties\n",
    "    print('calculating properties')\n",
    "    df_all['Xcpt'] = df_all[value_col]\n",
    "    df_all['Xct'] = df_all.groupby([country_col, time_col])[value_col].transform(sum)\n",
    "    df_all['Xpt'] = df_all.groupby([product_col, time_col])[value_col].transform(sum)\n",
    "    df_all['Xt'] = df_all.groupby([time_col])[value_col].transform('sum')\n",
    "    df_all['RCAcpt'] = (df_all['Xcpt']/df_all['Xct'])/(df_all['Xpt']/df_all['Xt'])\n",
    "    # set to 0 if missing, e.g. if product / country have 0 (total) exports\n",
    "    df_all.loc[df_all['RCAcpt'].isnull(),'RCAcpt'] = 0\n",
    "    # drop the properties \n",
    "    df_all.drop(['Xcpt','Xct','Xpt','Xt'],axis=1,inplace=True,errors='ignore')\n",
    "\n",
    "    return df_all\n",
    "\n",
    "df_rca = calc_rca(data=df_orig,country_col='country_name',product_col='product_name',time_col='year',value_col='export_value')\n",
    "\n",
    "print('rca dataframe ready')\n",
    "\n",
    "# Add product codes back in (we need these to merge data from other sources, we dont necessarily need product names but they are kept for illustrative purposes)\n",
    "df_rca = pd.merge(df_rca,df_orig[['product_name','product_code']].drop_duplicates(),how='left',on='product_name')\n",
    "\n",
    "\n",
    "# show results\n",
    "df_rca[0:10]"
   ]
  },
  {
   "cell_type": "markdown",
   "metadata": {},
   "source": [
    "Note: You can operate (more) directly on matrices with NumPy (Pandas is built on NumPy), e.g. to calculate RCA:\n",
    "\n",
    "    Xc = np.sum(Xcp, axis=1)\n",
    "    Xp = np.sum(Xcp, axis=0)\n",
    "    X = np.sum(Xcp)\n",
    "    RAC_mat = np.copy(Xcp)\n",
    "    for i in range(len(RAC_mat)):\n",
    "        RAC_mat[i, :] = RAC_mat[i, :] / Xc[i]\n",
    "    # products / countries with no exports\n",
    "    RAC_mat[np.isnan(RAC_mat)] = 0\n",
    "    RAC_mat = np.transpose(RAC_mat)\n",
    "    for i in range(len(RAC_mat)):\n",
    "        RAC_mat[i, :] = RAC_mat[i, :] / (Xp[i] / X)\n",
    "\n"
   ]
  },
  {
   "cell_type": "markdown",
   "metadata": {},
   "source": [
    "### Example: What products are The Netherlands and Saudi Arabia specialized in, in 2000?\n",
    "\n"
   ]
  },
  {
   "cell_type": "markdown",
   "metadata": {},
   "source": [
    "(Note that different commands are chained together here; can also be ran separately)\n",
    "\n"
   ]
  },
  {
   "cell_type": "code",
   "execution_count": 10,
   "metadata": {},
   "outputs": [
    {
     "name": "stdout",
     "output_type": "stream",
     "text": [
      "\n",
      " The Netherlands: \n",
      "\n"
     ]
    },
    {
     "data": {
      "text/html": [
       "<div>\n",
       "<style scoped>\n",
       "    .dataframe tbody tr th:only-of-type {\n",
       "        vertical-align: middle;\n",
       "    }\n",
       "\n",
       "    .dataframe tbody tr th {\n",
       "        vertical-align: top;\n",
       "    }\n",
       "\n",
       "    .dataframe thead th {\n",
       "        text-align: right;\n",
       "    }\n",
       "</style>\n",
       "<table border=\"1\" class=\"dataframe\">\n",
       "  <thead>\n",
       "    <tr style=\"text-align: right;\">\n",
       "      <th></th>\n",
       "      <th>product_name</th>\n",
       "      <th>RCAcpt</th>\n",
       "      <th>year</th>\n",
       "    </tr>\n",
       "  </thead>\n",
       "  <tbody>\n",
       "    <tr>\n",
       "      <th>1692332</th>\n",
       "      <td>Bulbs, tubers, tuberous roots, corms, crowns and rhizomes; dormant, in growth or in flower; chicory plants and roots other than roots of heading no. 1212</td>\n",
       "      <td>24.63</td>\n",
       "      <td>2000</td>\n",
       "    </tr>\n",
       "    <tr>\n",
       "      <th>1692334</th>\n",
       "      <td>Flowers; cut flowers and flower buds of a kind suitable for bouquets or for ornamental purposes, fresh, dried, dyed, bleached, impregnated or otherwise prepared</td>\n",
       "      <td>17.00</td>\n",
       "      <td>2000</td>\n",
       "    </tr>\n",
       "    <tr>\n",
       "      <th>1692446</th>\n",
       "      <td>Cocoa; powder, not containing added sugar or other sweetening matter</td>\n",
       "      <td>13.80</td>\n",
       "      <td>2000</td>\n",
       "    </tr>\n",
       "    <tr>\n",
       "      <th>1692333</th>\n",
       "      <td>Plants, live; n.e.s. in heading no. 0601, (including their roots) cuttings and slips; mushroom spawn</td>\n",
       "      <td>12.64</td>\n",
       "      <td>2000</td>\n",
       "    </tr>\n",
       "    <tr>\n",
       "      <th>1692836</th>\n",
       "      <td>Composite paper and paperboard, (made by sticking layers together with an adhesive), not surface-coated or impregnated, whether or not internally reinforced, in rolls or sheets</td>\n",
       "      <td>11.34</td>\n",
       "      <td>2000</td>\n",
       "    </tr>\n",
       "  </tbody>\n",
       "</table>\n",
       "</div>"
      ],
      "text/plain": [
       "                                                                                                                                                                             product_name  RCAcpt  year\n",
       "1692332                         Bulbs, tubers, tuberous roots, corms, crowns and rhizomes; dormant, in growth or in flower; chicory plants and roots other than roots of heading no. 1212   24.63  2000\n",
       "1692334                  Flowers; cut flowers and flower buds of a kind suitable for bouquets or for ornamental purposes, fresh, dried, dyed, bleached, impregnated or otherwise prepared   17.00  2000\n",
       "1692446                                                                                                              Cocoa; powder, not containing added sugar or other sweetening matter   13.80  2000\n",
       "1692333                                                                              Plants, live; n.e.s. in heading no. 0601, (including their roots) cuttings and slips; mushroom spawn   12.64  2000\n",
       "1692836  Composite paper and paperboard, (made by sticking layers together with an adhesive), not surface-coated or impregnated, whether or not internally reinforced, in rolls or sheets   11.34  2000"
      ]
     },
     "execution_count": 10,
     "metadata": {},
     "output_type": "execute_result"
    },
    {
     "name": "stdout",
     "output_type": "stream",
     "text": [
      "\n",
      " Saudi Arabia:\n",
      "\n"
     ]
    },
    {
     "data": {
      "text/html": [
       "<div>\n",
       "<style scoped>\n",
       "    .dataframe tbody tr th:only-of-type {\n",
       "        vertical-align: middle;\n",
       "    }\n",
       "\n",
       "    .dataframe tbody tr th {\n",
       "        vertical-align: top;\n",
       "    }\n",
       "\n",
       "    .dataframe thead th {\n",
       "        text-align: right;\n",
       "    }\n",
       "</style>\n",
       "<table border=\"1\" class=\"dataframe\">\n",
       "  <thead>\n",
       "    <tr style=\"text-align: right;\">\n",
       "      <th></th>\n",
       "      <th>product_name</th>\n",
       "      <th>RCAcpt</th>\n",
       "      <th>year</th>\n",
       "    </tr>\n",
       "  </thead>\n",
       "  <tbody>\n",
       "    <tr>\n",
       "      <th>1721319</th>\n",
       "      <td>Ethers, ether-alcohols, ether-phenols, ether-alcohol-phenols, alcohol peroxides, ether peroxides, ketone peroxides (chemically defined or not); halogenated, sulphonated, nitrated, nitrosated derivative</td>\n",
       "      <td>17.47</td>\n",
       "      <td>2000</td>\n",
       "    </tr>\n",
       "    <tr>\n",
       "      <th>1721252</th>\n",
       "      <td>Petroleum oils and oils obtained from bituminous minerals; crude</td>\n",
       "      <td>15.21</td>\n",
       "      <td>2000</td>\n",
       "    </tr>\n",
       "    <tr>\n",
       "      <th>1721315</th>\n",
       "      <td>Acyclic alcohols and their halogenated, sulphonated, nitrated or nitrosated derivatives</td>\n",
       "      <td>12.20</td>\n",
       "      <td>2000</td>\n",
       "    </tr>\n",
       "    <tr>\n",
       "      <th>1721359</th>\n",
       "      <td>Fertilizers; animal or vegetable, whether or not mixed together or chemically treated; fertilizers produced by the mixing or chemical treatment of animal or vegetable products</td>\n",
       "      <td>8.44</td>\n",
       "      <td>2000</td>\n",
       "    </tr>\n",
       "    <tr>\n",
       "      <th>1721195</th>\n",
       "      <td>Sulphur of all kinds; other than sublimed, precipitated and colloidal sulphur</td>\n",
       "      <td>8.00</td>\n",
       "      <td>2000</td>\n",
       "    </tr>\n",
       "  </tbody>\n",
       "</table>\n",
       "</div>"
      ],
      "text/plain": [
       "                                                                                                                                                                                                      product_name  RCAcpt  year\n",
       "1721319  Ethers, ether-alcohols, ether-phenols, ether-alcohol-phenols, alcohol peroxides, ether peroxides, ketone peroxides (chemically defined or not); halogenated, sulphonated, nitrated, nitrosated derivative   17.47  2000\n",
       "1721252                                                                                                                                           Petroleum oils and oils obtained from bituminous minerals; crude   15.21  2000\n",
       "1721315                                                                                                                    Acyclic alcohols and their halogenated, sulphonated, nitrated or nitrosated derivatives   12.20  2000\n",
       "1721359                            Fertilizers; animal or vegetable, whether or not mixed together or chemically treated; fertilizers produced by the mixing or chemical treatment of animal or vegetable products    8.44  2000\n",
       "1721195                                                                                                                              Sulphur of all kinds; other than sublimed, precipitated and colloidal sulphur    8.00  2000"
      ]
     },
     "execution_count": 10,
     "metadata": {},
     "output_type": "execute_result"
    }
   ],
   "source": [
    "# The Netherlands\n",
    "print(\"\\n The Netherlands: \\n\")\n",
    "\n",
    "df_rca[ (df_rca['year']==2000) & (df_rca['country_name']=='Netherlands')].sort_values(by=['RCAcpt'],ascending=False)[['product_name','RCAcpt','year']][0:5]\n",
    "\n",
    "print(\"\\n Saudi Arabia:\\n\")\n",
    "\n",
    "# Saudi Arabia\n",
    "df_rca[ (df_rca['year']==2000) & (df_rca['country_name']=='Saudi Arabia')].sort_values(by=['RCAcpt'],ascending=False)[['product_name','RCAcpt','year']][0:5]"
   ]
  },
  {
   "cell_type": "markdown",
   "metadata": {},
   "source": [
    "## Product proximity (based on co-occurences)\n",
    "\n"
   ]
  },
  {
   "cell_type": "markdown",
   "metadata": {},
   "source": [
    "### Calculating product co-occurences and proximities\n",
    "\n"
   ]
  },
  {
   "cell_type": "markdown",
   "metadata": {},
   "source": [
    "Knowing which countries are specialized in which products, the next step analyzes the extent to which two products are over-represented ($RCA>1$) in the same countries.\n",
    "\n",
    "As noted in the lecture, the main insight supporting this inference is that countries will produce combinations of products that require similar capabilities.\n",
    "\n",
    "Hence we infer capabilities from trade patterns, because the capabilities of a country is a priori hard to determine and capabilities themselves are hard to observe.\n",
    "\n",
    "Hence, **the degree to which two products cooccur in the export baskets of the same countries provides an indication of how similar the capability requirements of the two products are**.\n",
    "\n",
    "We will calculate the co-occurence matrix of products below.\n",
    "\n",
    "First, a product is &rsquo;present&rsquo; in a country if the country exports the product with $RCA>1$:\n",
    "\n",
    "\\begin{equation} \\label{e_presence}\n",
    "M_{cp}=\\begin{cases}\n",
    "    1 & \\text{if ${RCA}_{cp}>1$}; \\\\\n",
    "    0 & \\text{elsewhere.}\n",
    "    \\end{cases}\n",
    "\\tag{2}\n",
    "\\end{equation}\n",
    "\n"
   ]
  },
  {
   "cell_type": "code",
   "execution_count": 11,
   "metadata": {},
   "outputs": [],
   "source": [
    "df_rca['Mcp'] = 0\n",
    "df_rca.loc[df_rca['RCAcpt']>1,'Mcp'] = 1"
   ]
  },
  {
   "cell_type": "markdown",
   "metadata": {},
   "source": [
    "Next, we calculate how often two products are present in the same countries, using the Mcp threshold:\n",
    "\n",
    "\\begin{equation} \\label{e_cooc}\n",
    "C_{pp'}=\\sum \\limits_{c} M_{cp} M_{cp'}\n",
    "\\tag{3}\n",
    "\\end{equation}\n",
    "\n",
    "To get an accurate value of product proximity, we need to correct these numbers for the extent to which products are present in general in trade flows between countries. To do so, Hidalgo et al. (2007) calculate product proximity as follows, defining it as the minimum of two conditional probabilities:\n",
    "\n",
    "\\begin{equation}\n",
    "C_{ppt'}  = \\min \\left( \\frac{C_{pp'}}{C_{p}},\\frac{C_{pp'}}{C_{p'}} \\right)\n",
    "\\tag{4}\n",
    "\\end{equation}\n",
    "\n",
    "The minimum here is used to elimate a &rsquo;false positive&rsquo;.\n",
    "\n",
    "Hence we correct for how prevalent specialization in product $i$ and product $j$ is across countries (i.e. the &rsquo;ubiquity&rsquo; of the products).\n",
    "\n",
    "We will use the first year of data in the dataset, **1995,** below.\n",
    "\n",
    "Note that to reduce yearly votality, Hidalgo et al. (2007) aggregate the trade data across multiple years (1998-2000) when calculating RCAs and product proximities for the product space. (However, when comparing the product space across years, they do use individual years).\n",
    "\n"
   ]
  },
  {
   "cell_type": "code",
   "execution_count": 12,
   "metadata": {},
   "outputs": [
    {
     "name": "stdout",
     "output_type": "stream",
     "text": [
      "cppt product co-occurences and proximities dataframe ready\n"
     ]
    }
   ],
   "source": [
    "def calc_cppt(data,country_col,product_col):\n",
    "    \"\"\"\n",
    "    Calculates product co-occurences in countries\n",
    "\n",
    "    Returns:\n",
    "        pandas dataframe with co-occurence value for each product pair\n",
    "    \"\"\"\n",
    "\n",
    "    # Create combinations within country_col (i.e. countries) of entities (i.e. products)\n",
    "    dft = (data.groupby(country_col)[product_col].apply(lambda x: pd.DataFrame(list(combinations(x,2))))\n",
    "            .reset_index(level=1, drop=True)\n",
    "            .reset_index())\n",
    "    dft.rename(columns={0:f'{product_col}_1'}, inplace=True)\n",
    "    dft.rename(columns={1:f'{product_col}_2'}, inplace=True)\n",
    "\n",
    "    # Create second half of matrix (assymmetrical):\n",
    "    # -- {product_col} 1 X {product_col} 2 == {product_col} 2 X {product_col} 1\n",
    "    dft2 = dft.copy()\n",
    "    dft2.rename(columns={f'{product_col}_1':f'{product_col}_2t'}, inplace=True)\n",
    "    dft2.rename(columns={f'{product_col}_2':f'{product_col}_1'}, inplace=True)\n",
    "    dft2.rename(columns={f'{product_col}_2t':f'{product_col}_2'}, inplace=True)\n",
    "    # -- add second half\n",
    "    dft3 = pd.concat([dft,dft2],axis=0,sort=False)\n",
    "\n",
    "    # Drop diagonal if present\n",
    "    dft3 = dft3[ dft3[f'{product_col}_1'] != dft3[f'{product_col}_2'] ]\n",
    "\n",
    "    # Now calculate N of times that {product_col}s occur together\n",
    "    dft3['count'] = 1\n",
    "    dft3 = dft3.groupby([f'{product_col}_1',f'{product_col}_2'],as_index=False)['count'].sum()\n",
    "    dft3.rename(columns={f'count':f'Cpp'}, inplace=True)\n",
    "\n",
    "    # Calculate ubiquity\n",
    "    df_ub = data.groupby(product_col,as_index=False)['Mcp'].sum()\n",
    "    # Merge ubiqity into cpp matrix\n",
    "    df_ub.rename(columns={f'{product_col}':f'{product_col}_1'}, inplace=True)\n",
    "    dft3 = pd.merge(dft3,df_ub,how='left',on=f'{product_col}_1')\n",
    "    df_ub.rename(columns={f'{product_col}_1':f'{product_col}_2'}, inplace=True)\n",
    "    dft3 = pd.merge(dft3,df_ub,how='left',on=f'{product_col}_2')\n",
    "\n",
    "    # Take minimum of conditional probabilities\n",
    "    dft3['kpi'] = dft3['Cpp']/dft3['Mcp_x']\n",
    "    dft3['kpj'] = dft3['Cpp']/dft3['Mcp_y']\n",
    "    dft3['phi'] = dft3['kpi']\n",
    "    dft3.loc[dft3['kpj']<dft3['kpi'],'phi'] = dft3['kpj']\n",
    "\n",
    "    return dft3\n",
    "\n",
    "# Keep only year 1995\n",
    "dft = df_rca[df_rca['year']==1995].copy()\n",
    "\n",
    "# Keep only country-product combinations where Mcp == 1 (thus RCAcp > 1)\n",
    "dft = dft[dft['Mcp']==1]\n",
    "\n",
    "# Calculate cpp\n",
    "df_cppt = calc_cppt(dft,country_col='country_name',product_col='product_name')\n",
    "\n",
    "print('cppt product co-occurences and proximities dataframe ready')"
   ]
  },
  {
   "cell_type": "markdown",
   "metadata": {},
   "source": [
    "#### Products that co-occur most often\n",
    "\n"
   ]
  },
  {
   "cell_type": "code",
   "execution_count": 13,
   "metadata": {},
   "outputs": [
    {
     "data": {
      "text/html": [
       "<div>\n",
       "<style scoped>\n",
       "    .dataframe tbody tr th:only-of-type {\n",
       "        vertical-align: middle;\n",
       "    }\n",
       "\n",
       "    .dataframe tbody tr th {\n",
       "        vertical-align: top;\n",
       "    }\n",
       "\n",
       "    .dataframe thead th {\n",
       "        text-align: right;\n",
       "    }\n",
       "</style>\n",
       "<table border=\"1\" class=\"dataframe\">\n",
       "  <thead>\n",
       "    <tr style=\"text-align: right;\">\n",
       "      <th></th>\n",
       "      <th>product_name_1</th>\n",
       "      <th>product_name_2</th>\n",
       "      <th>Cpp</th>\n",
       "      <th>Mcp_x</th>\n",
       "      <th>Mcp_y</th>\n",
       "      <th>kpi</th>\n",
       "      <th>kpj</th>\n",
       "      <th>phi</th>\n",
       "    </tr>\n",
       "  </thead>\n",
       "  <tbody>\n",
       "    <tr>\n",
       "      <th>1149849</th>\n",
       "      <td>Suits, ensembles, jackets, blazers, trousers, bib and brace overalls, breeches and shorts (other than swimwear); men's or boys' (not knitted or crocheted)</td>\n",
       "      <td>Suits, ensembles, jackets, dresses, skirts, divided skirts, trousers, bib and brace overalls, breeches and shorts (other than swimwear); women's or girls' (not knitted or crocheted)</td>\n",
       "      <td>59</td>\n",
       "      <td>68</td>\n",
       "      <td>70</td>\n",
       "      <td>0.87</td>\n",
       "      <td>0.84</td>\n",
       "      <td>0.84</td>\n",
       "    </tr>\n",
       "    <tr>\n",
       "      <th>1153522</th>\n",
       "      <td>Suits, ensembles, jackets, dresses, skirts, divided skirts, trousers, bib and brace overalls, breeches and shorts (other than swimwear); women's or girls' (not knitted or crocheted)</td>\n",
       "      <td>Suits, ensembles, jackets, blazers, trousers, bib and brace overalls, breeches and shorts (other than swimwear); men's or boys' (not knitted or crocheted)</td>\n",
       "      <td>59</td>\n",
       "      <td>70</td>\n",
       "      <td>68</td>\n",
       "      <td>0.84</td>\n",
       "      <td>0.87</td>\n",
       "      <td>0.84</td>\n",
       "    </tr>\n",
       "    <tr>\n",
       "      <th>589806</th>\n",
       "      <td>ICT</td>\n",
       "      <td>Travel and tourism</td>\n",
       "      <td>59</td>\n",
       "      <td>82</td>\n",
       "      <td>86</td>\n",
       "      <td>0.72</td>\n",
       "      <td>0.69</td>\n",
       "      <td>0.69</td>\n",
       "    </tr>\n",
       "    <tr>\n",
       "      <th>1270771</th>\n",
       "      <td>Travel and tourism</td>\n",
       "      <td>ICT</td>\n",
       "      <td>59</td>\n",
       "      <td>86</td>\n",
       "      <td>82</td>\n",
       "      <td>0.69</td>\n",
       "      <td>0.72</td>\n",
       "      <td>0.69</td>\n",
       "    </tr>\n",
       "    <tr>\n",
       "      <th>1271357</th>\n",
       "      <td>Travel and tourism</td>\n",
       "      <td>Transport</td>\n",
       "      <td>57</td>\n",
       "      <td>86</td>\n",
       "      <td>86</td>\n",
       "      <td>0.66</td>\n",
       "      <td>0.66</td>\n",
       "      <td>0.66</td>\n",
       "    </tr>\n",
       "    <tr>\n",
       "      <th>1270116</th>\n",
       "      <td>Transport</td>\n",
       "      <td>Travel and tourism</td>\n",
       "      <td>57</td>\n",
       "      <td>86</td>\n",
       "      <td>86</td>\n",
       "      <td>0.66</td>\n",
       "      <td>0.66</td>\n",
       "      <td>0.66</td>\n",
       "    </tr>\n",
       "    <tr>\n",
       "      <th>1153464</th>\n",
       "      <td>Suits, ensembles, jackets, dresses, skirts, divided skirts, trousers, bib and brace overalls, breeches and shorts (other than swimwear); women's or girls' (not knitted or crocheted)</td>\n",
       "      <td>Shirts; men's or boys' (not knitted or crocheted)</td>\n",
       "      <td>55</td>\n",
       "      <td>70</td>\n",
       "      <td>70</td>\n",
       "      <td>0.79</td>\n",
       "      <td>0.79</td>\n",
       "      <td>0.79</td>\n",
       "    </tr>\n",
       "    <tr>\n",
       "      <th>1081059</th>\n",
       "      <td>Shirts; men's or boys' (not knitted or crocheted)</td>\n",
       "      <td>Suits, ensembles, jackets, dresses, skirts, divided skirts, trousers, bib and brace overalls, breeches and shorts (other than swimwear); women's or girls' (not knitted or crocheted)</td>\n",
       "      <td>55</td>\n",
       "      <td>70</td>\n",
       "      <td>70</td>\n",
       "      <td>0.79</td>\n",
       "      <td>0.79</td>\n",
       "      <td>0.79</td>\n",
       "    </tr>\n",
       "    <tr>\n",
       "      <th>1149789</th>\n",
       "      <td>Suits, ensembles, jackets, blazers, trousers, bib and brace overalls, breeches and shorts (other than swimwear); men's or boys' (not knitted or crocheted)</td>\n",
       "      <td>Shirts; men's or boys' (not knitted or crocheted)</td>\n",
       "      <td>53</td>\n",
       "      <td>68</td>\n",
       "      <td>70</td>\n",
       "      <td>0.78</td>\n",
       "      <td>0.76</td>\n",
       "      <td>0.76</td>\n",
       "    </tr>\n",
       "    <tr>\n",
       "      <th>1081056</th>\n",
       "      <td>Shirts; men's or boys' (not knitted or crocheted)</td>\n",
       "      <td>Suits, ensembles, jackets, blazers, trousers, bib and brace overalls, breeches and shorts (other than swimwear); men's or boys' (not knitted or crocheted)</td>\n",
       "      <td>53</td>\n",
       "      <td>70</td>\n",
       "      <td>68</td>\n",
       "      <td>0.76</td>\n",
       "      <td>0.78</td>\n",
       "      <td>0.76</td>\n",
       "    </tr>\n",
       "  </tbody>\n",
       "</table>\n",
       "</div>"
      ],
      "text/plain": [
       "                                                                                                                                                                                product_name_1                                                                                                                                                                         product_name_2  Cpp  Mcp_x  Mcp_y  kpi  kpj  phi\n",
       "1149849                             Suits, ensembles, jackets, blazers, trousers, bib and brace overalls, breeches and shorts (other than swimwear); men's or boys' (not knitted or crocheted)  Suits, ensembles, jackets, dresses, skirts, divided skirts, trousers, bib and brace overalls, breeches and shorts (other than swimwear); women's or girls' (not knitted or crocheted)   59     68     70 0.87 0.84 0.84\n",
       "1153522  Suits, ensembles, jackets, dresses, skirts, divided skirts, trousers, bib and brace overalls, breeches and shorts (other than swimwear); women's or girls' (not knitted or crocheted)                             Suits, ensembles, jackets, blazers, trousers, bib and brace overalls, breeches and shorts (other than swimwear); men's or boys' (not knitted or crocheted)   59     70     68 0.84 0.87 0.84\n",
       "589806                                                                                                                                                                                     ICT                                                                                                                                                                     Travel and tourism   59     82     86 0.72 0.69 0.69\n",
       "1270771                                                                                                                                                                     Travel and tourism                                                                                                                                                                                    ICT   59     86     82 0.69 0.72 0.69\n",
       "1271357                                                                                                                                                                     Travel and tourism                                                                                                                                                                              Transport   57     86     86 0.66 0.66 0.66\n",
       "1270116                                                                                                                                                                              Transport                                                                                                                                                                     Travel and tourism   57     86     86 0.66 0.66 0.66\n",
       "1153464  Suits, ensembles, jackets, dresses, skirts, divided skirts, trousers, bib and brace overalls, breeches and shorts (other than swimwear); women's or girls' (not knitted or crocheted)                                                                                                                                      Shirts; men's or boys' (not knitted or crocheted)   55     70     70 0.79 0.79 0.79\n",
       "1081059                                                                                                                                      Shirts; men's or boys' (not knitted or crocheted)  Suits, ensembles, jackets, dresses, skirts, divided skirts, trousers, bib and brace overalls, breeches and shorts (other than swimwear); women's or girls' (not knitted or crocheted)   55     70     70 0.79 0.79 0.79\n",
       "1149789                             Suits, ensembles, jackets, blazers, trousers, bib and brace overalls, breeches and shorts (other than swimwear); men's or boys' (not knitted or crocheted)                                                                                                                                      Shirts; men's or boys' (not knitted or crocheted)   53     68     70 0.78 0.76 0.76\n",
       "1081056                                                                                                                                      Shirts; men's or boys' (not knitted or crocheted)                             Suits, ensembles, jackets, blazers, trousers, bib and brace overalls, breeches and shorts (other than swimwear); men's or boys' (not knitted or crocheted)   53     70     68 0.76 0.78 0.76"
      ]
     },
     "execution_count": 13,
     "metadata": {},
     "output_type": "execute_result"
    }
   ],
   "source": [
    "df_cppt.sort_values(by=['Cpp'],ascending=False)[0:10]"
   ]
  },
  {
   "cell_type": "markdown",
   "metadata": {},
   "source": [
    "#### Most proximate products\n",
    "\n"
   ]
  },
  {
   "cell_type": "code",
   "execution_count": 14,
   "metadata": {},
   "outputs": [
    {
     "data": {
      "text/html": [
       "<div>\n",
       "<style scoped>\n",
       "    .dataframe tbody tr th:only-of-type {\n",
       "        vertical-align: middle;\n",
       "    }\n",
       "\n",
       "    .dataframe tbody tr th {\n",
       "        vertical-align: top;\n",
       "    }\n",
       "\n",
       "    .dataframe thead th {\n",
       "        text-align: right;\n",
       "    }\n",
       "</style>\n",
       "<table border=\"1\" class=\"dataframe\">\n",
       "  <thead>\n",
       "    <tr style=\"text-align: right;\">\n",
       "      <th></th>\n",
       "      <th>product_name_1</th>\n",
       "      <th>product_name_2</th>\n",
       "      <th>Cpp</th>\n",
       "      <th>Mcp_x</th>\n",
       "      <th>Mcp_y</th>\n",
       "      <th>kpi</th>\n",
       "      <th>kpj</th>\n",
       "      <th>phi</th>\n",
       "    </tr>\n",
       "  </thead>\n",
       "  <tbody>\n",
       "    <tr>\n",
       "      <th>690963</th>\n",
       "      <td>Machine-tools; (including machines for nailing, stapling, glueing or otherwise assembling) for working wood, cork, bone, hard plastics or rubber or similar hard materials</td>\n",
       "      <td>Machines; calendering or other rolling machines, for other than metal or glass and cylinders therefor</td>\n",
       "      <td>9</td>\n",
       "      <td>10</td>\n",
       "      <td>10</td>\n",
       "      <td>0.90</td>\n",
       "      <td>0.90</td>\n",
       "      <td>0.90</td>\n",
       "    </tr>\n",
       "    <tr>\n",
       "      <th>723013</th>\n",
       "      <td>Machines; calendering or other rolling machines, for other than metal or glass and cylinders therefor</td>\n",
       "      <td>Machine-tools; (including machines for nailing, stapling, glueing or otherwise assembling) for working wood, cork, bone, hard plastics or rubber or similar hard materials</td>\n",
       "      <td>9</td>\n",
       "      <td>10</td>\n",
       "      <td>10</td>\n",
       "      <td>0.90</td>\n",
       "      <td>0.90</td>\n",
       "      <td>0.90</td>\n",
       "    </tr>\n",
       "    <tr>\n",
       "      <th>1149849</th>\n",
       "      <td>Suits, ensembles, jackets, blazers, trousers, bib and brace overalls, breeches and shorts (other than swimwear); men's or boys' (not knitted or crocheted)</td>\n",
       "      <td>Suits, ensembles, jackets, dresses, skirts, divided skirts, trousers, bib and brace overalls, breeches and shorts (other than swimwear); women's or girls' (not knitted or crocheted)</td>\n",
       "      <td>59</td>\n",
       "      <td>68</td>\n",
       "      <td>70</td>\n",
       "      <td>0.87</td>\n",
       "      <td>0.84</td>\n",
       "      <td>0.84</td>\n",
       "    </tr>\n",
       "    <tr>\n",
       "      <th>1153522</th>\n",
       "      <td>Suits, ensembles, jackets, dresses, skirts, divided skirts, trousers, bib and brace overalls, breeches and shorts (other than swimwear); women's or girls' (not knitted or crocheted)</td>\n",
       "      <td>Suits, ensembles, jackets, blazers, trousers, bib and brace overalls, breeches and shorts (other than swimwear); men's or boys' (not knitted or crocheted)</td>\n",
       "      <td>59</td>\n",
       "      <td>70</td>\n",
       "      <td>68</td>\n",
       "      <td>0.84</td>\n",
       "      <td>0.87</td>\n",
       "      <td>0.84</td>\n",
       "    </tr>\n",
       "    <tr>\n",
       "      <th>324476</th>\n",
       "      <td>Cork; articles of natural cork</td>\n",
       "      <td>Natural cork, raw or simply prepared; waste cork; crushed, granulated or ground cork</td>\n",
       "      <td>5</td>\n",
       "      <td>6</td>\n",
       "      <td>6</td>\n",
       "      <td>0.83</td>\n",
       "      <td>0.83</td>\n",
       "      <td>0.83</td>\n",
       "    </tr>\n",
       "    <tr>\n",
       "      <th>808540</th>\n",
       "      <td>Natural cork, raw or simply prepared; waste cork; crushed, granulated or ground cork</td>\n",
       "      <td>Cork; articles of natural cork</td>\n",
       "      <td>5</td>\n",
       "      <td>6</td>\n",
       "      <td>6</td>\n",
       "      <td>0.83</td>\n",
       "      <td>0.83</td>\n",
       "      <td>0.83</td>\n",
       "    </tr>\n",
       "    <tr>\n",
       "      <th>1339374</th>\n",
       "      <td>Video recording or reproducing apparatus</td>\n",
       "      <td>Sound or video recording apparatus; parts thereof of apparatus of heading no. 8519 to 8521</td>\n",
       "      <td>10</td>\n",
       "      <td>12</td>\n",
       "      <td>12</td>\n",
       "      <td>0.83</td>\n",
       "      <td>0.83</td>\n",
       "      <td>0.83</td>\n",
       "    </tr>\n",
       "    <tr>\n",
       "      <th>137061</th>\n",
       "      <td>Blouses, shirts and shirt-blouses; women's or girls', knitted or crocheted</td>\n",
       "      <td>Suits, ensembles, jackets, dresses, skirts, divided skirts, trousers, bib and brace overalls, breeches and shorts (not swimwear), women's or girls', knitted or crocheted</td>\n",
       "      <td>50</td>\n",
       "      <td>54</td>\n",
       "      <td>60</td>\n",
       "      <td>0.93</td>\n",
       "      <td>0.83</td>\n",
       "      <td>0.83</td>\n",
       "    </tr>\n",
       "    <tr>\n",
       "      <th>1115899</th>\n",
       "      <td>Sound or video recording apparatus; parts thereof of apparatus of heading no. 8519 to 8521</td>\n",
       "      <td>Video recording or reproducing apparatus</td>\n",
       "      <td>10</td>\n",
       "      <td>12</td>\n",
       "      <td>12</td>\n",
       "      <td>0.83</td>\n",
       "      <td>0.83</td>\n",
       "      <td>0.83</td>\n",
       "    </tr>\n",
       "    <tr>\n",
       "      <th>1151434</th>\n",
       "      <td>Suits, ensembles, jackets, dresses, skirts, divided skirts, trousers, bib and brace overalls, breeches and shorts (not swimwear), women's or girls', knitted or crocheted</td>\n",
       "      <td>Blouses, shirts and shirt-blouses; women's or girls', knitted or crocheted</td>\n",
       "      <td>50</td>\n",
       "      <td>60</td>\n",
       "      <td>54</td>\n",
       "      <td>0.83</td>\n",
       "      <td>0.93</td>\n",
       "      <td>0.83</td>\n",
       "    </tr>\n",
       "  </tbody>\n",
       "</table>\n",
       "</div>"
      ],
      "text/plain": [
       "                                                                                                                                                                                product_name_1                                                                                                                                                                         product_name_2  Cpp  Mcp_x  Mcp_y  kpi  kpj  phi\n",
       "690963              Machine-tools; (including machines for nailing, stapling, glueing or otherwise assembling) for working wood, cork, bone, hard plastics or rubber or similar hard materials                                                                                  Machines; calendering or other rolling machines, for other than metal or glass and cylinders therefor    9     10     10 0.90 0.90 0.90\n",
       "723013                                                                                   Machines; calendering or other rolling machines, for other than metal or glass and cylinders therefor             Machine-tools; (including machines for nailing, stapling, glueing or otherwise assembling) for working wood, cork, bone, hard plastics or rubber or similar hard materials    9     10     10 0.90 0.90 0.90\n",
       "1149849                             Suits, ensembles, jackets, blazers, trousers, bib and brace overalls, breeches and shorts (other than swimwear); men's or boys' (not knitted or crocheted)  Suits, ensembles, jackets, dresses, skirts, divided skirts, trousers, bib and brace overalls, breeches and shorts (other than swimwear); women's or girls' (not knitted or crocheted)   59     68     70 0.87 0.84 0.84\n",
       "1153522  Suits, ensembles, jackets, dresses, skirts, divided skirts, trousers, bib and brace overalls, breeches and shorts (other than swimwear); women's or girls' (not knitted or crocheted)                             Suits, ensembles, jackets, blazers, trousers, bib and brace overalls, breeches and shorts (other than swimwear); men's or boys' (not knitted or crocheted)   59     70     68 0.84 0.87 0.84\n",
       "324476                                                                                                                                                          Cork; articles of natural cork                                                                                                   Natural cork, raw or simply prepared; waste cork; crushed, granulated or ground cork    5      6      6 0.83 0.83 0.83\n",
       "808540                                                                                                    Natural cork, raw or simply prepared; waste cork; crushed, granulated or ground cork                                                                                                                                                         Cork; articles of natural cork    5      6      6 0.83 0.83 0.83\n",
       "1339374                                                                                                                                               Video recording or reproducing apparatus                                                                                             Sound or video recording apparatus; parts thereof of apparatus of heading no. 8519 to 8521   10     12     12 0.83 0.83 0.83\n",
       "137061                                                                                                              Blouses, shirts and shirt-blouses; women's or girls', knitted or crocheted              Suits, ensembles, jackets, dresses, skirts, divided skirts, trousers, bib and brace overalls, breeches and shorts (not swimwear), women's or girls', knitted or crocheted   50     54     60 0.93 0.83 0.83\n",
       "1115899                                                                                             Sound or video recording apparatus; parts thereof of apparatus of heading no. 8519 to 8521                                                                                                                                               Video recording or reproducing apparatus   10     12     12 0.83 0.83 0.83\n",
       "1151434              Suits, ensembles, jackets, dresses, skirts, divided skirts, trousers, bib and brace overalls, breeches and shorts (not swimwear), women's or girls', knitted or crocheted                                                                                                             Blouses, shirts and shirt-blouses; women's or girls', knitted or crocheted   50     60     54 0.83 0.93 0.83"
      ]
     },
     "execution_count": 14,
     "metadata": {},
     "output_type": "execute_result"
    }
   ],
   "source": [
    "df_cppt.sort_values(by=['phi'],ascending=False)[0:10]"
   ]
  },
  {
   "cell_type": "markdown",
   "metadata": {},
   "source": [
    "## Patents: RCAs and technology proximities\n",
    "\n"
   ]
  },
  {
   "cell_type": "markdown",
   "metadata": {},
   "source": [
    "We can apply this to patent data as well.\n",
    "\n",
    "At the Growth Lab we have access to the Patstat database as well as all patents from Google Bigquery (both are on the RC Cannon cluster).\n",
    "\n",
    "Patstat includes all patents from ~ 1903 onwards.\n",
    "\n",
    "Below is an outline of what is available in Patstat:\n",
    "\n",
    "![img](https://www.dropbox.com/s/zqgv7fi61c2ip2f/patstat.png?dl=1)\n",
    "\n",
    "Below I use an aggregated file created from the Patstat database, containing:\n",
    "\n",
    "-   Year\n",
    "-   Country\n",
    "-   Technology class\n",
    "-   Count (N of patents)\n",
    "\n",
    "which I put on Dropbox temporarily so we can load it in directly in Google CoLab.\n",
    "\n"
   ]
  },
  {
   "cell_type": "code",
   "execution_count": 15,
   "metadata": {},
   "outputs": [
    {
     "name": "stdout",
     "output_type": "stream",
     "text": [
      "loading file\n",
      "loaded\n"
     ]
    },
    {
     "data": {
      "text/html": [
       "<div>\n",
       "<style scoped>\n",
       "    .dataframe tbody tr th:only-of-type {\n",
       "        vertical-align: middle;\n",
       "    }\n",
       "\n",
       "    .dataframe tbody tr th {\n",
       "        vertical-align: top;\n",
       "    }\n",
       "\n",
       "    .dataframe thead th {\n",
       "        text-align: right;\n",
       "    }\n",
       "</style>\n",
       "<table border=\"1\" class=\"dataframe\">\n",
       "  <thead>\n",
       "    <tr style=\"text-align: right;\">\n",
       "      <th></th>\n",
       "      <th>index</th>\n",
       "      <th>year</th>\n",
       "      <th>country_iso_code</th>\n",
       "      <th>country_name</th>\n",
       "      <th>tech</th>\n",
       "      <th>count</th>\n",
       "    </tr>\n",
       "  </thead>\n",
       "  <tbody>\n",
       "    <tr>\n",
       "      <th>118229</th>\n",
       "      <td>121394</td>\n",
       "      <td>2018</td>\n",
       "      <td>CZE</td>\n",
       "      <td>Czechia</td>\n",
       "      <td>Basic communication processes</td>\n",
       "      <td>13</td>\n",
       "    </tr>\n",
       "    <tr>\n",
       "      <th>82818</th>\n",
       "      <td>85983</td>\n",
       "      <td>2005</td>\n",
       "      <td>COL</td>\n",
       "      <td>Columbia</td>\n",
       "      <td>Pharmaceuticals</td>\n",
       "      <td>3</td>\n",
       "    </tr>\n",
       "    <tr>\n",
       "      <th>53861</th>\n",
       "      <td>57026</td>\n",
       "      <td>1991</td>\n",
       "      <td>MAR</td>\n",
       "      <td>Morocco</td>\n",
       "      <td>Other consumer goods</td>\n",
       "      <td>2</td>\n",
       "    </tr>\n",
       "    <tr>\n",
       "      <th>98288</th>\n",
       "      <td>101453</td>\n",
       "      <td>2011</td>\n",
       "      <td>HKG</td>\n",
       "      <td>Hong Kong SAR (China)</td>\n",
       "      <td>Other consumer goods</td>\n",
       "      <td>41</td>\n",
       "    </tr>\n",
       "    <tr>\n",
       "      <th>72773</th>\n",
       "      <td>75938</td>\n",
       "      <td>2000</td>\n",
       "      <td>THA</td>\n",
       "      <td>Thailand</td>\n",
       "      <td>Telecommunications</td>\n",
       "      <td>2</td>\n",
       "    </tr>\n",
       "    <tr>\n",
       "      <th>8691</th>\n",
       "      <td>11856</td>\n",
       "      <td>1922</td>\n",
       "      <td>NLD</td>\n",
       "      <td>Netherlands</td>\n",
       "      <td>Telecommunications</td>\n",
       "      <td>2</td>\n",
       "    </tr>\n",
       "    <tr>\n",
       "      <th>88245</th>\n",
       "      <td>91410</td>\n",
       "      <td>2007</td>\n",
       "      <td>IDN</td>\n",
       "      <td>Indonesia</td>\n",
       "      <td>Organic fine chemistry</td>\n",
       "      <td>1</td>\n",
       "    </tr>\n",
       "    <tr>\n",
       "      <th>100281</th>\n",
       "      <td>103446</td>\n",
       "      <td>2012</td>\n",
       "      <td>BLR</td>\n",
       "      <td>Belarus</td>\n",
       "      <td>Mechanical elements</td>\n",
       "      <td>22</td>\n",
       "    </tr>\n",
       "    <tr>\n",
       "      <th>54287</th>\n",
       "      <td>57452</td>\n",
       "      <td>1991</td>\n",
       "      <td>TWN</td>\n",
       "      <td>Chinese Taipei</td>\n",
       "      <td>Control</td>\n",
       "      <td>13</td>\n",
       "    </tr>\n",
       "    <tr>\n",
       "      <th>7006</th>\n",
       "      <td>10171</td>\n",
       "      <td>1919</td>\n",
       "      <td>IRL</td>\n",
       "      <td>Ireland</td>\n",
       "      <td>Chemical engineering</td>\n",
       "      <td>5</td>\n",
       "    </tr>\n",
       "  </tbody>\n",
       "</table>\n",
       "</div>"
      ],
      "text/plain": [
       "         index  year country_iso_code           country_name                           tech  count\n",
       "118229  121394  2018              CZE                Czechia  Basic communication processes     13\n",
       "82818    85983  2005              COL               Columbia                Pharmaceuticals      3\n",
       "53861    57026  1991              MAR                Morocco           Other consumer goods      2\n",
       "98288   101453  2011              HKG  Hong Kong SAR (China)           Other consumer goods     41\n",
       "72773    75938  2000              THA               Thailand             Telecommunications      2\n",
       "8691     11856  1922              NLD            Netherlands             Telecommunications      2\n",
       "88245    91410  2007              IDN              Indonesia         Organic fine chemistry      1\n",
       "100281  103446  2012              BLR                Belarus            Mechanical elements     22\n",
       "54287    57452  1991              TWN         Chinese Taipei                        Control     13\n",
       "7006     10171  1919              IRL                Ireland           Chemical engineering      5"
      ]
     },
     "execution_count": 15,
     "metadata": {},
     "output_type": "execute_result"
    }
   ],
   "source": [
    "# Load STATA file into pandas, directly from URL\n",
    "print('loading file')\n",
    "dfp = pd.read_stata('https://www.dropbox.com/s/nwox3dznoupzm0q/patstat_year_country_tech_inventor_locations.dta?dl=1')\n",
    "print('loaded')\n",
    "\n",
    "# show 10 random rows from the dataset\n",
    "dfp.sample(n=10)"
   ]
  },
  {
   "cell_type": "markdown",
   "metadata": {},
   "source": [
    "### RCAs\n",
    "\n"
   ]
  },
  {
   "cell_type": "code",
   "execution_count": 16,
   "metadata": {},
   "outputs": [
    {
     "name": "stdout",
     "output_type": "stream",
     "text": [
      "creating all country-product-time combinations\n",
      "merging data in\n",
      "calculating properties\n",
      "---------\n",
      "\n",
      " Japan in 1960 \n",
      "\n"
     ]
    },
    {
     "data": {
      "text/html": [
       "<div>\n",
       "<style scoped>\n",
       "    .dataframe tbody tr th:only-of-type {\n",
       "        vertical-align: middle;\n",
       "    }\n",
       "\n",
       "    .dataframe tbody tr th {\n",
       "        vertical-align: top;\n",
       "    }\n",
       "\n",
       "    .dataframe thead th {\n",
       "        text-align: right;\n",
       "    }\n",
       "</style>\n",
       "<table border=\"1\" class=\"dataframe\">\n",
       "  <thead>\n",
       "    <tr style=\"text-align: right;\">\n",
       "      <th></th>\n",
       "      <th>year</th>\n",
       "      <th>country_name</th>\n",
       "      <th>tech</th>\n",
       "      <th>count</th>\n",
       "      <th>RCAcpt</th>\n",
       "    </tr>\n",
       "  </thead>\n",
       "  <tbody>\n",
       "    <tr>\n",
       "      <th>433790</th>\n",
       "      <td>1960</td>\n",
       "      <td>Japan</td>\n",
       "      <td>Audio-visual technology</td>\n",
       "      <td>15.00</td>\n",
       "      <td>27.61</td>\n",
       "    </tr>\n",
       "    <tr>\n",
       "      <th>433799</th>\n",
       "      <td>1960</td>\n",
       "      <td>Japan</td>\n",
       "      <td>Biotechnology</td>\n",
       "      <td>9.00</td>\n",
       "      <td>25.54</td>\n",
       "    </tr>\n",
       "    <tr>\n",
       "      <th>433797</th>\n",
       "      <td>1960</td>\n",
       "      <td>Japan</td>\n",
       "      <td>Basic communication processes</td>\n",
       "      <td>1.00</td>\n",
       "      <td>2.70</td>\n",
       "    </tr>\n",
       "    <tr>\n",
       "      <th>433804</th>\n",
       "      <td>1960</td>\n",
       "      <td>Japan</td>\n",
       "      <td>Food chemistry</td>\n",
       "      <td>1.00</td>\n",
       "      <td>2.33</td>\n",
       "    </tr>\n",
       "    <tr>\n",
       "      <th>433808</th>\n",
       "      <td>1960</td>\n",
       "      <td>Japan</td>\n",
       "      <td>Materials, metallurgy</td>\n",
       "      <td>3.00</td>\n",
       "      <td>1.62</td>\n",
       "    </tr>\n",
       "    <tr>\n",
       "      <th>433806</th>\n",
       "      <td>1960</td>\n",
       "      <td>Japan</td>\n",
       "      <td>Machine tools</td>\n",
       "      <td>4.00</td>\n",
       "      <td>1.61</td>\n",
       "    </tr>\n",
       "    <tr>\n",
       "      <th>433816</th>\n",
       "      <td>1960</td>\n",
       "      <td>Japan</td>\n",
       "      <td>Transport</td>\n",
       "      <td>2.00</td>\n",
       "      <td>1.08</td>\n",
       "    </tr>\n",
       "    <tr>\n",
       "      <th>433791</th>\n",
       "      <td>1960</td>\n",
       "      <td>Japan</td>\n",
       "      <td>Civil engineering</td>\n",
       "      <td>2.00</td>\n",
       "      <td>1.06</td>\n",
       "    </tr>\n",
       "    <tr>\n",
       "      <th>433800</th>\n",
       "      <td>1960</td>\n",
       "      <td>Japan</td>\n",
       "      <td>Chemical engineering</td>\n",
       "      <td>1.00</td>\n",
       "      <td>0.74</td>\n",
       "    </tr>\n",
       "    <tr>\n",
       "      <th>433814</th>\n",
       "      <td>1960</td>\n",
       "      <td>Japan</td>\n",
       "      <td>Textile and paper machines</td>\n",
       "      <td>2.00</td>\n",
       "      <td>0.68</td>\n",
       "    </tr>\n",
       "  </tbody>\n",
       "</table>\n",
       "</div>"
      ],
      "text/plain": [
       "        year country_name                           tech  count  RCAcpt\n",
       "433790  1960        Japan        Audio-visual technology  15.00   27.61\n",
       "433799  1960        Japan                  Biotechnology   9.00   25.54\n",
       "433797  1960        Japan  Basic communication processes   1.00    2.70\n",
       "433804  1960        Japan                 Food chemistry   1.00    2.33\n",
       "433808  1960        Japan          Materials, metallurgy   3.00    1.62\n",
       "433806  1960        Japan                  Machine tools   4.00    1.61\n",
       "433816  1960        Japan                      Transport   2.00    1.08\n",
       "433791  1960        Japan              Civil engineering   2.00    1.06\n",
       "433800  1960        Japan           Chemical engineering   1.00    0.74\n",
       "433814  1960        Japan     Textile and paper machines   2.00    0.68"
      ]
     },
     "execution_count": 16,
     "metadata": {},
     "output_type": "execute_result"
    },
    {
     "name": "stdout",
     "output_type": "stream",
     "text": [
      "---------\n",
      "\n",
      " Japan in 2010 \n",
      "\n"
     ]
    },
    {
     "data": {
      "text/html": [
       "<div>\n",
       "<style scoped>\n",
       "    .dataframe tbody tr th:only-of-type {\n",
       "        vertical-align: middle;\n",
       "    }\n",
       "\n",
       "    .dataframe tbody tr th {\n",
       "        vertical-align: top;\n",
       "    }\n",
       "\n",
       "    .dataframe thead th {\n",
       "        text-align: right;\n",
       "    }\n",
       "</style>\n",
       "<table border=\"1\" class=\"dataframe\">\n",
       "  <thead>\n",
       "    <tr style=\"text-align: right;\">\n",
       "      <th></th>\n",
       "      <th>year</th>\n",
       "      <th>country_name</th>\n",
       "      <th>tech</th>\n",
       "      <th>count</th>\n",
       "      <th>RCAcpt</th>\n",
       "    </tr>\n",
       "  </thead>\n",
       "  <tbody>\n",
       "    <tr>\n",
       "      <th>834591</th>\n",
       "      <td>2010</td>\n",
       "      <td>Japan</td>\n",
       "      <td>Optics</td>\n",
       "      <td>17847.00</td>\n",
       "      <td>2.52</td>\n",
       "    </tr>\n",
       "    <tr>\n",
       "      <th>834570</th>\n",
       "      <td>2010</td>\n",
       "      <td>Japan</td>\n",
       "      <td>Audio-visual technology</td>\n",
       "      <td>19278.00</td>\n",
       "      <td>2.10</td>\n",
       "    </tr>\n",
       "    <tr>\n",
       "      <th>834594</th>\n",
       "      <td>2010</td>\n",
       "      <td>Japan</td>\n",
       "      <td>Textile and paper machines</td>\n",
       "      <td>5950.00</td>\n",
       "      <td>1.77</td>\n",
       "    </tr>\n",
       "    <tr>\n",
       "      <th>834602</th>\n",
       "      <td>2010</td>\n",
       "      <td>Japan</td>\n",
       "      <td>Semiconductors</td>\n",
       "      <td>17287.00</td>\n",
       "      <td>1.72</td>\n",
       "    </tr>\n",
       "    <tr>\n",
       "      <th>834582</th>\n",
       "      <td>2010</td>\n",
       "      <td>Japan</td>\n",
       "      <td>Electrical machinery, apparatus, energy</td>\n",
       "      <td>20214.00</td>\n",
       "      <td>1.47</td>\n",
       "    </tr>\n",
       "    <tr>\n",
       "      <th>834592</th>\n",
       "      <td>2010</td>\n",
       "      <td>Japan</td>\n",
       "      <td>Surface technology, coating</td>\n",
       "      <td>4642.00</td>\n",
       "      <td>1.39</td>\n",
       "    </tr>\n",
       "    <tr>\n",
       "      <th>834587</th>\n",
       "      <td>2010</td>\n",
       "      <td>Japan</td>\n",
       "      <td>Macromolecular chemistry, polymers</td>\n",
       "      <td>5460.00</td>\n",
       "      <td>1.30</td>\n",
       "    </tr>\n",
       "    <tr>\n",
       "      <th>834572</th>\n",
       "      <td>2010</td>\n",
       "      <td>Japan</td>\n",
       "      <td>Engines, pumps, turbines</td>\n",
       "      <td>5533.00</td>\n",
       "      <td>1.23</td>\n",
       "    </tr>\n",
       "    <tr>\n",
       "      <th>834596</th>\n",
       "      <td>2010</td>\n",
       "      <td>Japan</td>\n",
       "      <td>Transport</td>\n",
       "      <td>8340.00</td>\n",
       "      <td>1.17</td>\n",
       "    </tr>\n",
       "    <tr>\n",
       "      <th>834589</th>\n",
       "      <td>2010</td>\n",
       "      <td>Japan</td>\n",
       "      <td>Mechanical elements</td>\n",
       "      <td>4743.00</td>\n",
       "      <td>1.12</td>\n",
       "    </tr>\n",
       "  </tbody>\n",
       "</table>\n",
       "</div>"
      ],
      "text/plain": [
       "        year country_name                                     tech    count  RCAcpt\n",
       "834591  2010        Japan                                   Optics 17847.00    2.52\n",
       "834570  2010        Japan                  Audio-visual technology 19278.00    2.10\n",
       "834594  2010        Japan               Textile and paper machines  5950.00    1.77\n",
       "834602  2010        Japan                           Semiconductors 17287.00    1.72\n",
       "834582  2010        Japan  Electrical machinery, apparatus, energy 20214.00    1.47\n",
       "834592  2010        Japan              Surface technology, coating  4642.00    1.39\n",
       "834587  2010        Japan       Macromolecular chemistry, polymers  5460.00    1.30\n",
       "834572  2010        Japan                 Engines, pumps, turbines  5533.00    1.23\n",
       "834596  2010        Japan                                Transport  8340.00    1.17\n",
       "834589  2010        Japan                      Mechanical elements  4743.00    1.12"
      ]
     },
     "execution_count": 16,
     "metadata": {},
     "output_type": "execute_result"
    },
    {
     "name": "stdout",
     "output_type": "stream",
     "text": [
      "---------\n",
      "\n",
      " Germany in 1960 \n",
      "\n"
     ]
    },
    {
     "data": {
      "text/html": [
       "<div>\n",
       "<style scoped>\n",
       "    .dataframe tbody tr th:only-of-type {\n",
       "        vertical-align: middle;\n",
       "    }\n",
       "\n",
       "    .dataframe tbody tr th {\n",
       "        vertical-align: top;\n",
       "    }\n",
       "\n",
       "    .dataframe thead th {\n",
       "        text-align: right;\n",
       "    }\n",
       "</style>\n",
       "<table border=\"1\" class=\"dataframe\">\n",
       "  <thead>\n",
       "    <tr style=\"text-align: right;\">\n",
       "      <th></th>\n",
       "      <th>year</th>\n",
       "      <th>country_name</th>\n",
       "      <th>tech</th>\n",
       "      <th>count</th>\n",
       "      <th>RCAcpt</th>\n",
       "    </tr>\n",
       "  </thead>\n",
       "  <tbody>\n",
       "    <tr>\n",
       "      <th>433216</th>\n",
       "      <td>1960</td>\n",
       "      <td>Germany</td>\n",
       "      <td>Optics</td>\n",
       "      <td>152.00</td>\n",
       "      <td>1.98</td>\n",
       "    </tr>\n",
       "    <tr>\n",
       "      <th>433226</th>\n",
       "      <td>1960</td>\n",
       "      <td>Germany</td>\n",
       "      <td>Digital communication</td>\n",
       "      <td>18.00</td>\n",
       "      <td>1.72</td>\n",
       "    </tr>\n",
       "    <tr>\n",
       "      <th>433203</th>\n",
       "      <td>1960</td>\n",
       "      <td>Germany</td>\n",
       "      <td>Basic materials chemistry</td>\n",
       "      <td>256.00</td>\n",
       "      <td>1.50</td>\n",
       "    </tr>\n",
       "    <tr>\n",
       "      <th>433200</th>\n",
       "      <td>1960</td>\n",
       "      <td>Germany</td>\n",
       "      <td>Other consumer goods</td>\n",
       "      <td>223.00</td>\n",
       "      <td>1.34</td>\n",
       "    </tr>\n",
       "    <tr>\n",
       "      <th>433207</th>\n",
       "      <td>1960</td>\n",
       "      <td>Germany</td>\n",
       "      <td>Electrical machinery, apparatus, energy</td>\n",
       "      <td>510.00</td>\n",
       "      <td>1.33</td>\n",
       "    </tr>\n",
       "    <tr>\n",
       "      <th>433208</th>\n",
       "      <td>1960</td>\n",
       "      <td>Germany</td>\n",
       "      <td>Environmental technology</td>\n",
       "      <td>33.00</td>\n",
       "      <td>1.33</td>\n",
       "    </tr>\n",
       "    <tr>\n",
       "      <th>433212</th>\n",
       "      <td>1960</td>\n",
       "      <td>Germany</td>\n",
       "      <td>Macromolecular chemistry, polymers</td>\n",
       "      <td>129.00</td>\n",
       "      <td>1.28</td>\n",
       "    </tr>\n",
       "    <tr>\n",
       "      <th>433217</th>\n",
       "      <td>1960</td>\n",
       "      <td>Germany</td>\n",
       "      <td>Surface technology, coating</td>\n",
       "      <td>65.00</td>\n",
       "      <td>1.22</td>\n",
       "    </tr>\n",
       "    <tr>\n",
       "      <th>433223</th>\n",
       "      <td>1960</td>\n",
       "      <td>Germany</td>\n",
       "      <td>Analysis of biological materials</td>\n",
       "      <td>4.00</td>\n",
       "      <td>1.18</td>\n",
       "    </tr>\n",
       "    <tr>\n",
       "      <th>433221</th>\n",
       "      <td>1960</td>\n",
       "      <td>Germany</td>\n",
       "      <td>Transport</td>\n",
       "      <td>193.00</td>\n",
       "      <td>1.17</td>\n",
       "    </tr>\n",
       "  </tbody>\n",
       "</table>\n",
       "</div>"
      ],
      "text/plain": [
       "        year country_name                                     tech  count  RCAcpt\n",
       "433216  1960      Germany                                   Optics 152.00    1.98\n",
       "433226  1960      Germany                    Digital communication  18.00    1.72\n",
       "433203  1960      Germany                Basic materials chemistry 256.00    1.50\n",
       "433200  1960      Germany                     Other consumer goods 223.00    1.34\n",
       "433207  1960      Germany  Electrical machinery, apparatus, energy 510.00    1.33\n",
       "433208  1960      Germany                 Environmental technology  33.00    1.33\n",
       "433212  1960      Germany       Macromolecular chemistry, polymers 129.00    1.28\n",
       "433217  1960      Germany              Surface technology, coating  65.00    1.22\n",
       "433223  1960      Germany         Analysis of biological materials   4.00    1.18\n",
       "433221  1960      Germany                                Transport 193.00    1.17"
      ]
     },
     "execution_count": 16,
     "metadata": {},
     "output_type": "execute_result"
    },
    {
     "name": "stdout",
     "output_type": "stream",
     "text": [
      "---------\n",
      "\n",
      " Germany in 2010 \n",
      "\n"
     ]
    },
    {
     "data": {
      "text/html": [
       "<div>\n",
       "<style scoped>\n",
       "    .dataframe tbody tr th:only-of-type {\n",
       "        vertical-align: middle;\n",
       "    }\n",
       "\n",
       "    .dataframe tbody tr th {\n",
       "        vertical-align: top;\n",
       "    }\n",
       "\n",
       "    .dataframe thead th {\n",
       "        text-align: right;\n",
       "    }\n",
       "</style>\n",
       "<table border=\"1\" class=\"dataframe\">\n",
       "  <thead>\n",
       "    <tr style=\"text-align: right;\">\n",
       "      <th></th>\n",
       "      <th>year</th>\n",
       "      <th>country_name</th>\n",
       "      <th>tech</th>\n",
       "      <th>count</th>\n",
       "      <th>RCAcpt</th>\n",
       "    </tr>\n",
       "  </thead>\n",
       "  <tbody>\n",
       "    <tr>\n",
       "      <th>833994</th>\n",
       "      <td>2010</td>\n",
       "      <td>Germany</td>\n",
       "      <td>Mechanical elements</td>\n",
       "      <td>5825.00</td>\n",
       "      <td>2.17</td>\n",
       "    </tr>\n",
       "    <tr>\n",
       "      <th>834001</th>\n",
       "      <td>2010</td>\n",
       "      <td>Germany</td>\n",
       "      <td>Transport</td>\n",
       "      <td>9182.00</td>\n",
       "      <td>2.03</td>\n",
       "    </tr>\n",
       "    <tr>\n",
       "      <th>833992</th>\n",
       "      <td>2010</td>\n",
       "      <td>Germany</td>\n",
       "      <td>Macromolecular chemistry, polymers</td>\n",
       "      <td>4796.00</td>\n",
       "      <td>1.80</td>\n",
       "    </tr>\n",
       "    <tr>\n",
       "      <th>833991</th>\n",
       "      <td>2010</td>\n",
       "      <td>Germany</td>\n",
       "      <td>Machine tools</td>\n",
       "      <td>4721.00</td>\n",
       "      <td>1.75</td>\n",
       "    </tr>\n",
       "    <tr>\n",
       "      <th>833983</th>\n",
       "      <td>2010</td>\n",
       "      <td>Germany</td>\n",
       "      <td>Basic materials chemistry</td>\n",
       "      <td>4571.00</td>\n",
       "      <td>1.69</td>\n",
       "    </tr>\n",
       "    <tr>\n",
       "      <th>833977</th>\n",
       "      <td>2010</td>\n",
       "      <td>Germany</td>\n",
       "      <td>Engines, pumps, turbines</td>\n",
       "      <td>4607.00</td>\n",
       "      <td>1.60</td>\n",
       "    </tr>\n",
       "    <tr>\n",
       "      <th>834002</th>\n",
       "      <td>2010</td>\n",
       "      <td>Germany</td>\n",
       "      <td>Organic fine chemistry</td>\n",
       "      <td>9064.00</td>\n",
       "      <td>1.51</td>\n",
       "    </tr>\n",
       "    <tr>\n",
       "      <th>833978</th>\n",
       "      <td>2010</td>\n",
       "      <td>Germany</td>\n",
       "      <td>Handling</td>\n",
       "      <td>4058.00</td>\n",
       "      <td>1.38</td>\n",
       "    </tr>\n",
       "    <tr>\n",
       "      <th>833985</th>\n",
       "      <td>2010</td>\n",
       "      <td>Germany</td>\n",
       "      <td>Chemical engineering</td>\n",
       "      <td>3700.00</td>\n",
       "      <td>1.32</td>\n",
       "    </tr>\n",
       "    <tr>\n",
       "      <th>833999</th>\n",
       "      <td>2010</td>\n",
       "      <td>Germany</td>\n",
       "      <td>Textile and paper machines</td>\n",
       "      <td>2780.00</td>\n",
       "      <td>1.30</td>\n",
       "    </tr>\n",
       "  </tbody>\n",
       "</table>\n",
       "</div>"
      ],
      "text/plain": [
       "        year country_name                                tech   count  RCAcpt\n",
       "833994  2010      Germany                 Mechanical elements 5825.00    2.17\n",
       "834001  2010      Germany                           Transport 9182.00    2.03\n",
       "833992  2010      Germany  Macromolecular chemistry, polymers 4796.00    1.80\n",
       "833991  2010      Germany                       Machine tools 4721.00    1.75\n",
       "833983  2010      Germany           Basic materials chemistry 4571.00    1.69\n",
       "833977  2010      Germany            Engines, pumps, turbines 4607.00    1.60\n",
       "834002  2010      Germany              Organic fine chemistry 9064.00    1.51\n",
       "833978  2010      Germany                            Handling 4058.00    1.38\n",
       "833985  2010      Germany                Chemical engineering 3700.00    1.32\n",
       "833999  2010      Germany          Textile and paper machines 2780.00    1.30"
      ]
     },
     "execution_count": 16,
     "metadata": {},
     "output_type": "execute_result"
    }
   ],
   "source": [
    "dfp_rca = calc_rca(data=dfp,\n",
    "                   country_col='country_name',\n",
    "                   product_col='tech',\n",
    "                   time_col='year',\n",
    "                   value_col='count')\n",
    "\n",
    "# What were Japan and Germany specialized in, in 1960 and 2010?\n",
    "for country in ['Japan','Germany']:\n",
    "    for year in [1960, 2010]:\n",
    "        print(f\"---------\")\n",
    "        print(f\"\\n {country} in {year} \\n\")\n",
    "        dft = dfp_rca[dfp_rca['country_name']==country].copy()\n",
    "        dft = dft[dft['year']==year]\n",
    "        # --\n",
    "        dft.sort_values(by=['RCAcpt'],ascending=False)[0:10]"
   ]
  },
  {
   "cell_type": "markdown",
   "metadata": {},
   "source": [
    "### Technology proximities\n",
    "\n"
   ]
  },
  {
   "cell_type": "markdown",
   "metadata": {},
   "source": [
    "What technology classes are most proximate (in 2010)?\n",
    "\n"
   ]
  },
  {
   "cell_type": "code",
   "execution_count": 17,
   "metadata": {},
   "outputs": [
    {
     "name": "stdout",
     "output_type": "stream",
     "text": [
      "cppt patent co-occurences and proximities dataframe ready\n"
     ]
    }
   ],
   "source": [
    "# Define Mcp\n",
    "dfp_rca['Mcp'] = 0\n",
    "dfp_rca.loc[dfp_rca['RCAcpt']>1,'Mcp'] = 1\n",
    "\n",
    "# Keep only years 2010\n",
    "#dft = dfp_rca[ (dfp_rca['year']>=1990) & (dfp_rca['year']<=2020)].copy()\n",
    "dft = dfp_rca[ (dfp_rca['year']==2010) ].copy()\n",
    "\n",
    "# Keep only country-product combinations where Mcp == 1 (thus RCAcp > 1)\n",
    "dft = dft[dft['Mcp']==1]\n",
    "\n",
    "# Calculate cppt\n",
    "dfp_cppt = calc_cppt(dft,country_col='country_name',product_col='tech')\n",
    "print('cppt patent co-occurences and proximities dataframe ready')"
   ]
  },
  {
   "cell_type": "code",
   "execution_count": 18,
   "metadata": {},
   "outputs": [
    {
     "data": {
      "text/html": [
       "<div>\n",
       "<style scoped>\n",
       "    .dataframe tbody tr th:only-of-type {\n",
       "        vertical-align: middle;\n",
       "    }\n",
       "\n",
       "    .dataframe tbody tr th {\n",
       "        vertical-align: top;\n",
       "    }\n",
       "\n",
       "    .dataframe thead th {\n",
       "        text-align: right;\n",
       "    }\n",
       "</style>\n",
       "<table border=\"1\" class=\"dataframe\">\n",
       "  <thead>\n",
       "    <tr style=\"text-align: right;\">\n",
       "      <th></th>\n",
       "      <th>tech_1</th>\n",
       "      <th>tech_2</th>\n",
       "      <th>Cpp</th>\n",
       "      <th>Mcp_x</th>\n",
       "      <th>Mcp_y</th>\n",
       "      <th>kpi</th>\n",
       "      <th>kpj</th>\n",
       "      <th>phi</th>\n",
       "    </tr>\n",
       "  </thead>\n",
       "  <tbody>\n",
       "    <tr>\n",
       "      <th>424</th>\n",
       "      <td>Environmental technology</td>\n",
       "      <td>Materials, metallurgy</td>\n",
       "      <td>27</td>\n",
       "      <td>38</td>\n",
       "      <td>45</td>\n",
       "      <td>0.71</td>\n",
       "      <td>0.60</td>\n",
       "      <td>0.60</td>\n",
       "    </tr>\n",
       "    <tr>\n",
       "      <th>656</th>\n",
       "      <td>Materials, metallurgy</td>\n",
       "      <td>Environmental technology</td>\n",
       "      <td>27</td>\n",
       "      <td>45</td>\n",
       "      <td>38</td>\n",
       "      <td>0.60</td>\n",
       "      <td>0.71</td>\n",
       "      <td>0.60</td>\n",
       "    </tr>\n",
       "    <tr>\n",
       "      <th>188</th>\n",
       "      <td>Chemical engineering</td>\n",
       "      <td>Materials, metallurgy</td>\n",
       "      <td>28</td>\n",
       "      <td>48</td>\n",
       "      <td>45</td>\n",
       "      <td>0.58</td>\n",
       "      <td>0.62</td>\n",
       "      <td>0.58</td>\n",
       "    </tr>\n",
       "    <tr>\n",
       "      <th>649</th>\n",
       "      <td>Materials, metallurgy</td>\n",
       "      <td>Chemical engineering</td>\n",
       "      <td>28</td>\n",
       "      <td>45</td>\n",
       "      <td>48</td>\n",
       "      <td>0.62</td>\n",
       "      <td>0.58</td>\n",
       "      <td>0.58</td>\n",
       "    </tr>\n",
       "    <tr>\n",
       "      <th>676</th>\n",
       "      <td>Materials, metallurgy</td>\n",
       "      <td>Thermal processes and apparatus</td>\n",
       "      <td>26</td>\n",
       "      <td>45</td>\n",
       "      <td>43</td>\n",
       "      <td>0.58</td>\n",
       "      <td>0.60</td>\n",
       "      <td>0.58</td>\n",
       "    </tr>\n",
       "    <tr>\n",
       "      <th>1137</th>\n",
       "      <td>Thermal processes and apparatus</td>\n",
       "      <td>Materials, metallurgy</td>\n",
       "      <td>26</td>\n",
       "      <td>43</td>\n",
       "      <td>45</td>\n",
       "      <td>0.60</td>\n",
       "      <td>0.58</td>\n",
       "      <td>0.58</td>\n",
       "    </tr>\n",
       "    <tr>\n",
       "      <th>230</th>\n",
       "      <td>Civil engineering</td>\n",
       "      <td>Other special machines</td>\n",
       "      <td>38</td>\n",
       "      <td>66</td>\n",
       "      <td>51</td>\n",
       "      <td>0.58</td>\n",
       "      <td>0.75</td>\n",
       "      <td>0.58</td>\n",
       "    </tr>\n",
       "    <tr>\n",
       "      <th>920</th>\n",
       "      <td>Other special machines</td>\n",
       "      <td>Civil engineering</td>\n",
       "      <td>38</td>\n",
       "      <td>51</td>\n",
       "      <td>66</td>\n",
       "      <td>0.75</td>\n",
       "      <td>0.58</td>\n",
       "      <td>0.58</td>\n",
       "    </tr>\n",
       "    <tr>\n",
       "      <th>334</th>\n",
       "      <td>Digital communication</td>\n",
       "      <td>Telecommunications</td>\n",
       "      <td>21</td>\n",
       "      <td>37</td>\n",
       "      <td>31</td>\n",
       "      <td>0.57</td>\n",
       "      <td>0.68</td>\n",
       "      <td>0.57</td>\n",
       "    </tr>\n",
       "    <tr>\n",
       "      <th>1059</th>\n",
       "      <td>Telecommunications</td>\n",
       "      <td>Digital communication</td>\n",
       "      <td>21</td>\n",
       "      <td>31</td>\n",
       "      <td>37</td>\n",
       "      <td>0.68</td>\n",
       "      <td>0.57</td>\n",
       "      <td>0.57</td>\n",
       "    </tr>\n",
       "  </tbody>\n",
       "</table>\n",
       "</div>"
      ],
      "text/plain": [
       "                               tech_1                           tech_2  Cpp  Mcp_x  Mcp_y  kpi  kpj  phi\n",
       "424          Environmental technology            Materials, metallurgy   27     38     45 0.71 0.60 0.60\n",
       "656             Materials, metallurgy         Environmental technology   27     45     38 0.60 0.71 0.60\n",
       "188              Chemical engineering            Materials, metallurgy   28     48     45 0.58 0.62 0.58\n",
       "649             Materials, metallurgy             Chemical engineering   28     45     48 0.62 0.58 0.58\n",
       "676             Materials, metallurgy  Thermal processes and apparatus   26     45     43 0.58 0.60 0.58\n",
       "1137  Thermal processes and apparatus            Materials, metallurgy   26     43     45 0.60 0.58 0.58\n",
       "230                 Civil engineering           Other special machines   38     66     51 0.58 0.75 0.58\n",
       "920            Other special machines                Civil engineering   38     51     66 0.75 0.58 0.58\n",
       "334             Digital communication               Telecommunications   21     37     31 0.57 0.68 0.57\n",
       "1059               Telecommunications            Digital communication   21     31     37 0.68 0.57 0.57"
      ]
     },
     "execution_count": 18,
     "metadata": {},
     "output_type": "execute_result"
    }
   ],
   "source": [
    "# Show most proximate technologies\n",
    "dfp_cppt.sort_values(by=['phi'],ascending=False)[0:10]"
   ]
  },
  {
   "cell_type": "markdown",
   "metadata": {},
   "source": [
    "You can use density regressions as well here to predict technological diversification of countries.\n",
    "\n"
   ]
  },
  {
   "cell_type": "markdown",
   "metadata": {},
   "source": [
    "## Product space\n",
    "\n"
   ]
  },
  {
   "cell_type": "markdown",
   "metadata": {},
   "source": [
    "### Overview\n",
    "\n"
   ]
  },
  {
   "cell_type": "markdown",
   "metadata": {},
   "source": [
    "We now have a measure of similarity between products (and patents), which is the core of the product space.\n",
    "\n",
    "[https://atlas.cid.harvard.edu/explore/network?country=114&year=2018&productClass=HS&product=undefined&startYear=undefined&target=Product&partner=undefined](https://atlas.cid.harvard.edu/explore/network?country=114&year=2018&productClass=HS&product=undefined&startYear=undefined&target=Product&partner=undefined)\n",
    "\n",
    "![img](/Users/admin/Dropbox/proj/org_zhtml_projects/product-space-eci-workshop/imgs/product_space_atlas_website.png)\n",
    "\n",
    "![img](https://www.dropbox.com/s/izag1xf28yldanf/product_space_atlas_website.png?dl=1)\n",
    "\n",
    "Below we will explore the product space using Python. You can then directly manipulate the product space and visualize selectively if not possible in the Atlas interface (e.g. only products exported to certain countries).\n",
    "\n",
    "The Github repo for this is available at [https://github.com/matteha/py-productspace](https://github.com/matteha/py-productspace).\n",
    "\n",
    "What we need is information on:\n",
    "\n",
    "-   Edges (ties) between nodes\n",
    "    \n",
    "    Ties between nodes represent the product proximity calculated above. Each product pair has a proximity value, but visualizing all ties, however, would result in a major &ldquo;hairball&rdquo;.\n",
    "    \n",
    "    To determine which of the ties to visualize in the product space, a &rsquo;maximum spanning tree algorithm&rsquo; is used (to make sure all nodes are connected directly or indirectly) in conjunction with a certain proximity threshold (0.55 minimum conditional probability). The details can be found in the Supplementary Material of Hidalgo et al. (2007) at [https://science.sciencemag.org/content/suppl/2007/07/26/317.5837.482.DC1](https://science.sciencemag.org/content/suppl/2007/07/26/317.5837.482.DC1).\n",
    "    \n",
    "    The data on the ties of nodes is available in the Atlas data repository at:\n",
    "    [https://dataverse.harvard.edu/file.xhtml?persistentId=doi:10.7910/DVN/FCDZBN/QSEETD&version=1.1](https://dataverse.harvard.edu/file.xhtml?persistentId=doi:10.7910/DVN/FCDZBN/QSEETD&version=1.1)\n",
    "    \n",
    "    We can directly load it into Python using the link below (temporarily for this session, when using Harvard&rsquo;s dataverse you&rsquo;d need to sign a short User Agreement form so you can&rsquo;t load data directly from a URL):\n",
    "    \n",
    "    [https://www.dropbox.com/s/r601tjoulq1denf/network_hs92_4digit.json?dl=1](https://www.dropbox.com/s/r601tjoulq1denf/network_hs92_4digit.json?dl=1)\n",
    "\n",
    "-   Position of nodes\n",
    "    -   Each node is a product\n",
    "    \n",
    "    -   To position them in the product space, Hidalgo et al. (2007) used a spring embedding algorithm (which positions the nodes in such a way that there are as few crossing ties as possible, using physical simulations with force-directed algorithms), followed by hand-crafting the outcome to further visually separate distinct &rsquo;clusters&rsquo; of products.\n",
    "        \n",
    "        The data on the position of nodes (x, y coordinates) is in the same file as the one above with the data on ties (network<sub>hs92</sub><sub>4digit.json</sub>).\n",
    "        \n",
    "        We will use this fixed layout for now (James and Yang will deal with different ways to visualize multi-dimensional data in 2D/3D, e.g. with machine learning, UMAP).\n",
    "\n",
    "-   Size of nodes\n",
    "    \n",
    "    The size in the product space represents the total $ in world trade, but one can also use other attributes of nodes (e.g. if nodes are industries, the size could be total employment).\n",
    "\n",
    "-   Color of nodes\n",
    "    \n",
    "    In the product space the node color represents major product groups (e.g. Agriculture, Chemicals) following the Leamer classification. The node coloring data is available in the Atlas data repository at:\n",
    "    [https://dataverse.harvard.edu/dataverse/atlas?q=&types=files&sort=dateSort&order=desc&page=1](https://dataverse.harvard.edu/dataverse/atlas?q=&types=files&sort=dateSort&order=desc&page=1)\n",
    "    \n",
    "    We can directly load it into Python using the link below (again, temporary for this session):\n",
    "    \n",
    "    [https://www.dropbox.com/s/rlm8hu4pq0nkg63/hs4_hex_colors_intl_atlas.csv?dl=1](https://www.dropbox.com/s/rlm8hu4pq0nkg63/hs4_hex_colors_intl_atlas.csv?dl=1)\n",
    "\n"
   ]
  },
  {
   "cell_type": "markdown",
   "metadata": {},
   "source": [
    "### Product space in Python\n",
    "\n"
   ]
  },
  {
   "cell_type": "markdown",
   "metadata": {},
   "source": [
    "#### Function to create product space\n",
    "\n"
   ]
  },
  {
   "cell_type": "markdown",
   "metadata": {},
   "source": [
    "The function below creates the product space. It uses the &rsquo;networkx&rsquo; package.\n",
    "\n"
   ]
  },
  {
   "cell_type": "code",
   "execution_count": 19,
   "metadata": {},
   "outputs": [
    {
     "name": "stdout",
     "output_type": "stream",
     "text": [
      "defined product space function, ready to plot\n"
     ]
    }
   ],
   "source": [
    "def create_product_space(df_plot_dataframe=None,\n",
    "                         df_plot_node_col=None,\n",
    "                         df_node_size_col=None):\n",
    "\n",
    "    # No legend, not properly coded yet\n",
    "    show_legend = 0\n",
    "\n",
    "    # Copy dataframe so original won't be overwritten\n",
    "    df_plot =  df_plot_dataframe.copy()\n",
    "\n",
    "    NORMALIZE_NODE_SIZE = 1\n",
    "    if NORMALIZE_NODE_SIZE == 1:\n",
    "\n",
    "        \"\"\"\n",
    "        The distribution of export values is highly skewed, which makes it hard to visualize\n",
    "        them properly (certain products will overshadow the rest of the network).\n",
    "\n",
    "\n",
    "        We create a new size column below in which we normalize the export values.\n",
    "        \"\"\"\n",
    "\n",
    "        ### Normalize node size (0.1 to 1)\n",
    "\n",
    "        def normalize_col(dft,col,minsize=0.1,maxsize=1):\n",
    "            \"\"\"\n",
    "            Normalizes column values with largest and smallest values capped at min at max\n",
    "            For use in networkx\n",
    "\n",
    "            returns pandas column\n",
    "            \"\"\"\n",
    "\n",
    "            alpha = maxsize-minsize\n",
    "            Xl = dft[dft[col]>0][col].quantile(0.10)\n",
    "            Xh = dft[dft[col]>0][col].quantile(0.95)\n",
    "            dft['node_size'] = 0\n",
    "            dft.loc[ dft[col]>=Xh,'node_size'] = maxsize\n",
    "            dft.loc[ (dft[col]<=Xl) & (dft[col]!=0),'node_size'] = minsize\n",
    "            dft.loc[ (dft[col]<Xh) & (dft[col]>Xl),'node_size'] = ((alpha*(dft[col]-Xl))/(Xh-Xl))+(1-alpha)\n",
    "            dft.loc[ (dft[col]<Xh) & (dft[col]>0),'node_size'] = ((alpha*(dft[col]-Xl))/(Xh-Xl))+(1-alpha)\n",
    "\n",
    "            return dft['node_size']\n",
    "\n",
    "        df_plot['node_size'] = normalize_col(df_plot,df_node_size_col,minsize=0.1,maxsize=1)\n",
    "\n",
    "    ADD_COLORS_ATLAS = 1\n",
    "    if ADD_COLORS_ATLAS == 1:\n",
    "\n",
    "        # First add product codes from original file (full strings were used for illustrative purposes above but we need the actual codes to merge data from other sources, e.g. node colors)\n",
    "        df_plot = pd.merge(df_plot,df_orig[['product_name','product_code']].drop_duplicates(),how='left',on='product_name')\n",
    "        dft = pd.read_csv('https://www.dropbox.com/s/rlm8hu4pq0nkg63/hs4_hex_colors_intl_atlas.csv?dl=1')\n",
    "\n",
    "        # Transform product_code into int (accounts for missing in pandas, if necessary)\n",
    "        # keep only numeric product_codes (this drops 'unspecified' as well as services for now;\n",
    "        # - as the latter needs a separate color classification)\n",
    "        df_plot = df_plot[df_plot['product_code'].astype(str).str.isnumeric()]\n",
    "        # -- also drop 9999 product code; unknown\n",
    "        df_plot = df_plot[df_plot['product_code'].astype(str)!='9999']\n",
    "        # -- to allow merge, rename and transform both variables into int\n",
    "        dft['hs4'] = dft['hs4'].astype(int)\n",
    "        df_plot['product_code'] = df_plot['product_code'].astype(int)\n",
    "        if 'color' in df_plot.columns:\n",
    "            df_plot.drop(['color'],axis=1,inplace=True,errors='ignore')\n",
    "        df_plot = pd.merge(df_plot,dft[['hs4','color']],how='left',left_on='product_code',right_on='hs4')\n",
    "        # drop column merged from dft\n",
    "        df_plot.drop(['hs4'],axis=1,inplace=True,errors='ignore')\n",
    "\n",
    "        # CREATE_LEGEND = 1\n",
    "        # if CREATE_LEGEND == 1:\n",
    "        #     # Atlas classification products\n",
    "        #     df_temp = pd.read_csv('https://raw.githubusercontent.com/cid-harvard/classifications/master/product/HS/IntlAtlas/out/hs92_atlas.csv')\n",
    "        #     df_temp.rename(columns={'Unnamed: 0': 'internal_code'}, inplace=True)\n",
    "        #     # -- keep sections\n",
    "        #     df_temp1 = df_temp[df_temp['level']=='section'].copy()\n",
    "        #     # -- keep 4 digit\n",
    "        #     df_temp2 = df_temp[df_temp['level']=='2digit'].copy()\n",
    "        #     # -- keep 4 digit\n",
    "        #     df_temp3 = df_temp[df_temp['level']=='4digit'].copy()\n",
    "        #     # -- merge parent id of parent id of 4 digits (= 2digit)\n",
    "        #     # ---- remake to float\n",
    "        #     df_temp3['parent_id'] = df_temp3['parent_id'].astype(object)\n",
    "        #     df_temp2['internal_code'] = df_temp2['internal_code'].astype(object)\n",
    "        #     df_temp3t = pd.merge(df_temp3,df_temp2[['internal_code','parent_id']],how='left',left_on='parent_id',right_on='internal_code',indicator=True)\n",
    "        #     # -- now merge parent_id_y to internal code of df_temp1\n",
    "        #     df_temp3t.drop(['_merge'],axis=1,inplace=True)\n",
    "        #     df_temp3t2 = pd.merge(df_temp3t,df_temp1[['internal_code','name']],how='left',left_on='parent_id_y',right_on='internal_code',indicator=True)\n",
    "        #     # keep only relevant columns\n",
    "        #     df_temp4 = df_temp3t2[['code','name_x','name_y']]\n",
    "        #     df_temp5 = df_temp4[['code','name_y']]\n",
    "        #     df_temp5.rename(columns={'code': 'product'}, inplace=True)\n",
    "        #     df_temp5.rename(columns={'name_y': 'name_sector_atlas'}, inplace=True)\n",
    "        #     # drop XXXX / services (not in product space)\n",
    "        #     drop_categories = ['XXXX','unspecified','travel','transport','ict','financial']\n",
    "        #     df_temp5 = df_temp5[ ~(df_temp5['product'].isin(drop_categories))]\n",
    "\n",
    "        #     # add to df_temp_plot\n",
    "        #     df_temp_plott = df_plot.copy()\n",
    "        #     df_temp_plott['product_code'] = df_temp_plott['product_code'].astype(float)\n",
    "        #     df_temp5['product'] = df_temp5['product'].astype(float)\n",
    "        #     df_temp_plot3 = pd.merge(df_temp_plott,df_temp5,how='left',left_on='product_code',right_on='product')\n",
    "        #     df_temp_plot3.drop_duplicates(subset='color',inplace=True)\n",
    "        #     df_temp_plot3 = df_temp_plot3[['color','name_sector_atlas']]\n",
    "\n",
    "        #     # create color dict for legend\n",
    "        #     color_dict = {}\n",
    "        #     df_temp_plot3.reset_index(inplace=True,drop=True)\n",
    "        #     for ind, row in df_temp_plot3.iterrows():\n",
    "        #         color_dict[row['name_sector_atlas']] = row['color']\n",
    "\n",
    "        #     \"\"\"\n",
    "        #     def build_legend(data):\n",
    "        #         # Build a legend for matplotlib plt from dict\n",
    "        #         legend_elements = []\n",
    "        #         for key in data:\n",
    "        #             legend_elements.append(Line2D([0], [0], marker='o', color='w', label=key,\n",
    "        #                                             markerfacecolor=data[key], markersize=10))\n",
    "        #         return legend_elements\n",
    "        #     fig,ax = plt.subplots(1)\n",
    "        #     #ax.add_patch(rect) # Add the patch to the Axes\n",
    "        #     legend_elements = build_legend(color_dict)\n",
    "        #     ax.legend(handles=legend_elements, loc='upper left')\n",
    "        #     plt.show()\n",
    "        #     \"\"\"\n",
    "\n",
    "    ADD_NODE_POSITIONS_ATLAS = 1\n",
    "    if ADD_NODE_POSITIONS_ATLAS == 1:\n",
    "\n",
    "        # Load position of nodes (x, y coordinates of nodes from original Atlas file)\n",
    "        import urllib.request, json\n",
    "        with urllib.request.urlopen(\"https://www.dropbox.com/s/r601tjoulq1denf/network_hs92_4digit.json?dl=1\") as url:\n",
    "            networkjs = json.loads(url.read().decode())\n",
    "\n",
    "    CREATE_NETWORKX_OBJECT_AND_PLOT = 1\n",
    "    if CREATE_NETWORKX_OBJECT_AND_PLOT == 1:\n",
    "\n",
    "        # Convert json into python list and dictionary\n",
    "        nodes = []\n",
    "        nodes_pos = {}\n",
    "        for x in networkjs['nodes']:\n",
    "            nodes.append(int(x['id']))\n",
    "            nodes_pos[int(x['id'])] = (int(x['x']),-int(x['y']/1.5))\n",
    "\n",
    "        # Define product space edge list (based on strength from the json)\n",
    "        edges = []\n",
    "        for x in networkjs['edges']:\n",
    "            if x['strength'] > 1 or 1 == 1:\n",
    "                edges.append((int(x['source']),int(x['target'])))\n",
    "        dfe = pd.DataFrame(edges)\n",
    "        dfe.rename(columns={0: 'src'}, inplace=True)\n",
    "        dfe.rename(columns={1: 'trg'}, inplace=True)\n",
    "\n",
    "        # Only select edges of nodes that are also present in product space\n",
    "        dfe2 = pd.DataFrame(np.append(dfe['src'].values,dfe['trg'].values)) # (some products may not be in there)\n",
    "        dfe2.drop_duplicates(inplace=True)\n",
    "        dfe2.rename(columns={0: 'node'}, inplace=True)\n",
    "        dfn2 = pd.merge(df_plot,dfe2,how='left',left_on=df_plot_node_col,right_on='node',indicator=True)\n",
    "\n",
    "        # Drop products from this dataframe that are not in product space\n",
    "        dfn2 = dfn2[dfn2['_merge']=='both']\n",
    "\n",
    "        # Create networkx objects in Python\n",
    "\n",
    "        # G object = products that will be plotted\n",
    "        G=nx.from_pandas_edgelist(dfn2,'product_code','product_code')\n",
    "\n",
    "        # G2 object = all nodes and edges from the original product space\n",
    "        # - Those that are not plotted will be gray in the background,\n",
    "        # - e.g. products for which there is no info\n",
    "        G2=nx.from_pandas_edgelist(dfe,'src','trg')\n",
    "\n",
    "        # Add node attributes to networkx objects\n",
    "        # - Create a 'present' variable which indicates that these products are present in product space,\n",
    "        # - as not all products in product space are present in the data to be plotted\n",
    "        # - (e.g. because we could filter only to plot products with more than >$40 million in trade)\n",
    "        df_plot['present'] = 1\n",
    "        ATTRIBUTES = ['node_size'] + ['color'] + ['present']\n",
    "        for ATTRIBUTE in ATTRIBUTES:\n",
    "            dft = df_plot[[df_plot_node_col,ATTRIBUTE]]\n",
    "            dft['count'] = 1\n",
    "            dft = dft.groupby([df_plot_node_col,ATTRIBUTE],as_index=False)['count'].sum()\n",
    "            #** drop if missing , and drop duplicates\n",
    "            dft.dropna(inplace=True)\n",
    "            dft.drop(['count'],axis=1,inplace=True)\n",
    "            dft.drop_duplicates(subset=[df_plot_node_col,ATTRIBUTE],inplace=True)\n",
    "            dft.set_index(df_plot_node_col,inplace=True)\n",
    "            dft_dict = dft[ATTRIBUTE].to_dict()\n",
    "            for i in sorted(G.nodes()):\n",
    "                try:\n",
    "                    #G.node[i][ATTRIBUTE] = dft_dict[i]\n",
    "                    G.nodes[i][ATTRIBUTE] = dft_dict[i]\n",
    "                except Exception:\n",
    "                    #G.node[i][ATTRIBUTE] = 'Missing'\n",
    "                    G.nodes[i][ATTRIBUTE] = 'Missing'\n",
    "            for i in sorted(G2.nodes()):\n",
    "                try:\n",
    "                    #G2.node[i][ATTRIBUTE] = dft_dict[i]\n",
    "                    G2.nodes[i][ATTRIBUTE] = dft_dict[i]\n",
    "                except Exception:\n",
    "                    #G2.node[i][ATTRIBUTE] = 'Missing'\n",
    "                    G2.nodes[i][ATTRIBUTE] = 'Missing'\n",
    "\n",
    "        # Cross-check that attributes have been added correctly\n",
    "        # nx.get_node_attributes(G2,df_color)\n",
    "        # nx.get_node_attributes(G,df_color)\n",
    "\n",
    "        # Create color + size lists which networkx uses for plotting\n",
    "        groups = set(nx.get_node_attributes(G2,'color').values())\n",
    "        mapping = dict(zip(sorted(groups),count()))\n",
    "        nodes = G.nodes()\n",
    "        nodes2 = G2.nodes()\n",
    "        #colorsl = [G.node[n]['color'] for n in nodes]\n",
    "        colorsl = [G.nodes[n]['color'] for n in nodes]\n",
    "        #colorsl2 = [G2.node[n]['color'] for n in nodes2]\n",
    "        colorsl2 = [G2.nodes[n]['color'] for n in nodes2]\n",
    "        SIZE_VARIABLE = 'node_size'\n",
    "        #sizesl = [G.node[n][SIZE_VARIABLE] for n in nodes]\n",
    "        sizesl = [G.nodes[n][SIZE_VARIABLE] for n in nodes]\n",
    "        # Adjust value below to increase the PLOTTED size of nodes, depending on the resolution of the final plot\n",
    "        # (e.g. if you want to zoom in into the product space and thus set a higher resolution, you may want to set this higher)\n",
    "        #sizesl2 = [G.node[n]['node_size']*350 for n in nodes]\n",
    "        sizesl2 = [G.nodes[n]['node_size']*350 for n in nodes]\n",
    "\n",
    "        # Create matplotlib object to draw the product space\n",
    "        f = plt.figure(1,figsize=(20,20))\n",
    "        ax = f.add_subplot(1,1,1)\n",
    "\n",
    "        # turn axes off\n",
    "        plt.axis('off')\n",
    "\n",
    "        # set white background\n",
    "        f.set_facecolor('white')\n",
    "\n",
    "        # draw full product space in background, transparent with small node_size\n",
    "        nx.draw_networkx(G2,nodes_pos, node_color='gray',ax=ax,node_size=10,with_labels=False,alpha=0.1)\n",
    "\n",
    "        # draw the data fed in to the product space\n",
    "        nx.draw_networkx(G,nodes_pos, node_color=colorsl,ax=ax,node_size=sizesl2,with_labels=False,alpha=1)\n",
    "\n",
    "        # save file\n",
    "        # plt.savefig(output_dir_image)\n",
    "\n",
    "        # show the plot\n",
    "        plt.show()\n",
    "\n",
    "        # if show_legend == 1:\n",
    "        #     # show legend as well\n",
    "        #     def build_legend(data):\n",
    "        #         # Build a legend for matplotlib plt from dict\n",
    "        #         legend_elements = []\n",
    "        #         for key in data:\n",
    "        #             legend_elements.append(Line2D([0], [0], marker='o', color='w', label=key,\n",
    "        #                                             markerfacecolor=data[key], markersize=10))\n",
    "        #         return legend_elements\n",
    "        #     fig,ax = plt.subplots(1)\n",
    "        #     #ax.add_patch(rect) # Add the patch to the Axes\n",
    "        #     legend_elements = build_legend(color_dict)\n",
    "        #     ax.legend(handles=legend_elements, loc='upper left')\n",
    "        #     plt.show()\n",
    "\n",
    "print('defined product space function, ready to plot')"
   ]
  },
  {
   "cell_type": "markdown",
   "metadata": {},
   "source": [
    "#### Run function from github url / local file directly\n",
    "\n"
   ]
  },
  {
   "cell_type": "code",
   "execution_count": 20,
   "metadata": {},
   "outputs": [
    {
     "name": "stdout",
     "output_type": "stream",
     "text": [
      "product space code imported\n"
     ]
    },
    {
     "ename": "NameError",
     "evalue": "name 'execfile' is not defined",
     "output_type": "error",
     "traceback": [
      "\u001b[0;31m---------------------------------------------------------------------------\u001b[0m",
      "\u001b[0;31mNameError\u001b[0m                                 Traceback (most recent call last)",
      "Input \u001b[0;32mIn [20]\u001b[0m, in \u001b[0;36m<cell line: 7>\u001b[0;34m()\u001b[0m\n\u001b[1;32m      5\u001b[0m exec(r\u001b[38;5;241m.\u001b[39mcontent)\n\u001b[1;32m      6\u001b[0m \u001b[38;5;28mprint\u001b[39m(\u001b[38;5;124m'\u001b[39m\u001b[38;5;124mproduct space code imported\u001b[39m\u001b[38;5;124m'\u001b[39m)\n\u001b[0;32m----> 7\u001b[0m \u001b[43mexecfile\u001b[49m(\u001b[38;5;124m'\u001b[39m\u001b[38;5;124m/Users/admin/Dropbox/proj/git_clones/py-productspace/create_product_space_v2.py\u001b[39m\u001b[38;5;124m'\u001b[39m)\n\u001b[1;32m      8\u001b[0m \u001b[38;5;28mprint\u001b[39m(\u001b[38;5;124m\"\u001b[39m\u001b[38;5;124mRAN LOCAL FILE\u001b[39m\u001b[38;5;124m\"\u001b[39m)\n",
      "\u001b[0;31mNameError\u001b[0m: name 'execfile' is not defined"
     ]
    }
   ],
   "source": [
    "import requests\n",
    "url = 'https://raw.githubusercontent.com/cid-harvard/py-productspace/master/create_product_space_v2.py'\n",
    "r = requests.get(url)\n",
    "#print(r.content)\n",
    "exec(r.content)\n",
    "print('product space code imported')\n",
    "execfile('/Users/admin/Dropbox/proj/git_clones/py-productspace/create_product_space_v2.py')\n",
    "print(\"RAN LOCAL FILE\")"
   ]
  },
  {
   "cell_type": "markdown",
   "metadata": {},
   "source": [
    "#### Visualizing data in the product space\n",
    "\n"
   ]
  },
  {
   "cell_type": "markdown",
   "metadata": {},
   "source": [
    "First we select the country we which to visualize. We&rsquo;ll search for Saudi Arabia below, using the &rsquo;audi&rsquo; string to find out the spelling of the country in the dataset, and we input that country name when defining the dataframe of the product space (&rsquo;df<sub>ps</sub>&rsquo;).\n",
    "\n"
   ]
  },
  {
   "cell_type": "code",
   "execution_count": null,
   "metadata": {},
   "outputs": [],
   "source": [
    "# Find out what 'country_name corresponds to Saudi Arabia\n",
    "STRING = 'audi'\n",
    "df_rca[df_rca['country_name'].str.contains(STRING)][['country_name']].drop_duplicates()\n",
    "# result: Saudi Arabia'"
   ]
  },
  {
   "cell_type": "markdown",
   "metadata": {},
   "source": [
    "##### Country, RCA, year, export value selections\n",
    "\n"
   ]
  },
  {
   "cell_type": "markdown",
   "metadata": {},
   "source": [
    "Next we define what trade properties of Saudi Arabia we want to visualize. The example below visualizes specialiation in 2005 (year=2005, RCAcpt>1) of only those products with at least 40 million in trade value.\n",
    "\n",
    "This data preparation happens outside of the product space function so you can inspect the dataframe before plotting.\n",
    "\n"
   ]
  },
  {
   "cell_type": "code",
   "execution_count": null,
   "metadata": {},
   "outputs": [],
   "source": [
    "# Select country\n",
    "COUNTRY_STRING = 'Saudi Arabia'\n",
    "df_ps = df_rca[df_rca['country_name']==COUNTRY_STRING].copy()\n",
    "\n",
    "# Cross-check\n",
    "if df_ps.shape[0] == 0:\n",
    "    print('Country string set above does not exist in data, typed correctly?')\n",
    "    STOP\n",
    "\n",
    "# Select year\n",
    "df_ps = df_ps[df_ps['year']==2005].copy()\n",
    "\n",
    "# Select RCA > 1\n",
    "df_ps = df_ps[df_ps['RCAcpt']>1]\n",
    "\n",
    "# Keep only relevant columns\n",
    "df_ps = df_ps[['product_name','product_code','export_value']]\n",
    "\n",
    "# Keep only products with minimum value threshold\n",
    "exports_min_threshold = 40000000\n",
    "df_ps = df_ps[df_ps['export_value']>exports_min_threshold]\n",
    "\n",
    "# Show resulting dataframe\n",
    "df_ps.sample(n=5)\n",
    "\n",
    "# Save file\n",
    "df_ps.to_csv(f'~/Dropbox/df_product_space.csv',index=False, encoding='utf-8')\n",
    "print('saved')\n",
    "\n",
    "print('ready to plot in product space')"
   ]
  },
  {
   "cell_type": "code",
   "execution_count": null,
   "metadata": {},
   "outputs": [],
   "source": [
    "# Plot in the product space\n",
    "create_product_space(df_plot_dataframe=df_ps,\n",
    "                     df_plot_node_col='product_code',\n",
    "                     df_node_size_col='export_value',\n",
    "                     )"
   ]
  },
  {
   "cell_type": "markdown",
   "metadata": {},
   "source": [
    "##### Product space with legend\n",
    "\n"
   ]
  },
  {
   "cell_type": "markdown",
   "metadata": {},
   "source": [
    "Below is a legend of the product space. There&rsquo;s also a &rsquo;show legend&rsquo; option in the &rsquo;create product space&rsquo; function but this option needs to be updated.\n",
    "\n",
    "![img](https://www.dropbox.com/s/lf4lf8ktqahnovg/Selection_032.png?dl=1)\n",
    "\n",
    "To see exactly what node represents what product, use the Atlas for now by hovering with the mouse over a node:\n",
    "\n",
    "[https://atlas.cid.harvard.edu/explore/network?country=186&year=2018&productClass=HS&product=undefined&startYear=undefined&target=Product&partner=undefined](https://atlas.cid.harvard.edu/explore/network?country=186&year=2018&productClass=HS&product=undefined&startYear=undefined&target=Product&partner=undefined)\n",
    "\n",
    "(This can also be implemented through Python by exporting to html instead of as an image, but not implemented above yet)\n",
    "\n"
   ]
  },
  {
   "cell_type": "markdown",
   "metadata": {},
   "source": [
    "## -----------&#x2013;&#x2014; Break: Excercise 1 ------------------\n",
    "\n"
   ]
  },
  {
   "cell_type": "markdown",
   "metadata": {},
   "source": [
    "### What product does Ukraine export most in 1995? (excluding services such as &rsquo;transport&rsquo;, &rsquo;ict&rsquo; etc)\n",
    "\n"
   ]
  },
  {
   "cell_type": "code",
   "execution_count": null,
   "metadata": {},
   "outputs": [],
   "source": []
  },
  {
   "cell_type": "markdown",
   "metadata": {},
   "source": [
    "### What products is Ukraine specialized in in 1995 and 2005 and how much do they export of these?\n",
    "\n"
   ]
  },
  {
   "cell_type": "code",
   "execution_count": null,
   "metadata": {},
   "outputs": [],
   "source": []
  },
  {
   "cell_type": "markdown",
   "metadata": {},
   "source": [
    "### Which product is most related to the product &rsquo;Stainless steel wire&rsquo;?\n",
    "\n"
   ]
  },
  {
   "cell_type": "code",
   "execution_count": null,
   "metadata": {},
   "outputs": [],
   "source": []
  },
  {
   "cell_type": "markdown",
   "metadata": {},
   "source": [
    "### Plot Ukraine in the product space in 1995.\n",
    "\n"
   ]
  },
  {
   "cell_type": "markdown",
   "metadata": {},
   "source": [
    "How would you characterize Ukraine&rsquo;s position in the product space?\n",
    "\n"
   ]
  },
  {
   "cell_type": "code",
   "execution_count": null,
   "metadata": {},
   "outputs": [],
   "source": []
  },
  {
   "cell_type": "markdown",
   "metadata": {},
   "source": [
    "### Plot Ukraine in the product space in 2015.\n",
    "\n"
   ]
  },
  {
   "cell_type": "markdown",
   "metadata": {},
   "source": [
    "Do you notice a difference with 1995?\n",
    "\n"
   ]
  },
  {
   "cell_type": "code",
   "execution_count": null,
   "metadata": {},
   "outputs": [],
   "source": []
  },
  {
   "cell_type": "markdown",
   "metadata": {},
   "source": [
    "### Plot your own country across different years in the product space. Do the results make sense? Do you notice any patterns?\n",
    "\n"
   ]
  },
  {
   "cell_type": "code",
   "execution_count": null,
   "metadata": {},
   "outputs": [],
   "source": []
  },
  {
   "cell_type": "markdown",
   "metadata": {},
   "source": [
    "## Predicting diversification of countries: densities / density regressions\n",
    "\n"
   ]
  },
  {
   "cell_type": "markdown",
   "metadata": {},
   "source": [
    "Shreyas will cover this.\n",
    "\n"
   ]
  },
  {
   "cell_type": "markdown",
   "metadata": {},
   "source": [
    "## Calculating Economic Complexity / Product Complexity\n",
    "\n"
   ]
  },
  {
   "cell_type": "markdown",
   "metadata": {},
   "source": [
    "We know from the product space and density regressions how products are related to one another and how that matters for diversification of countries.\n",
    "\n",
    "The next step is to look at which parts of the product space are most interesting to ultimately reach / diversify into. Generally complex products are located in the center of the product space, and countries with a higher economic complexity tend to have higher economic growth.\n",
    "\n",
    "![img](imgs/complex_products_in_product_space.png)\n",
    "\n",
    "![img](https://www.dropbox.com/s/a231jw76yocjkkr/complex_products_in_product_space.png?dl=1)\n",
    "\n",
    "Recall from the lecture that the economic complexity index (ECI) and product complexity index (PCI) measures are derived from an iterative method of reflections algorithm on country diversity and product ubiquity (Hidalgo Hausmann 2009), or finding the eigenvalues of a country-product matrix (Mealy et al. 2019)\n",
    "\n",
    "![img](/Users/admin/Dropbox/proj/org_zhtml_projects/product-space-eci-workshop/imgs/countries_products_eci.png)\n",
    "\n",
    "![img](https://www.dropbox.com/s/dte4vwgk4tvj3rd/countries_products_eci.png?dl=1)\n",
    "\n",
    "The STATA package to calculate this - by Sebastian Bustos and Muhammed Yildirim - is available at:\n",
    "\n",
    "[https://github.com/cid-harvard/ecomplexity](https://github.com/cid-harvard/ecomplexity)\n",
    "\n",
    "The Python package to calculate this - by Shreyas Gadgin Matha - is available at [https://github.com/cid-harvard/py-ecomplexity](https://github.com/cid-harvard/py-ecomplexity)\n",
    "\n",
    "(One can also directly download the PCI value for every product from the Atlas data repository - the ECI of a country is the mean of the PCI values of the products it has a comparative advantage in.)\n",
    "\n"
   ]
  },
  {
   "cell_type": "markdown",
   "metadata": {},
   "source": [
    "### Using the &rsquo;py-ecomplexity&rsquo; package\n",
    "\n"
   ]
  },
  {
   "cell_type": "markdown",
   "metadata": {},
   "source": [
    "#### Installation\n",
    "\n"
   ]
  },
  {
   "cell_type": "markdown",
   "metadata": {},
   "source": [
    "One can install it by pointing pip (package-management system in Python) to the respective library, using the following command:\n",
    "\n"
   ]
  },
  {
   "cell_type": "code",
   "execution_count": null,
   "metadata": {},
   "outputs": [],
   "source": [
    "!pip install ecomplexity\n",
    "print('installed py-ecomplexity')"
   ]
  },
  {
   "cell_type": "markdown",
   "metadata": {},
   "source": [
    "#### Usage\n",
    "\n"
   ]
  },
  {
   "cell_type": "markdown",
   "metadata": {},
   "source": [
    "We will again use again the original trade dataset (df<sub>orig</sub>), below.\n",
    "\n"
   ]
  },
  {
   "cell_type": "code",
   "execution_count": null,
   "metadata": {},
   "outputs": [],
   "source": [
    "from ecomplexity import ecomplexity\n",
    "from ecomplexity import proximity\n",
    "\n",
    "# To use py-ecomplexity, specify the following columns\n",
    "trade_cols = {'time':'year',\n",
    "              'loc':'country_name',\n",
    "              'prod':'product_name',\n",
    "              'val':'export_value'}\n",
    "              \n",
    "# Then run the command\n",
    "print('calculating ecomplexity')\n",
    "df_ec = ecomplexity(df_orig, trade_cols)\n",
    "print('finished calculating')\n",
    "\n",
    "# Keep selected columns\n",
    "df_ec = df_ec[['country_name',\n",
    "               'product_name',\n",
    "               'product_code',\n",
    "               'export_value',\n",
    "               'year',\n",
    "               'pci',\n",
    "               'eci']]\n",
    "\n",
    "# Show results\n",
    "df_ec.sample(n=10)"
   ]
  },
  {
   "cell_type": "markdown",
   "metadata": {},
   "source": [
    "### Complexity weighted by destination (example: Ukraine)\n",
    "\n"
   ]
  },
  {
   "cell_type": "markdown",
   "metadata": {},
   "source": [
    "You can also calculate economic complexity by destination.\n",
    "\n",
    "In a paper with Frank Neffke and Ernesto Lopez-Cordova we did this to explore opportunities for Ukraine (to connect to European value chains):\n",
    "\n",
    "[https://growthlab.cid.harvard.edu/publications/assessing-ukraines-role-european-value-chains-gravity-equation-cum-economic](https://growthlab.cid.harvard.edu/publications/assessing-ukraines-role-european-value-chains-gravity-equation-cum-economic)\n",
    "\n",
    "(Using the ECI by destination we found that highly complex products from Ukraine in the 2000s were typically destined for the Russian market, which was also one of the largest importers of products from Ukraine. The detoriation in relations with Russia led to a significant decline in exports there from 2011 onwards, resulting in Ukraine suffering from not only a quantitative but also a qualitative decline in exports).\n",
    "\n",
    "Hidalgo and Hausmann (2009) calculate complexity of country $c$ as the average PCI of all products for which ${RCA}_{cp}>1$.\n",
    "\n",
    "Below we define it as the weighted average PCI, where weights are given by the value of country $c$’s exports in each product. This allows us to define an ECI for separate export markets.\n",
    "\n",
    "Let $\\mathcal{M}$ be the set of countries that together constitute an export market (say, the EU&rsquo;s Single Market). Now, the destination-market specific ECI for country $c$ is defined as:\n",
    "\n",
    "\\begin{equation} \\label{e_ECI}\n",
    "ECI_{c}^{\\mathcal{M}}=\\sum \\limits_{p} \\frac{\\sum \\limits_{d \\in \\mathcal{M}} X^{d}_{op}}{\\sum \\limits_{d \\in \\mathcal{M}} X^{d}_{o}} {PCI}_{p}   \n",
    "\\end{equation}\n",
    "\n",
    "where $X_{op}^{d}$ represents the exports of product $p$ from exporter $o$ to importer $d$ and an omitted subscript indicates the summation over the omitted category: $X_{o}^{d}=\\sum \\limits_{p} X_{op}^{d}$.\n",
    "\n",
    "To calculate this, we need a dataset that has country exports **per destination** for this, which is available in the Growth Lab&rsquo;s DataVerse as:\n",
    "\n",
    "    \"country_partner_hsproduct4digit_years_2000_2016.csv\"\n",
    "\n",
    "As this file above is 16 gigabytes, we will load a version of it for only Ukraine&rsquo;s exports. This file has been processed outside of Google colab using the code below:\n",
    "\n",
    "    df = pd.read_csv('country_partner_hsproduct4digit_years_2000_2016.csv')\n",
    "    df = df[df['location_code_code']=='UKR')\n",
    "    df = df[df['export_value']>0]\n",
    "    df.to_csv('ukr_exports_per_destination.csv',index=False)\n",
    "\n",
    "    loaded\n",
    "\n",
    "      location_code  year  export_value partner_name_short_en partner_code  \\\n",
    "    0           UKR  2000             0        United Kingdom          GBR\n",
    "    1           UKR  2000           755           Netherlands          NLD\n",
    "    2           UKR  2000          2823               Hungary          HUN\n",
    "    3           UKR  2000         90251               Germany          DEU\n",
    "    4           UKR  2000          1861        Czech Republic          CZE\n",
    "    5           UKR  2000         17690    Russian Federation          RUS\n",
    "    6           UKR  2000         18906              Slovakia          SVK\n",
    "    7           UKR  2000             0           South Korea          KOR\n",
    "    8           UKR  2000           853                 Italy          ITA\n",
    "    9           UKR  2000          6244                Greece          GRC\n",
    "    \n",
    "      hs_product_code\n",
    "    0             101\n",
    "    1             101\n",
    "    2             101\n",
    "    3             101\n",
    "    4             101\n",
    "    5             101\n",
    "    6             101\n",
    "    7             101\n",
    "    8             101\n",
    "    9             101\n",
    "\n",
    "      location_code  year  export_value partner_name_short_en partner_code  \\\n",
    "    0           UKR  2000             0        United Kingdom          GBR\n",
    "    1           UKR  2000           755           Netherlands          NLD\n",
    "    2           UKR  2000          2823               Hungary          HUN\n",
    "    3           UKR  2000         90251               Germany          DEU\n",
    "    4           UKR  2000          1861        Czech Republic          CZE\n",
    "    5           UKR  2000         17690    Russian Federation          RUS\n",
    "    6           UKR  2000         18906              Slovakia          SVK\n",
    "    7           UKR  2000             0           South Korea          KOR\n",
    "    8           UKR  2000           853                 Italy          ITA\n",
    "    9           UKR  2000          6244                Greece          GRC\n",
    "    \n",
    "      hs_product_code\n",
    "    0             101\n",
    "    1             101\n",
    "    2             101\n",
    "    3             101\n",
    "    4             101\n",
    "    5             101\n",
    "    6             101\n",
    "    7             101\n",
    "    8             101\n",
    "    9             101\n",
    "\n",
    "      location_code  year  export_value partner_name_short_en partner_code  \\\n",
    "    0           UKR  2000             0        United Kingdom          GBR\n",
    "    1           UKR  2000           755           Netherlands          NLD\n",
    "    2           UKR  2000          2823               Hungary          HUN\n",
    "    3           UKR  2000         90251               Germany          DEU\n",
    "    4           UKR  2000          1861        Czech Republic          CZE\n",
    "    5           UKR  2000         17690    Russian Federation          RUS\n",
    "    6           UKR  2000         18906              Slovakia          SVK\n",
    "    7           UKR  2000             0           South Korea          KOR\n",
    "    8           UKR  2000           853                 Italy          ITA\n",
    "    9           UKR  2000          6244                Greece          GRC\n",
    "    \n",
    "      hs_product_code\n",
    "    0             101\n",
    "    1             101\n",
    "    2             101\n",
    "    3             101\n",
    "    4             101\n",
    "    5             101\n",
    "    6             101\n",
    "    7             101\n",
    "    8             101\n",
    "    9             101\n",
    "\n"
   ]
  },
  {
   "cell_type": "code",
   "execution_count": null,
   "metadata": {},
   "outputs": [],
   "source": [
    "print(f'loading data (from dropbox)')\n",
    "df_ukr = pd.read_csv('https://www.dropbox.com/s/megm8qzn3jcwnqz/ukr_exports_per_destination.csv?dl=1')\n",
    "print('loaded')\n",
    "\n",
    "# show 10 random rows\n",
    "df_ukr.sample(n=10)"
   ]
  },
  {
   "cell_type": "markdown",
   "metadata": {},
   "source": [
    "Merge PCI from products in 2000 into the dataframe (from df<sub>ec</sub> created in previous section using py-ecomplexity).\n",
    "\n"
   ]
  },
  {
   "cell_type": "code",
   "execution_count": null,
   "metadata": {},
   "outputs": [],
   "source": [
    "# -- to merge, add leading zeroes to dataset, e.g. 303 will be 0303\n",
    "df_ukr.loc[ (df_ukr['hs_product_code'].astype(str).str.len()==3), 'hs_product_code']= '0'+ df_ukr['hs_product_code'].astype(str)\n",
    "# -- remove leading / trailing spaces\n",
    "df_ukr['hs_product_code'] = df_ukr['hs_product_code'].astype(str).str.strip()\n",
    "# -- keep pcis from products in 2000\n",
    "df_pci = df_ec[df_ec['year']==2000][['product_code','pci']].drop_duplicates(subset='product_code')\n",
    "# -- merge pcis into the dataframe\n",
    "df_ukr = pd.merge(df_ukr,df_pci[['product_code','pci']],how='left',left_on=f'hs_product_code',right_on=f'product_code',indicator=True)\n",
    "# check merge 'left-only','right-only','both' counts (always do this to cross-check the merge)\n",
    "df_ukr['_merge'].value_counts()"
   ]
  },
  {
   "cell_type": "markdown",
   "metadata": {},
   "source": [
    "Now we calculate the ECI by destination.\n",
    "\n"
   ]
  },
  {
   "cell_type": "code",
   "execution_count": null,
   "metadata": {},
   "outputs": [],
   "source": [
    "def calc_ecimc(data,origin_col,destination_col,product_col,value_col,pci_col):\n",
    "    \"\"\"\n",
    "    Calculates economic complexity by destination (the weighted-by-exports-to-destination average PCI).\n",
    "\n",
    "    Needs a year-origin-destination-product-exportvalue-pci dataframe as input.\n",
    "\n",
    "    Returns:\n",
    "        pandas dataframe with ecim\n",
    "    \"\"\"\n",
    "    dft = data.copy()\n",
    "    dft['export_value_cot'] = dft.groupby([origin_col,destination_col])[value_col].transform('sum')\n",
    "    dft['pci_x_export'] = dft[pci_col] * dft[value_col]\n",
    "    dft['pci_x_export_sum'] = dft.groupby([origin_col,destination_col])['pci_x_export'].transform('sum')\n",
    "    dft['eciMc'] = dft['pci_x_export_sum']/dft['export_value_cot']\n",
    "    dft.drop_duplicates(subset=[origin_col,destination_col],inplace=True)\n",
    "    dft = dft[[origin_col,destination_col,'eciMc']]\n",
    "\n",
    "    return dft\n",
    "\n",
    "df_ukr_ecimc = calc_ecimc(data=df_ukr,\n",
    "                          origin_col='location_code',\n",
    "                          destination_col= 'partner_code',\n",
    "                          product_col='hs_product_code',\n",
    "                          value_col='export_value',\n",
    "                          pci_col = 'pci'\n",
    "                        )\n",
    "\n",
    "# Show 10 random rows\n",
    "df_ukr_ecimc.sample(n=20)"
   ]
  },
  {
   "cell_type": "markdown",
   "metadata": {},
   "source": [
    "#### Map\n",
    "\n"
   ]
  },
  {
   "cell_type": "markdown",
   "metadata": {},
   "source": [
    "Map economic complexity of Ukraine&rsquo;s exports by destination.\n",
    "\n"
   ]
  },
  {
   "cell_type": "code",
   "execution_count": null,
   "metadata": {},
   "outputs": [],
   "source": [
    "path = geopandas.datasets.get_path('naturalearth_lowres')\n",
    "world = geopandas.read_file(path)\n",
    "# merge complexities into it\n",
    "world = pd.merge(world,df_ukr_ecimc[df_ukr_ecimc['eciMc']<3],how='left',left_on=f'iso_a3',right_on='partner_code',indicator=True)\n",
    "fig, ax = plt.subplots(1, 1,figsize=(15,15))\n",
    "plt.axis('off')\n",
    "# https://matplotlib.org/stable/tutorials/colors/colormapnorms.html\n",
    "cmap = cm.coolwarm\n",
    "world.plot(column='eciMc', ax=ax, legend=True,cmap=cmap)\n",
    "plt.show()"
   ]
  },
  {
   "cell_type": "markdown",
   "metadata": {},
   "source": [
    "Highly complex products are typically destined for the Russian market, which is also one of the largest importers of products from Ukraine.\n",
    "\n",
    "The detoriation in relations with Russia led to a significant decline in exports there from 2011 onwards:\n",
    "![img](https://www.dropbox.com/s/xfl3gig3zxer0fm/total_exports_Ukraine_over_years.png?dl=1)\n",
    "\n",
    "As a result, Ukraine suffers from not only a quantitative but also a qualitative decline in exports. In the paper we explore new opportunities for Ukraine.\n",
    "\n",
    "Note: double-check political controversies when using geopandas!\n",
    "\n",
    "![img](https://www.dropbox.com/s/twtl8p5ksgfezm0/map_ukraine.png?dl=1)\n",
    "\n"
   ]
  },
  {
   "cell_type": "markdown",
   "metadata": {},
   "source": [
    "## -----------&#x2013;&#x2014; Break: Excercise 2 ------------------\n",
    "\n"
   ]
  },
  {
   "cell_type": "markdown",
   "metadata": {},
   "source": [
    "### What are countries with high complexity in 2015?\n",
    "\n"
   ]
  },
  {
   "cell_type": "code",
   "execution_count": null,
   "metadata": {},
   "outputs": [],
   "source": []
  },
  {
   "cell_type": "markdown",
   "metadata": {},
   "source": [
    "### Vice versa, what are countries with low complexity in 2015?\n",
    "\n"
   ]
  },
  {
   "cell_type": "code",
   "execution_count": null,
   "metadata": {},
   "outputs": [],
   "source": []
  },
  {
   "cell_type": "markdown",
   "metadata": {},
   "source": [
    "### What are products (PCI) with high complexity in 2015?\n",
    "\n"
   ]
  },
  {
   "cell_type": "code",
   "execution_count": null,
   "metadata": {},
   "outputs": [],
   "source": []
  },
  {
   "cell_type": "markdown",
   "metadata": {},
   "source": [
    "### Vice versa, what are products (PCI) with low complexity in 2015?\n",
    "\n"
   ]
  },
  {
   "cell_type": "code",
   "execution_count": null,
   "metadata": {},
   "outputs": [],
   "source": []
  },
  {
   "cell_type": "markdown",
   "metadata": {},
   "source": [
    "### Ukraine\n",
    "\n"
   ]
  },
  {
   "cell_type": "markdown",
   "metadata": {},
   "source": [
    "#### How did Ukraine&rsquo;s economic complexity evolve over time?\n",
    "\n"
   ]
  },
  {
   "cell_type": "code",
   "execution_count": null,
   "metadata": {},
   "outputs": [],
   "source": []
  },
  {
   "cell_type": "markdown",
   "metadata": {},
   "source": [
    "#### How does Ukraine&rsquo;s economic complexity in 2015 compare to other countries? Which countries have comparable economic complexity?\n",
    "\n"
   ]
  },
  {
   "cell_type": "code",
   "execution_count": null,
   "metadata": {},
   "outputs": [],
   "source": []
  },
  {
   "cell_type": "markdown",
   "metadata": {},
   "source": [
    "#### What are the most complex products that Ukraine exported in 2015?\n",
    "\n"
   ]
  },
  {
   "cell_type": "code",
   "execution_count": null,
   "metadata": {},
   "outputs": [],
   "source": []
  },
  {
   "cell_type": "markdown",
   "metadata": {},
   "source": [
    "## ---\n",
    "\n"
   ]
  },
  {
   "cell_type": "markdown",
   "metadata": {},
   "source": [
    "## ---\n",
    "\n"
   ]
  },
  {
   "cell_type": "markdown",
   "metadata": {},
   "source": [
    "## ---\n",
    "\n"
   ]
  },
  {
   "cell_type": "markdown",
   "metadata": {},
   "source": [
    "## Excercise answers\n",
    "\n"
   ]
  },
  {
   "cell_type": "markdown",
   "metadata": {},
   "source": [
    "### Excercise 1\n",
    "\n"
   ]
  },
  {
   "cell_type": "markdown",
   "metadata": {},
   "source": [
    "#### What product does Ukraine export most in 1995? (excluding services such as &rsquo;transport&rsquo;, &rsquo;ict&rsquo; etc)\n",
    "\n"
   ]
  },
  {
   "cell_type": "code",
   "execution_count": null,
   "metadata": {},
   "outputs": [],
   "source": [
    "df2 = df_orig[ (df_orig['country_name']=='Ukraine') & (df_orig['year'] == 2005) ].copy()\n",
    "df3 = df2.groupby(['product_code','product_name'],as_index=False)['export_value'].sum()\n",
    "df3.sort_values(by=['export_value'],ascending=False,inplace=True)\n",
    "df3[['product_name','export_value']][0:5]"
   ]
  },
  {
   "cell_type": "markdown",
   "metadata": {},
   "source": [
    "#### What products is Ukraine specialized in in 1995 and 2005 and how much do they export of these?\n",
    "\n"
   ]
  },
  {
   "cell_type": "code",
   "execution_count": null,
   "metadata": {},
   "outputs": [],
   "source": [
    "# 1995\n",
    "\n",
    "# Use the 'df_rca' dataframe for this\n",
    "\n",
    "df2 = df_rca[ (df_rca['year']==1995) & (df_rca['country_name']=='Ukraine')].copy()\n",
    "df2.sort_values(by=['RCAcpt'],ascending=False,inplace=True)\n",
    "df2[['product_name','RCAcpt','year','export_value']][0:5]\n",
    "\n",
    "# 2005\n",
    "df2 = df_rca[ (df_rca['year']==2005) & (df_rca['country_name']=='Ukraine')].copy()\n",
    "df2.sort_values(by=['RCAcpt'],ascending=False,inplace=True)\n",
    "df2[['product_name','RCAcpt','year','export_value']][0:5]"
   ]
  },
  {
   "cell_type": "markdown",
   "metadata": {},
   "source": [
    "#### Which product is most related to the product &rsquo;Stainless steel wire&rsquo;?\n",
    "\n"
   ]
  },
  {
   "cell_type": "code",
   "execution_count": null,
   "metadata": {},
   "outputs": [],
   "source": [
    "PRODUCT = 'Stainless steel wire'\n",
    "# select only this product\n",
    "dft = df_cppt[df_cppt['product_name_1']==PRODUCT].copy()\n",
    "# sort from high to low on phi\n",
    "dft.sort_values(by=['phi'],ascending=False,inplace=True)\n",
    "# show only first row\n",
    "dft[0:1]"
   ]
  },
  {
   "cell_type": "markdown",
   "metadata": {},
   "source": [
    "#### Plot Ukraine in the product space in 1995.\n",
    "\n"
   ]
  },
  {
   "cell_type": "markdown",
   "metadata": {},
   "source": [
    "How would you characterize Ukraine&rsquo;s position in the product space?\n",
    "\n"
   ]
  },
  {
   "cell_type": "code",
   "execution_count": null,
   "metadata": {},
   "outputs": [],
   "source": [
    "# Select country\n",
    "COUNTRY_STRING = 'Ukraine'\n",
    "df_ps = df_rca[df_rca['country_name']==COUNTRY_STRING].copy()\n",
    "\n",
    "# Cross-check\n",
    "if df_ps.shape[0] == 0:\n",
    "    print('Country string set above does not exist in data, typed correctly?')\n",
    "    STOP\n",
    "\n",
    "# Select year\n",
    "df_ps = df_ps[df_ps['year']==1995].copy()\n",
    "#df_ps = df_ps[df_ps['year']==2005].copy()\n",
    "\n",
    "# Select RCA > 1\n",
    "df_ps = df_ps[df_ps['RCAcpt']>1]\n",
    "\n",
    "# Keep only relevant columns\n",
    "df_ps = df_ps[['product_name','export_value']]\n",
    "\n",
    "# Keep only products with minimum value threshold\n",
    "exports_min_threshold = 40000000\n",
    "df_ps = df_ps[df_ps['export_value']>exports_min_threshold]\n",
    "\n",
    "# Show resulting dataframe\n",
    "df_ps.sample(n=5)\n",
    "\n",
    "# And finally plot in the product space\n",
    "create_product_space(df_plot_dataframe=df_ps,\n",
    "                     df_plot_node_col='product_code',\n",
    "                     df_node_size_col='export_value')\n",
    "print('plotted')"
   ]
  },
  {
   "cell_type": "markdown",
   "metadata": {},
   "source": [
    "#### Plot Ukraine in the product space in 2015.\n",
    "\n"
   ]
  },
  {
   "cell_type": "markdown",
   "metadata": {},
   "source": [
    "Do you notice a difference with 1995?\n",
    "\n"
   ]
  },
  {
   "cell_type": "code",
   "execution_count": null,
   "metadata": {},
   "outputs": [],
   "source": [
    "# Select country\n",
    "COUNTRY_STRING = 'Ukraine'\n",
    "df_ps = df_rca[df_rca['country_name']==COUNTRY_STRING].copy()\n",
    "\n",
    "# Cross-check\n",
    "if df_ps.shape[0] == 0:\n",
    "    print('Country string set above does not exist in data, typed correctly?')\n",
    "    STOP\n",
    "\n",
    "# Select year\n",
    "df_ps = df_ps[df_ps['year']==2015].copy()\n",
    "#df_ps = df_ps[df_ps['year']==2005].copy()\n",
    "\n",
    "# Select RCA > 1\n",
    "df_ps = df_ps[df_ps['RCAcpt']>1]\n",
    "\n",
    "# Keep only relevant columns\n",
    "df_ps = df_ps[['product_name','export_value']]\n",
    "\n",
    "# Keep only products with minimum value threshold\n",
    "exports_min_threshold = 40000000\n",
    "df_ps = df_ps[df_ps['export_value']>exports_min_threshold]\n",
    "\n",
    "# Show resulting dataframe\n",
    "df_ps.sample(n=5)\n",
    "\n",
    "# And finally plot in the product space\n",
    "create_product_space(df_plot_dataframe=df_ps,\n",
    "                     df_plot_node_col='product_code',\n",
    "                     df_node_size_col='export_value',)\n",
    "print('plotted')"
   ]
  },
  {
   "cell_type": "markdown",
   "metadata": {},
   "source": [
    "#### Plot your own country across different years in the product space. Do the results make sense? Do you notice any patterns?\n",
    "\n"
   ]
  },
  {
   "cell_type": "markdown",
   "metadata": {},
   "source": [
    "### Excercise 2:\n",
    "\n"
   ]
  },
  {
   "cell_type": "markdown",
   "metadata": {},
   "source": [
    "#### What are countries with high complexity in 2015?\n",
    "\n"
   ]
  },
  {
   "cell_type": "code",
   "execution_count": null,
   "metadata": {},
   "outputs": [],
   "source": [
    "qt_high = df_ec[df_ec['year']==2015]['eci'].quantile(0.95)\n",
    "df_ec[df_ec['eci']>qt_high][['country_name']].drop_duplicates()[0:10]"
   ]
  },
  {
   "cell_type": "markdown",
   "metadata": {},
   "source": [
    "#### Vice versa, what are countries with low complexity in 2015?\n",
    "\n"
   ]
  },
  {
   "cell_type": "code",
   "execution_count": null,
   "metadata": {},
   "outputs": [],
   "source": [
    "qt_low = df_ec[df_ec['year']==2015]['eci'].quantile(0.05)\n",
    "df_ec[df_ec['eci']<qt_low][['country_name']].drop_duplicates()[0:10]"
   ]
  },
  {
   "cell_type": "markdown",
   "metadata": {},
   "source": [
    "#### What are products (PCI) with high complexity in 2015?\n",
    "\n"
   ]
  },
  {
   "cell_type": "code",
   "execution_count": null,
   "metadata": {},
   "outputs": [],
   "source": [
    "qt_high = df_ec[df_ec['year']==2015]['pci'].quantile(0.95)\n",
    "df_ec[df_ec['pci']>qt_high][['product_name']].drop_duplicates()[0:10]"
   ]
  },
  {
   "cell_type": "markdown",
   "metadata": {},
   "source": [
    "#### Vice versa, what are products (PCI) with low complexity in 2015?\n",
    "\n"
   ]
  },
  {
   "cell_type": "code",
   "execution_count": null,
   "metadata": {},
   "outputs": [],
   "source": [
    "qt_low = df_ec[df_ec['year']==2015]['pci'].quantile(0.05)\n",
    "df_ec[df_ec['pci']<qt_low][['product_name','pci']].drop_duplicates()[0:10]"
   ]
  },
  {
   "cell_type": "markdown",
   "metadata": {},
   "source": [
    "#### Ukraine\n",
    "\n"
   ]
  },
  {
   "cell_type": "markdown",
   "metadata": {},
   "source": [
    "##### How did Ukraine&rsquo;s economic complexity evolve over time?\n",
    "\n"
   ]
  },
  {
   "cell_type": "code",
   "execution_count": null,
   "metadata": {},
   "outputs": [],
   "source": [
    "df = df_ec[df_ec['country_name']=='Ukraine']\n",
    "# drop duplicates of products\n",
    "df.drop_duplicates(subset=['country_name','year'],inplace=True)\n",
    "# keep relevant columns\n",
    "df = df[['country_name','year','eci']]\n",
    "# sort by ECI\n",
    "df.sort_values(by='year',ascending=False,inplace=True)\n",
    "df.reset_index(inplace=True,drop=True)\n",
    "df.plot(x='year', y='eci')"
   ]
  },
  {
   "cell_type": "markdown",
   "metadata": {},
   "source": [
    "##### How does Ukraine&rsquo;s economic complexity in 2015 compare to other countries? Which countries have comparable economic complexity?\n",
    "\n"
   ]
  },
  {
   "cell_type": "code",
   "execution_count": null,
   "metadata": {},
   "outputs": [],
   "source": [
    "df = df_ec[df_ec['year']==2015].copy()\n",
    "# drop duplicates of countries\n",
    "df = df[['country_name','eci']].drop_duplicates()\n",
    "# sort by ECI\n",
    "df.sort_values(by='eci',ascending=False,inplace=True)\n",
    "df.reset_index(inplace=True,drop=True)\n",
    "# create rank variable\n",
    "df['rank'] = df.index\n",
    "# get rank of Ukraine\n",
    "RANK_UKRAINE = df[df['country_name']=='Ukraine'].reset_index()['rank'][0]\n",
    "# check countries ranked directly above and below Ukraine\n",
    "df[ (df['rank']>RANK_UKRAINE-10) & (df['rank']<RANK_UKRAINE+10)]"
   ]
  },
  {
   "cell_type": "markdown",
   "metadata": {},
   "source": [
    "##### What are the most complex products that Ukraine exported in 2015?\n",
    "\n"
   ]
  },
  {
   "cell_type": "code",
   "execution_count": null,
   "metadata": {},
   "outputs": [],
   "source": [
    "df = df_ec[df_ec['country_name']=='Ukraine'].copy()\n",
    "df = df[df['year']==2015]\n",
    "df.sort_values(by=['pci'],ascending=False,inplace=True)\n",
    "df.reset_index(inplace=True,drop=True)\n",
    "df[0:10][['product_name','pci']]"
   ]
  }
 ],
 "metadata": {
  "kernelspec": {
   "display_name": "Python 3",
   "language": "python",
   "name": "python3"
  },
  "language_info": {
   "codemirror_mode": {
    "name": "ipython",
    "version": 3
   },
   "file_extension": ".py",
   "mimetype": "text/x-python",
   "name": "python",
   "nbconvert_exporter": "python",
   "pygments_lexer": "ipython3",
   "version": "3.9.13"
  },
  "org": null
 },
 "nbformat": 4,
 "nbformat_minor": 1
}
